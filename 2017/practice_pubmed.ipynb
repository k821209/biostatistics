{
 "cells": [
  {
   "cell_type": "code",
   "execution_count": 2,
   "metadata": {
    "collapsed": true
   },
   "outputs": [],
   "source": [
    "import spacy"
   ]
  },
  {
   "cell_type": "code",
   "execution_count": 3,
   "metadata": {
    "collapsed": true
   },
   "outputs": [],
   "source": [
    "from nltk import sent_tokenize"
   ]
  },
  {
   "cell_type": "code",
   "execution_count": 11,
   "metadata": {
    "collapsed": true
   },
   "outputs": [],
   "source": [
    "f  = open('./pubmed_result.txt')"
   ]
  },
  {
   "cell_type": "code",
   "execution_count": 12,
   "metadata": {
    "collapsed": true
   },
   "outputs": [],
   "source": [
    "fr = f.read()"
   ]
  },
  {
   "cell_type": "code",
   "execution_count": 20,
   "metadata": {},
   "outputs": [
    {
     "data": {
      "text/plain": [
       "['\\n1. Sci Rep. 2017 Nov 9;7(1):15196. doi: 10.1038/s41598-017-15566-4.',\n",
       " '1000-Year Quasi-Periodicity of Weak Monsoon Events in Temperate Northeast Asia\\nsince the Mid-Holocene.',\n",
       " 'Jo KN(1)(2), Yi S(3), Lee JY(4)(5), Woo KS(4), Cheng H(6)(7), Edwards LR(6), Kim \\nST(8).',\n",
       " \"Author information: \\n(1)Division of Geology and Geophysics, College of Natural Sciences, Kangwon\\nNational University, Chuncheon, Korea. kjo@kangwon.ac.kr.\\n(2)Critical zone Frontier Research Laboratory (CFRL), Kangwon National\\nUniversity, Chuncheon, Korea. kjo@kangwon.ac.kr.\\n(3)Korea Institute of Geoscience and Mineral Resources (KIGAM), Daejeon, Korea.\\n(4)Division of Geology and Geophysics, College of Natural Sciences, Kangwon\\nNational University, Chuncheon, Korea.\\n(5)Critical zone Frontier Research Laboratory (CFRL), Kangwon National\\nUniversity, Chuncheon, Korea.\\n(6)Department of Geology and Geophysics, University of Minnesota, Minneapolis,\\nUSA.\\n(7)Institute of Global Environmental Change, Xi'an Jiaotong University, Xi'an,\\nChina.\\n(8)School of Geography and Earth Sciences, McMaster University, Hamilton, Canada.\",\n",
       " 'The Holocene variability in the East Asian summer monsoon (EASM) based on\\nspeleothem \\xce\\xb4(18)O records has inconsistencies in timing, duration, and expression\\nof millennial-scale events among nearby regions, and even within the same cave.\\nHere, we present another stalagmite \\xce\\xb4(18)O record with multi-decadal time\\nresolution from the temperate Korean Peninsula (KP) for the last 5500 years in\\norder to compare with Holocene millennial-scale EASM events from Southeast Asia. \\nBased on our new stalagmite \\xce\\xb4(18)O record, millennial-scale events since the\\nmid-Holocene were successfully identified in the KP, representing a noticeable\\ncyclic pattern with a periodicity of around 1000 years. We propose that the\\nHolocene millennial-scale events are common hydroclimatic phenomena at least in\\nthe East Asian monsoon system. Meanwhile, the shorter periodicity of\\nmillennial-scale events than that of the North Atlantic region is likely to\\ndecouple the EASM system from the North Atlantic climate system. This observation\\nsuggests that weak EASM and North Atlantic Bond events may have been induced\\nindependently by direct solar activity (and then possible feedback) and ocean-ice\\nsheet dynamics, respectively, rather than simple propagation from the North\\nAtlantic to the EASM regions.',\n",
       " 'DOI: 10.1038/s41598-017-15566-4 \\nPMID: 29123205 ']"
      ]
     },
     "execution_count": 20,
     "metadata": {},
     "output_type": "execute_result"
    }
   ],
   "source": [
    "fr.split('\\n\\n\\n')[0].split('\\n\\n')"
   ]
  },
  {
   "cell_type": "code",
   "execution_count": 27,
   "metadata": {
    "collapsed": true
   },
   "outputs": [],
   "source": [
    "abstracts = []\n",
    "for each in fr.split('\\n\\n\\n'):\n",
    "    for n,l in enumerate(each.split('\\n\\n')):\n",
    "        key = \"Author information:\"\n",
    "        if l[0:len(key)] == key:\n",
    "            abstracts.append(each.split('\\n\\n')[n+1].replace('\\n',' '))\n",
    "        "
   ]
  },
  {
   "cell_type": "code",
   "execution_count": 32,
   "metadata": {},
   "outputs": [],
   "source": [
    "sentences = []\n",
    "for abstract in abstracts:\n",
    "    sentences += abstract.split('. ')"
   ]
  },
  {
   "cell_type": "code",
   "execution_count": 61,
   "metadata": {
    "collapsed": true
   },
   "outputs": [],
   "source": [
    "sp_en = spacy.load('en')"
   ]
  },
  {
   "cell_type": "code",
   "execution_count": 70,
   "metadata": {},
   "outputs": [
    {
     "data": {
      "text/plain": [
       "u'The Holocene variability in the East Asian summer monsoon (EASM) based on speleothem \\u03b4(18)O records has inconsistencies in timing, duration, and expression of millennial-scale events among nearby regions, and even within the same cave'"
      ]
     },
     "execution_count": 70,
     "metadata": {},
     "output_type": "execute_result"
    }
   ],
   "source": [
    "sentences[0].decode('utf8')"
   ]
  },
  {
   "cell_type": "code",
   "execution_count": 81,
   "metadata": {},
   "outputs": [],
   "source": [
    "def get_lemma(sentence):\n",
    "    d = sp_en(sentence.decode('utf8'))\n",
    "    return ' '.join([l.lemma_ for l in d])"
   ]
  },
  {
   "cell_type": "code",
   "execution_count": 83,
   "metadata": {},
   "outputs": [],
   "source": [
    "sentences_new = [get_lemma(x) for x in sentences]"
   ]
  },
  {
   "cell_type": "code",
   "execution_count": 84,
   "metadata": {
    "collapsed": true
   },
   "outputs": [],
   "source": [
    "x_bow_new = get_bow(sentences_new)"
   ]
  },
  {
   "cell_type": "code",
   "execution_count": 39,
   "metadata": {},
   "outputs": [],
   "source": [
    "def get_bow(sentences):\n",
    "    from sklearn.feature_extraction.text import CountVectorizer\n",
    "    cv = CountVectorizer(min_df=5, stop_words=\"english\")\n",
    "    x = cv.fit_transform(sentences)\n",
    "    return x.toarray()"
   ]
  },
  {
   "cell_type": "code",
   "execution_count": 41,
   "metadata": {},
   "outputs": [],
   "source": [
    "x_bow = get_bow(sentences)"
   ]
  },
  {
   "cell_type": "code",
   "execution_count": 42,
   "metadata": {},
   "outputs": [
    {
     "data": {
      "text/plain": [
       "(3163, 2023)"
      ]
     },
     "execution_count": 42,
     "metadata": {},
     "output_type": "execute_result"
    }
   ],
   "source": [
    "x_bow.shape"
   ]
  },
  {
   "cell_type": "code",
   "execution_count": 85,
   "metadata": {},
   "outputs": [
    {
     "data": {
      "text/plain": [
       "(3163, 1795)"
      ]
     },
     "execution_count": 85,
     "metadata": {},
     "output_type": "execute_result"
    }
   ],
   "source": [
    "x_bow_new.shape"
   ]
  },
  {
   "cell_type": "code",
   "execution_count": 43,
   "metadata": {
    "collapsed": true
   },
   "outputs": [],
   "source": [
    "from sklearn.decomposition import PCA"
   ]
  },
  {
   "cell_type": "code",
   "execution_count": 44,
   "metadata": {
    "collapsed": true
   },
   "outputs": [],
   "source": [
    "pca = PCA(n_components=2,random_state=0)"
   ]
  },
  {
   "cell_type": "code",
   "execution_count": 45,
   "metadata": {
    "collapsed": true
   },
   "outputs": [],
   "source": [
    "x_bow_pc = pca.fit_transform(x_bow)"
   ]
  },
  {
   "cell_type": "code",
   "execution_count": 46,
   "metadata": {},
   "outputs": [
    {
     "data": {
      "text/plain": [
       "(3163, 2)"
      ]
     },
     "execution_count": 46,
     "metadata": {},
     "output_type": "execute_result"
    }
   ],
   "source": [
    "x_bow_pc.shape"
   ]
  },
  {
   "cell_type": "code",
   "execution_count": 49,
   "metadata": {
    "collapsed": true
   },
   "outputs": [],
   "source": [
    "from sklearn.cluster import KMeans"
   ]
  },
  {
   "cell_type": "code",
   "execution_count": 50,
   "metadata": {
    "collapsed": true
   },
   "outputs": [],
   "source": [
    "km = KMeans(n_clusters=10,random_state=0)\n"
   ]
  },
  {
   "cell_type": "code",
   "execution_count": 51,
   "metadata": {
    "collapsed": true
   },
   "outputs": [],
   "source": [
    "cluster = km.fit_predict(x_bow_pc)"
   ]
  },
  {
   "cell_type": "code",
   "execution_count": 52,
   "metadata": {},
   "outputs": [
    {
     "data": {
      "text/plain": [
       "(3163, 2023)"
      ]
     },
     "execution_count": 52,
     "metadata": {},
     "output_type": "execute_result"
    }
   ],
   "source": [
    "x_bow.shape"
   ]
  },
  {
   "cell_type": "code",
   "execution_count": 53,
   "metadata": {},
   "outputs": [
    {
     "data": {
      "text/plain": [
       "(3163, 2)"
      ]
     },
     "execution_count": 53,
     "metadata": {},
     "output_type": "execute_result"
    }
   ],
   "source": [
    "x_bow_pc.shape"
   ]
  },
  {
   "cell_type": "code",
   "execution_count": 54,
   "metadata": {},
   "outputs": [
    {
     "data": {
      "text/plain": [
       "(3163,)"
      ]
     },
     "execution_count": 54,
     "metadata": {},
     "output_type": "execute_result"
    }
   ],
   "source": [
    "cluster.shape"
   ]
  },
  {
   "cell_type": "code",
   "execution_count": 47,
   "metadata": {
    "collapsed": true
   },
   "outputs": [],
   "source": [
    "%matplotlib inline\n",
    "import matplotlib.pyplot as plt"
   ]
  },
  {
   "cell_type": "code",
   "execution_count": 56,
   "metadata": {},
   "outputs": [
    {
     "data": {
      "text/plain": [
       "array([[-0.17382663, -0.150556  ],\n",
       "       [-0.20719218, -0.10901151],\n",
       "       [-0.21635766, -0.20575071],\n",
       "       ..., \n",
       "       [-0.21183965, -0.11912846],\n",
       "       [ 0.42636514, -0.07870533],\n",
       "       [ 0.45358167,  0.91599497]])"
      ]
     },
     "execution_count": 56,
     "metadata": {},
     "output_type": "execute_result"
    }
   ],
   "source": [
    "x_bow_pc"
   ]
  },
  {
   "cell_type": "code",
   "execution_count": 55,
   "metadata": {},
   "outputs": [
    {
     "data": {
      "text/plain": [
       "<matplotlib.collections.PathCollection at 0xb791310>"
      ]
     },
     "execution_count": 55,
     "metadata": {},
     "output_type": "execute_result"
    },
    {
     "data": {
      "image/png": "[encoded data removed]",
      "text/plain": [
       "<matplotlib.figure.Figure at 0x1660ae10>"
      ]
     },
     "metadata": {},
     "output_type": "display_data"
    }
   ],
   "source": [
    "plt.scatter(x_bow_pc[:,0],x_bow_pc[:,1],c=cluster)"
   ]
  },
  {
   "cell_type": "code",
   "execution_count": 23,
   "metadata": {},
   "outputs": [
    {
     "data": {
      "text/plain": [
       "[(0, 'a'), (1, 'b'), (2, 'c')]"
      ]
     },
     "execution_count": 23,
     "metadata": {},
     "output_type": "execute_result"
    }
   ],
   "source": [
    "list(enumerate(a))"
   ]
  },
  {
   "cell_type": "code",
   "execution_count": null,
   "metadata": {
    "collapsed": true
   },
   "outputs": [],
   "source": []
  },
  {
   "cell_type": "code",
   "execution_count": null,
   "metadata": {
    "collapsed": true
   },
   "outputs": [],
   "source": []
  },
  {
   "cell_type": "code",
   "execution_count": null,
   "metadata": {
    "collapsed": true
   },
   "outputs": [],
   "source": []
  },
  {
   "cell_type": "code",
   "execution_count": null,
   "metadata": {
    "collapsed": true
   },
   "outputs": [],
   "source": []
  },
  {
   "cell_type": "code",
   "execution_count": null,
   "metadata": {
    "collapsed": true
   },
   "outputs": [],
   "source": []
  }
 ],
 "metadata": {
  "kernelspec": {
   "display_name": "Python 2",
   "language": "python",
   "name": "python2"
  },
  "language_info": {
   "codemirror_mode": {
    "name": "ipython",
    "version": 2
   },
   "file_extension": ".py",
   "mimetype": "text/x-python",
   "name": "python",
   "nbconvert_exporter": "python",
   "pygments_lexer": "ipython2",
   "version": "2.7.13"
  }
 },
 "nbformat": 4,
 "nbformat_minor": 2
}
