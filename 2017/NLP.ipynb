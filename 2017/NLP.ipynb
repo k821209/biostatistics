{
 "cells": [
  {
   "cell_type": "markdown",
   "metadata": {},
   "source": [
    "# 텍스트 마이닝 실습\n",
    "## 영화 리뷰 감성 분석\n",
    "\n",
    "http://ai.stanford.edu/~amaas/data/sentiment/aclImdb_v1.tar.gz\n",
    "\n",
    "* 목표 : 영화 리뷰 문장을 인식해서 긍정반응인지 부정반응인지를 판단하자. "
   ]
  },
  {
   "cell_type": "code",
   "execution_count": 1,
   "metadata": {
    "collapsed": true
   },
   "outputs": [],
   "source": [
    "%matplotlib inline\n",
    "from sklearn.datasets import load_files\n",
    "import matplotlib.pyplot as plt"
   ]
  },
  {
   "cell_type": "code",
   "execution_count": 5,
   "metadata": {
    "collapsed": true
   },
   "outputs": [],
   "source": [
    "# 훈련데이터세트 확보 \n",
    "reviews_train = load_files('../aclImdb/train/')\n",
    "X_train,Y_train = reviews_train.data, reviews_train.target\n",
    "X_train, Y_train = X_train[0:1000], Y_train[0:1000]"
   ]
  },
  {
   "cell_type": "code",
   "execution_count": 6,
   "metadata": {},
   "outputs": [
    {
     "name": "stdout",
     "output_type": "stream",
     "text": [
      "Full of (then) unknown actors TSF is a great big cuddly romp of a film.<br /><br />The idea of a bunch of bored teenagers ripping off the local sink factory is odd enough, but add in the black humour that Forsyth & Co are so good at and your in for a real treat.<br /><br />The comatose van driver by itself worth seeing, and the canal side chase is just too real to be anything but funny.<br /><br />And for anyone who lived in Glasgow it's a great \"Oh I know where that is\" film.\n"
     ]
    }
   ],
   "source": [
    "print X_train[0]"
   ]
  },
  {
   "cell_type": "code",
   "execution_count": 7,
   "metadata": {
    "collapsed": true
   },
   "outputs": [],
   "source": [
    "X_train = [x.replace(b\"<br />\", b\" \") for x in X_train]"
   ]
  },
  {
   "cell_type": "code",
   "execution_count": 8,
   "metadata": {},
   "outputs": [
    {
     "name": "stdout",
     "output_type": "stream",
     "text": [
      "Full of (then) unknown actors TSF is a great big cuddly romp of a film.  The idea of a bunch of bored teenagers ripping off the local sink factory is odd enough, but add in the black humour that Forsyth & Co are so good at and your in for a real treat.  The comatose van driver by itself worth seeing, and the canal side chase is just too real to be anything but funny.  And for anyone who lived in Glasgow it's a great \"Oh I know where that is\" film.\n"
     ]
    }
   ],
   "source": [
    "print X_train[0]"
   ]
  },
  {
   "cell_type": "code",
   "execution_count": 9,
   "metadata": {
    "collapsed": true
   },
   "outputs": [],
   "source": [
    "# 테스트 데이터세트 확보 \n",
    "reviews_test = load_files('../aclImdb/test/')\n",
    "X_test,Y_test = reviews_test.data, reviews_test.target\n",
    "X_test = [x.replace(b\"<br />\", b\" \") for x in X_test]"
   ]
  },
  {
   "cell_type": "code",
   "execution_count": 10,
   "metadata": {
    "collapsed": true
   },
   "outputs": [],
   "source": [
    "trial_texts = X_train[0:3]"
   ]
  },
  {
   "cell_type": "code",
   "execution_count": 11,
   "metadata": {},
   "outputs": [
    {
     "data": {
      "text/plain": [
       "['Full of (then) unknown actors TSF is a great big cuddly romp of a film.  The idea of a bunch of bored teenagers ripping off the local sink factory is odd enough, but add in the black humour that Forsyth & Co are so good at and your in for a real treat.  The comatose van driver by itself worth seeing, and the canal side chase is just too real to be anything but funny.  And for anyone who lived in Glasgow it\\'s a great \"Oh I know where that is\" film.',\n",
       " \"Amount of disappointment I am getting these days seeing movies like Partner, Jhoom Barabar and now, Heyy Babyy is gonna end my habit of seeing first day shows.  The movie is an utter disappointment because it had the potential to become a laugh riot only if the d\\xc3\\xa9butant director, Sajid Khan hadn't tried too many things. Only saving grace in the movie were the last thirty minutes, which were seriously funny elsewhere the movie fails miserably. First half was desperately been tried to look funny but wasn't. Next 45 minutes were emotional and looked totally artificial and illogical.  OK, when you are out for a movie like this you don't expect much logic but all the flaws tend to appear when you don't enjoy the movie and thats the case with Heyy Babyy. Acting is good but thats not enough to keep one interested.  For the positives, you can take hot actresses, last 30 minutes, some comic scenes, good acting by the lead cast and the baby. Only problem is that these things do not come together properly to make a good movie.  Anyways, I read somewhere that It isn't a copy of Three men and a baby but I think it would have been better if it was.\",\n",
       " 'The future, we are told, are what we make of it. Philip K. Dick did not want to take that chance, so he wrote many many many short stories about the future of man and where we, as a society, were headed. Blade Runner, Total Recall, Paycheck, Screamers, and Minority Report are all short stories written by Dick about the future that have been turned into a movie, and most have a less than enthusiastic view of where we are headed. In Minority Report, we see the effects of predicting the future to the point of crimes are prevented by arresting murderers before they kill. If that does not appear logical, there is a quick little scene early in the movie that addresses those concerns, and on the surface makes sense. Tom Cruise plays the Washington, DC pre-crime chief, John Anderton, who runs the investigators who rely on 3 scientifically engineered beings who can see murders before they happen. The system, of course, raises civil liberty issues, but seems to work perfectly, that is until Anderton is fingered for a murder. The rest of the movie, Anderton tries to not only prove that he is innocent, but also that he was set up, possibly by an oily Department of Justice figure who is investigating Precrime before it goes national after an election, played by Colin Farrell. Directed by Steven Spielberg, Minority Report plays as both a \"Whodunnit?\" and a futuristic exercise of science fiction. Much time was spent on designing the Washington, DC of the 2050s, including cars that run on magnets, virtual reality stations, and much more throughout the film. The most interesting design is of the \"sick sticks\" used by cops to bring down criminals. The blueish tint given to the film also gives us a cold feeling, a future that is not as loving or as hospitable as the time we live in, another trait of a Dick story. A wonderful movie the works for both the crime buff and the science fiction fan.']"
      ]
     },
     "execution_count": 11,
     "metadata": {},
     "output_type": "execute_result"
    }
   ],
   "source": [
    "trial_texts"
   ]
  },
  {
   "cell_type": "code",
   "execution_count": 12,
   "metadata": {},
   "outputs": [
    {
     "name": "stdout",
     "output_type": "stream",
     "text": [
      "number of features : 339\n",
      "(3, 339)\n"
     ]
    }
   ],
   "source": [
    "from sklearn.feature_extraction.text import CountVectorizer\n",
    "\n",
    "cv = CountVectorizer()\n",
    "cv.fit(trial_texts)\n",
    "print \"number of features :\",len(cv.vocabulary_) # 총 226개의 단어를 특성으로 간주. \n",
    "\n",
    "bow = cv.transform(trial_texts) # bag of words 를 가져오자 \n",
    "print bow.toarray().shape # 총 266개의 단어 특성의 count를 각 문장에 대해 할당 "
   ]
  },
  {
   "cell_type": "code",
   "execution_count": 13,
   "metadata": {},
   "outputs": [
    {
     "data": {
      "text/plain": [
       "array([ 0.6119403 ,  0.65      ,  0.615     ,  0.59      ,  0.59798995])"
      ]
     },
     "execution_count": 13,
     "metadata": {},
     "output_type": "execute_result"
    }
   ],
   "source": [
    "cv = CountVectorizer()\n",
    "X_train_bow = cv.fit_transform(X_train)\n",
    "\n",
    "from sklearn.model_selection import cross_val_score\n",
    "from sklearn.linear_model import LogisticRegression\n",
    "scores = cross_val_score(LogisticRegression(),X_train_bow,Y_train,cv=5)\n",
    "\n",
    "scores"
   ]
  },
  {
   "cell_type": "code",
   "execution_count": 14,
   "metadata": {},
   "outputs": [
    {
     "data": {
      "text/plain": [
       "array([ 0.58208955,  0.61      ,  0.585     ,  0.565     ,  0.57286432])"
      ]
     },
     "execution_count": 14,
     "metadata": {},
     "output_type": "execute_result"
    }
   ],
   "source": [
    "cv = CountVectorizer(min_df=5)\n",
    "X_train_bow = cv.fit_transform(X_train)\n",
    "\n",
    "from sklearn.model_selection import cross_val_score\n",
    "from sklearn.linear_model import LogisticRegression\n",
    "scores = cross_val_score(LogisticRegression(),X_train_bow,Y_train,cv=5)\n",
    "\n",
    "scores"
   ]
  },
  {
   "cell_type": "code",
   "execution_count": 15,
   "metadata": {
    "collapsed": true
   },
   "outputs": [],
   "source": [
    "# 불용어를 제거해보자. \n",
    "# 불용어 : 문장의 뜻을 추론하는데 별 쓸모없는 단어들 \n",
    "# 예 : is, often, eight, all, amount 등등 "
   ]
  },
  {
   "cell_type": "code",
   "execution_count": 16,
   "metadata": {
    "collapsed": true
   },
   "outputs": [],
   "source": [
    "from sklearn.feature_extraction.text import ENGLISH_STOP_WORDS"
   ]
  },
  {
   "cell_type": "code",
   "execution_count": 18,
   "metadata": {},
   "outputs": [
    {
     "data": {
      "text/plain": [
       "array([ 0.61691542,  0.62      ,  0.615     ,  0.605     ,  0.57286432])"
      ]
     },
     "execution_count": 18,
     "metadata": {},
     "output_type": "execute_result"
    }
   ],
   "source": [
    "cv = CountVectorizer(min_df=5,stop_words='english') # 불용어의 목록을 직접 디자인 가능하다. \n",
    "X_train_bow = cv.fit_transform(X_train)\n",
    "\n",
    "from sklearn.model_selection import cross_val_score\n",
    "from sklearn.linear_model import LogisticRegression\n",
    "scores = cross_val_score(LogisticRegression(),X_train_bow,Y_train,cv=5)\n",
    "\n",
    "scores"
   ]
  },
  {
   "cell_type": "code",
   "execution_count": 69,
   "metadata": {},
   "outputs": [
    {
     "name": "stdout",
     "output_type": "stream",
     "text": [
      "0.691\n",
      "{'C': 0.001}\n",
      "3428\n"
     ]
    }
   ],
   "source": [
    "cv = CountVectorizer(min_df=5,stop_words='english') # 불용어의 목록을 직접 디자인 가능하다. \n",
    "X_train_bow = cv.fit_transform(X_train)\n",
    "\n",
    "from sklearn.model_selection import cross_val_score, GridSearchCV\n",
    "from sklearn.linear_model import LogisticRegression\n",
    "param_grid = {'C':[0.001,0.01,0.1,1,10]}\n",
    "grid = GridSearchCV(LogisticRegression(),param_grid,cv=5)\n",
    "grid.fit(X_train_bow,Y_train)\n",
    "\n",
    "print grid.best_score_\n",
    "\n",
    "print grid.best_params_\n",
    "\n",
    "print len(cv.get_feature_names())"
   ]
  },
  {
   "cell_type": "code",
   "execution_count": 25,
   "metadata": {},
   "outputs": [],
   "source": [
    "# 표제어 추출 알고리즘 (동사원형을 추출해줌.) 을 사용해서 BOW을 만들어보자. \n",
    "# pip install spacy \n",
    "# python -m spacy download en\n",
    "\n",
    "import spacy\n",
    "sp_en = spacy.load('en')\n",
    "doc_sp = sp_en(unicode(X_train[0]))"
   ]
  },
  {
   "cell_type": "code",
   "execution_count": 50,
   "metadata": {},
   "outputs": [
    {
     "data": {
      "text/plain": [
       "u'full of ( then ) unknown actor tsf be a great big cuddly romp of a film .   the idea of a bunch of bore teenager rip off the local sink factory be odd enough , but add in the black humour that forsyth & co be so good at and -PRON- in for a real treat .   the comatose van driver by -PRON- worth see , and the canal side chase be just too real to be anything but funny .   and for anyone who live in glasgow -PRON- have a great \" oh -PRON- know where that be \" film .'"
      ]
     },
     "execution_count": 50,
     "metadata": {},
     "output_type": "execute_result"
    }
   ],
   "source": [
    "# 표제어 추출을 한 결과\n",
    "' '.join([x.lemma_ for x in doc_sp])"
   ]
  },
  {
   "cell_type": "code",
   "execution_count": 47,
   "metadata": {},
   "outputs": [
    {
     "data": {
      "text/plain": [
       "'Full of (then) unknown actors TSF is a great big cuddly romp of a film.  The idea of a bunch of bored teenagers ripping off the local sink factory is odd enough, but add in the black humour that Forsyth & Co are so good at and your in for a real treat.  The comatose van driver by itself worth seeing, and the canal side chase is just too real to be anything but funny.  And for anyone who lived in Glasgow it\\'s a great \"Oh I know where that is\" film.'"
      ]
     },
     "execution_count": 47,
     "metadata": {},
     "output_type": "execute_result"
    }
   ],
   "source": [
    "# 인풋 문장\n",
    "X_train[0]"
   ]
  },
  {
   "cell_type": "code",
   "execution_count": 63,
   "metadata": {},
   "outputs": [],
   "source": [
    "# 표제어 추출을 하고, CountVectorize 해보자\n",
    "X_train_sp = []\n",
    "for sentence in X_train:\n",
    "    X_train_sp += [' '.join([x.lemma_ for x in sp_en(unicode(sentence.decode(\"utf8\")))])]"
   ]
  },
  {
   "cell_type": "code",
   "execution_count": 65,
   "metadata": {},
   "outputs": [
    {
     "data": {
      "text/plain": [
       "u'amount of disappointment -PRON- be get this day see movie like partner , jhoom barabar and now , heyy babyy be go to end -PRON- habit of see \\ufeff1 day show .   the movie be a utter disappointment because -PRON- have the potential to become a laugh riot only if the d\\xe9butant director , sajid khan have not try too many thing . only save grace in the movie be the last thirty minute , which be seriously funny elsewhere the movie fail miserably . first half be desperately be try to look funny but be not . next 45 minute be emotional and look totally artificial and illogical .   ok , when -PRON- be out for a movie like this -PRON- do not expect much logic but all the flaw tend to appear when -PRON- do not enjoy the movie and that s the case with heyy babyy . acting be good but that s not enough to keep one interest .   for the positive , -PRON- can take hot actress , last 30 minute , some comic scene , good act by the lead cast and the baby . only problem be that this thing do not come together properly to make a good movie .   anyways , -PRON- read somewhere that -PRON- be not a copy of three man and a baby but -PRON- think -PRON- would have be well if -PRON- be .'"
      ]
     },
     "execution_count": 65,
     "metadata": {},
     "output_type": "execute_result"
    }
   ],
   "source": [
    "X_train_sp[1]"
   ]
  },
  {
   "cell_type": "code",
   "execution_count": 70,
   "metadata": {},
   "outputs": [
    {
     "name": "stdout",
     "output_type": "stream",
     "text": [
      "0.691\n",
      "{'C': 0.001}\n",
      "2930\n"
     ]
    }
   ],
   "source": [
    "cv = CountVectorizer(min_df=5,stop_words='english') # 불용어의 목록을 직접 디자인 가능하다. \n",
    "X_train_bow = cv.fit_transform(X_train_sp)\n",
    "\n",
    "from sklearn.model_selection import cross_val_score, GridSearchCV\n",
    "from sklearn.linear_model import LogisticRegression\n",
    "param_grid = {'C':[0.001,0.01,0.1,1,10]}\n",
    "grid = GridSearchCV(LogisticRegression(),param_grid,cv=5)\n",
    "grid.fit(X_train_bow,Y_train)\n",
    "\n",
    "print grid.best_score_\n",
    "\n",
    "print grid.best_params_\n",
    "\n",
    "print len(cv.get_feature_names())"
   ]
  },
  {
   "cell_type": "code",
   "execution_count": null,
   "metadata": {
    "collapsed": true
   },
   "outputs": [],
   "source": []
  }
 ],
 "metadata": {
  "kernelspec": {
   "display_name": "Python [default]",
   "language": "python",
   "name": "python2"
  },
  "language_info": {
   "codemirror_mode": {
    "name": "ipython",
    "version": 2
   },
   "file_extension": ".py",
   "mimetype": "text/x-python",
   "name": "python",
   "nbconvert_exporter": "python",
   "pygments_lexer": "ipython2",
   "version": "2.7.13"
  }
 },
 "nbformat": 4,
 "nbformat_minor": 2
}
