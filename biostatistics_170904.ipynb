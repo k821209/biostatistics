{
 "cells": [
  {
   "cell_type": "markdown",
   "metadata": {},
   "source": [
    "# Basic of python languages"
   ]
  },
  {
   "cell_type": "markdown",
   "metadata": {},
   "source": [
    "**변수 (Variables) **\n",
    "\n",
    "* 변수의 이름은 뭐든 가능함.\n",
    "* 변수에는 변수값을 할당할 수 있음.\n",
    "* 변수값은 문자, 숫자, 자료형이 될 수 있음. # 자료형은 다음 챕터에서 배움."
   ]
  },
  {
   "cell_type": "code",
   "execution_count": 10,
   "metadata": {
    "collapsed": true
   },
   "outputs": [],
   "source": [
    "# 문자형 변수값\n",
    "name = \"Yang Jae Kang\" # string variable "
   ]
  },
  {
   "cell_type": "code",
   "execution_count": 11,
   "metadata": {},
   "outputs": [
    {
     "data": {
      "text/plain": [
       "'Yang Jae Kang'"
      ]
     },
     "execution_count": 11,
     "metadata": {},
     "output_type": "execute_result"
    }
   ],
   "source": [
    "name"
   ]
  },
  {
   "cell_type": "code",
   "execution_count": 12,
   "metadata": {
    "collapsed": true
   },
   "outputs": [],
   "source": [
    "# 숫자형 변수값 (정수)\n",
    "age = 36 # Integer variable"
   ]
  },
  {
   "cell_type": "code",
   "execution_count": 5,
   "metadata": {},
   "outputs": [
    {
     "data": {
      "text/plain": [
       "36"
      ]
     },
     "execution_count": 5,
     "metadata": {},
     "output_type": "execute_result"
    }
   ],
   "source": [
    "age"
   ]
  },
  {
   "cell_type": "code",
   "execution_count": 13,
   "metadata": {
    "collapsed": true
   },
   "outputs": [],
   "source": [
    "# 숫자형 변수값 (실수)\n",
    "height = 174.5 # float variable "
   ]
  },
  {
   "cell_type": "code",
   "execution_count": 14,
   "metadata": {},
   "outputs": [
    {
     "data": {
      "text/plain": [
       "174.5"
      ]
     },
     "execution_count": 14,
     "metadata": {},
     "output_type": "execute_result"
    }
   ],
   "source": [
    "height"
   ]
  },
  {
   "cell_type": "code",
   "execution_count": 8,
   "metadata": {},
   "outputs": [
    {
     "data": {
      "text/plain": [
       "str"
      ]
     },
     "execution_count": 8,
     "metadata": {},
     "output_type": "execute_result"
    }
   ],
   "source": [
    "# 변수값의 type이 메모리에 어떻게 저장되어있는지를  확인 할 수 있다.\n",
    "type(name)"
   ]
  },
  {
   "cell_type": "code",
   "execution_count": 9,
   "metadata": {},
   "outputs": [
    {
     "data": {
      "text/plain": [
       "int"
      ]
     },
     "execution_count": 9,
     "metadata": {},
     "output_type": "execute_result"
    }
   ],
   "source": [
    "type(age)"
   ]
  },
  {
   "cell_type": "code",
   "execution_count": 9,
   "metadata": {},
   "outputs": [
    {
     "data": {
      "text/plain": [
       "float"
      ]
     },
     "execution_count": 9,
     "metadata": {},
     "output_type": "execute_result"
    }
   ],
   "source": [
    "type(height)"
   ]
  },
  {
   "cell_type": "markdown",
   "metadata": {},
   "source": [
    "**data type (자료형)**\n",
    "\n",
    "* 변수들을 어떻게 묶어서 다루는지를 의미\n",
    "* list, tuple, dictionary, numpy array 등등 다양한 자료형이 있음 \n",
    "* list, dictionary, numpy array를 많이 쓴다.\n"
   ]
  },
  {
   "cell_type": "code",
   "execution_count": 16,
   "metadata": {},
   "outputs": [
    {
     "data": {
      "text/plain": [
       "['A', 'B', 'C', 'D']"
      ]
     },
     "execution_count": 16,
     "metadata": {},
     "output_type": "execute_result"
    }
   ],
   "source": [
    "# list 자료형\n",
    "# 1. 문자변수를 묶은 형태\n",
    "['A','B','C','D']"
   ]
  },
  {
   "cell_type": "code",
   "execution_count": 17,
   "metadata": {},
   "outputs": [
    {
     "data": {
      "text/plain": [
       "[1, 2, 3, 4]"
      ]
     },
     "execution_count": 17,
     "metadata": {},
     "output_type": "execute_result"
    }
   ],
   "source": [
    "# 2. 숫자변수를 묶은 형태\n",
    "[1,2,3,4]"
   ]
  },
  {
   "cell_type": "code",
   "execution_count": null,
   "metadata": {
    "collapsed": true
   },
   "outputs": [],
   "source": []
  },
  {
   "cell_type": "code",
   "execution_count": 10,
   "metadata": {
    "collapsed": true
   },
   "outputs": [],
   "source": [
    "names       = ['A','B','C','D']\n",
    "observation = [1,2,3,4,5,1,2,3,4,5,1,1,1,1,1,2,2,3,3,4,4]"
   ]
  },
  {
   "cell_type": "code",
   "execution_count": 11,
   "metadata": {
    "collapsed": true
   },
   "outputs": [],
   "source": [
    "mixed       =['A',1]"
   ]
  },
  {
   "cell_type": "markdown",
   "metadata": {},
   "source": [
    "# Iris data set\n",
    "\n",
    "* 붓꽃? 의 꽃 표현형 데이터 \n",
    "* 변수 : 품종(독립변수), 꽃받침 길이 (length), 꽃받침 폭 (width), 꽃잎 길이, 꽃잎 폭\n",
    "* 통계하시는 분들이 통계를 통한 식물분류를 목적으로 만들어놓으신 데이터, 지금도 기계학습 분야에서 교육용으로 쓰고 있다. \n",
    "* R. A. Fisher (1936). \"The use of multiple measurements in taxonomic problems\". Annals of Eugenics. 7 (2): 179–188.\n",
    "* https://en.wikipedia.org/wiki/Iris_flower_data_set\n",
    "\n",
    "\n"
   ]
  },
  {
   "cell_type": "markdown",
   "metadata": {},
   "source": [
    "![](./file_170904/sepal_petal.PNG)"
   ]
  },
  {
   "cell_type": "code",
   "execution_count": 2,
   "metadata": {
    "collapsed": true
   },
   "outputs": [],
   "source": [
    "# 엑셀에 담아준 iris 데이터를 파이선으로 열어보자 \n",
    "\n",
    "import pandas as pd \n",
    "df_iris = pd.read_excel('./file_170904/iris.xlsx')"
   ]
  },
  {
   "cell_type": "code",
   "execution_count": 3,
   "metadata": {},
   "outputs": [
    {
     "data": {
      "text/html": [
       "<div>\n",
       "<style>\n",
       "    .dataframe thead tr:only-child th {\n",
       "        text-align: right;\n",
       "    }\n",
       "\n",
       "    .dataframe thead th {\n",
       "        text-align: left;\n",
       "    }\n",
       "\n",
       "    .dataframe tbody tr th {\n",
       "        vertical-align: top;\n",
       "    }\n",
       "</style>\n",
       "<table border=\"1\" class=\"dataframe\">\n",
       "  <thead>\n",
       "    <tr style=\"text-align: right;\">\n",
       "      <th></th>\n",
       "      <th>Sepal length</th>\n",
       "      <th>Sepal width</th>\n",
       "      <th>Petal length</th>\n",
       "      <th>Petal width</th>\n",
       "      <th>Species</th>\n",
       "    </tr>\n",
       "  </thead>\n",
       "  <tbody>\n",
       "    <tr>\n",
       "      <th>0</th>\n",
       "      <td>4.3</td>\n",
       "      <td>3.0</td>\n",
       "      <td>1.1</td>\n",
       "      <td>0.1</td>\n",
       "      <td>I. setosa</td>\n",
       "    </tr>\n",
       "    <tr>\n",
       "      <th>1</th>\n",
       "      <td>4.4</td>\n",
       "      <td>2.9</td>\n",
       "      <td>1.4</td>\n",
       "      <td>0.2</td>\n",
       "      <td>I. setosa</td>\n",
       "    </tr>\n",
       "    <tr>\n",
       "      <th>2</th>\n",
       "      <td>4.4</td>\n",
       "      <td>3.0</td>\n",
       "      <td>1.3</td>\n",
       "      <td>0.2</td>\n",
       "      <td>I. setosa</td>\n",
       "    </tr>\n",
       "    <tr>\n",
       "      <th>3</th>\n",
       "      <td>4.4</td>\n",
       "      <td>3.2</td>\n",
       "      <td>1.3</td>\n",
       "      <td>0.2</td>\n",
       "      <td>I. setosa</td>\n",
       "    </tr>\n",
       "    <tr>\n",
       "      <th>4</th>\n",
       "      <td>4.5</td>\n",
       "      <td>2.3</td>\n",
       "      <td>1.3</td>\n",
       "      <td>0.3</td>\n",
       "      <td>I. setosa</td>\n",
       "    </tr>\n",
       "  </tbody>\n",
       "</table>\n",
       "</div>"
      ],
      "text/plain": [
       "   Sepal length  Sepal width  Petal length  Petal width    Species\n",
       "0           4.3          3.0           1.1          0.1  I. setosa\n",
       "1           4.4          2.9           1.4          0.2  I. setosa\n",
       "2           4.4          3.0           1.3          0.2  I. setosa\n",
       "3           4.4          3.2           1.3          0.2  I. setosa\n",
       "4           4.5          2.3           1.3          0.3  I. setosa"
      ]
     },
     "execution_count": 3,
     "metadata": {},
     "output_type": "execute_result"
    }
   ],
   "source": [
    "df_iris.head()"
   ]
  },
  {
   "cell_type": "code",
   "execution_count": 4,
   "metadata": {},
   "outputs": [
    {
     "data": {
      "text/plain": [
       "0          I. setosa\n",
       "1          I. setosa\n",
       "2          I. setosa\n",
       "3          I. setosa\n",
       "4          I. setosa\n",
       "5          I. setosa\n",
       "6          I. setosa\n",
       "7          I. setosa\n",
       "8          I. setosa\n",
       "9          I. setosa\n",
       "10         I. setosa\n",
       "11         I. setosa\n",
       "12         I. setosa\n",
       "13         I. setosa\n",
       "14         I. setosa\n",
       "15         I. setosa\n",
       "16         I. setosa\n",
       "17         I. setosa\n",
       "18         I. setosa\n",
       "19         I. setosa\n",
       "20     I. versicolor\n",
       "21      I. virginica\n",
       "22         I. setosa\n",
       "23         I. setosa\n",
       "24         I. setosa\n",
       "25         I. setosa\n",
       "26         I. setosa\n",
       "27         I. setosa\n",
       "28         I. setosa\n",
       "29         I. setosa\n",
       "           ...      \n",
       "119     I. virginica\n",
       "120    I. versicolor\n",
       "121    I. versicolor\n",
       "122    I. versicolor\n",
       "123    I. versicolor\n",
       "124    I. versicolor\n",
       "125     I. virginica\n",
       "126     I. virginica\n",
       "127     I. virginica\n",
       "128     I. virginica\n",
       "129     I. virginica\n",
       "130    I. versicolor\n",
       "131     I. virginica\n",
       "132     I. virginica\n",
       "133    I. versicolor\n",
       "134     I. virginica\n",
       "135     I. virginica\n",
       "136     I. virginica\n",
       "137    I. versicolor\n",
       "138     I. virginica\n",
       "139     I. virginica\n",
       "140     I. virginica\n",
       "141     I. virginica\n",
       "142     I. virginica\n",
       "143     I. virginica\n",
       "144     I. virginica\n",
       "145     I. virginica\n",
       "146     I. virginica\n",
       "147     I. virginica\n",
       "148     I. virginica\n",
       "Name: Species, Length: 149, dtype: object"
      ]
     },
     "execution_count": 4,
     "metadata": {},
     "output_type": "execute_result"
    }
   ],
   "source": [
    "df_iris['Species']"
   ]
  },
  {
   "cell_type": "code",
   "execution_count": 5,
   "metadata": {},
   "outputs": [
    {
     "data": {
      "text/plain": [
       "{u'I.\\xa0setosa', u'I.\\xa0versicolor', u'I.\\xa0virginica'}"
      ]
     },
     "execution_count": 5,
     "metadata": {},
     "output_type": "execute_result"
    }
   ],
   "source": [
    "set(df_iris['Species']) # https://en.wikipedia.org/wiki/Set_(mathematics) "
   ]
  },
  {
   "cell_type": "code",
   "execution_count": 6,
   "metadata": {
    "collapsed": true
   },
   "outputs": [],
   "source": [
    "setosa = list(set(df_iris['Species']))[0]\n",
    "versi = list(set(df_iris['Species']))[1]\n",
    "virgi = list(set(df_iris['Species']))[2]\n",
    "\n",
    "m = df_iris['Species'] == setosa\n",
    "setosa_pl = df_iris[m]['Petal length'] \n",
    "\n",
    "m = df_iris['Species'] == versi\n",
    "versi_pl  = df_iris[m]['Petal length']\n",
    "\n",
    "m = df_iris['Species'] == virgi\n",
    "virgi_pl  = df_iris[m]['Petal length']"
   ]
  },
  {
   "cell_type": "code",
   "execution_count": 8,
   "metadata": {
    "collapsed": true
   },
   "outputs": [],
   "source": [
    "from pyvttbl import Anova1way\n",
    "D=Anova1way()\n",
    "d = [list(setosa_pl),list(versi_pl),list(virgi_pl)]\n",
    "c = ['setosa','versi','virgi']\n",
    "D.run(d, conditions_list=c)"
   ]
  },
  {
   "cell_type": "code",
   "execution_count": 9,
   "metadata": {},
   "outputs": [
    {
     "name": "stdout",
     "output_type": "stream",
     "text": [
      "Anova: Single Factor on Measure\n",
      "\n",
      "SUMMARY\n",
      "Groups   Count     Sum     Average   Variance \n",
      "=============================================\n",
      "setosa      50    73.100     1.462      0.030 \n",
      "versi       50       213     4.260      0.221 \n",
      "virgi       49   271.500     5.541      0.305 \n",
      "\n",
      "O'BRIEN TEST FOR HOMOGENEITY OF VARIANCE\n",
      "Source of Variation     SS     df     MS       F       P-value    eta^2   Obs. power \n",
      "====================================================================================\n",
      "Treatments             1.963     2   0.982   10.691   4.647e-05   0.128        0.979 \n",
      "Error                 13.405   146   0.092                                           \n",
      "====================================================================================\n",
      "Total                 15.368   148                                                   \n",
      "\n",
      "ANOVA\n",
      "Source of Variation     SS      df      MS         F        P-value    eta^2   Obs. power \n",
      "=========================================================================================\n",
      "Treatments            431.887     2   215.944   1171.333   1.237e-90   0.941            1 \n",
      "Error                  26.916   146     0.184                                             \n",
      "=========================================================================================\n",
      "Total                 458.804   148                                                       \n",
      "\n",
      "POSTHOC MULTIPLE COMPARISONS\n",
      "\n",
      "Tukey HSD: Table of q-statistics\n",
      "         setosa     versi       virgi   \n",
      "=======================================\n",
      "setosa   0        45.616 **   66.497 ** \n",
      "versi             0           20.881 ** \n",
      "virgi                         0         \n",
      "=======================================\n",
      "  + p < .10 (q-critical[3, 146] = 2.92545157521)\n",
      "  * p < .05 (q-critical[3, 146] = 3.34891342901)\n",
      " ** p < .01 (q-critical[3, 146] = 4.18548169328)\n"
     ]
    }
   ],
   "source": [
    "print D"
   ]
  },
  {
   "cell_type": "code",
   "execution_count": 10,
   "metadata": {
    "collapsed": true
   },
   "outputs": [],
   "source": [
    "from scipy.stats import shapiro"
   ]
  },
  {
   "cell_type": "code",
   "execution_count": 12,
   "metadata": {},
   "outputs": [
    {
     "data": {
      "text/plain": [
       "(0.9549766182899475, 0.05481043830513954)"
      ]
     },
     "execution_count": 12,
     "metadata": {},
     "output_type": "execute_result"
    }
   ],
   "source": [
    "shapiro(setosa_pl)"
   ]
  },
  {
   "cell_type": "code",
   "execution_count": 13,
   "metadata": {},
   "outputs": [
    {
     "data": {
      "text/plain": [
       "(0.9660047888755798, 0.1584833413362503)"
      ]
     },
     "execution_count": 13,
     "metadata": {},
     "output_type": "execute_result"
    }
   ],
   "source": [
    "shapiro(versi_pl)"
   ]
  },
  {
   "cell_type": "code",
   "execution_count": 14,
   "metadata": {},
   "outputs": [
    {
     "data": {
      "text/plain": [
       "(0.9578948020935059, 0.07760024070739746)"
      ]
     },
     "execution_count": 14,
     "metadata": {},
     "output_type": "execute_result"
    }
   ],
   "source": [
    "shapiro(virgi_pl)"
   ]
  },
  {
   "cell_type": "markdown",
   "metadata": {},
   "source": [
    "* 정규분포를 보인다고하기엔 아슬아슬한 virgi_pl 과 setosa_pl 을 non-parametric 방법에 기반한 코드로 두 관찰세트의 차이를 보여보자. "
   ]
  },
  {
   "cell_type": "code",
   "execution_count": 17,
   "metadata": {
    "collapsed": true
   },
   "outputs": [],
   "source": [
    "df_working = pd.read_excel('./file_170904/workingtime.xlsx')"
   ]
  },
  {
   "cell_type": "code",
   "execution_count": 18,
   "metadata": {},
   "outputs": [
    {
     "data": {
      "text/html": [
       "<div>\n",
       "<style>\n",
       "    .dataframe thead tr:only-child th {\n",
       "        text-align: right;\n",
       "    }\n",
       "\n",
       "    .dataframe thead th {\n",
       "        text-align: left;\n",
       "    }\n",
       "\n",
       "    .dataframe tbody tr th {\n",
       "        vertical-align: top;\n",
       "    }\n",
       "</style>\n",
       "<table border=\"1\" class=\"dataframe\">\n",
       "  <thead>\n",
       "    <tr style=\"text-align: right;\">\n",
       "      <th></th>\n",
       "      <th>no</th>\n",
       "      <th>new</th>\n",
       "      <th>old</th>\n",
       "    </tr>\n",
       "  </thead>\n",
       "  <tbody>\n",
       "    <tr>\n",
       "      <th>0</th>\n",
       "      <td>1</td>\n",
       "      <td>300</td>\n",
       "      <td>276</td>\n",
       "    </tr>\n",
       "    <tr>\n",
       "      <th>1</th>\n",
       "      <td>2</td>\n",
       "      <td>280</td>\n",
       "      <td>222</td>\n",
       "    </tr>\n",
       "    <tr>\n",
       "      <th>2</th>\n",
       "      <td>3</td>\n",
       "      <td>344</td>\n",
       "      <td>310</td>\n",
       "    </tr>\n",
       "    <tr>\n",
       "      <th>3</th>\n",
       "      <td>4</td>\n",
       "      <td>385</td>\n",
       "      <td>338</td>\n",
       "    </tr>\n",
       "    <tr>\n",
       "      <th>4</th>\n",
       "      <td>5</td>\n",
       "      <td>372</td>\n",
       "      <td>200</td>\n",
       "    </tr>\n",
       "  </tbody>\n",
       "</table>\n",
       "</div>"
      ],
      "text/plain": [
       "   no  new  old\n",
       "0   1  300  276\n",
       "1   2  280  222\n",
       "2   3  344  310\n",
       "3   4  385  338\n",
       "4   5  372  200"
      ]
     },
     "execution_count": 18,
     "metadata": {},
     "output_type": "execute_result"
    }
   ],
   "source": [
    "df_working.head()"
   ]
  },
  {
   "cell_type": "code",
   "execution_count": 19,
   "metadata": {},
   "outputs": [
    {
     "data": {
      "text/plain": [
       "(0.8725020885467529, 0.07031034678220749)"
      ]
     },
     "execution_count": 19,
     "metadata": {},
     "output_type": "execute_result"
    }
   ],
   "source": [
    "shapiro(df_working['new'])"
   ]
  },
  {
   "cell_type": "code",
   "execution_count": 20,
   "metadata": {},
   "outputs": [
    {
     "data": {
      "text/plain": [
       "(0.9034000635147095, 0.1754753738641739)"
      ]
     },
     "execution_count": 20,
     "metadata": {},
     "output_type": "execute_result"
    }
   ],
   "source": [
    "shapiro(df_working['old'])"
   ]
  },
  {
   "cell_type": "code",
   "execution_count": 29,
   "metadata": {
    "collapsed": true
   },
   "outputs": [],
   "source": [
    "from scipy.stats import wilcoxon,ttest_ind"
   ]
  },
  {
   "cell_type": "code",
   "execution_count": 30,
   "metadata": {},
   "outputs": [
    {
     "data": {
      "text/plain": [
       "Ttest_indResult(statistic=2.1556076594754199, pvalue=0.042316835387937089)"
      ]
     },
     "execution_count": 30,
     "metadata": {},
     "output_type": "execute_result"
    }
   ],
   "source": [
    "ttest_ind(df_working['new'],df_working['old'])"
   ]
  },
  {
   "cell_type": "code",
   "execution_count": 27,
   "metadata": {},
   "outputs": [
    {
     "data": {
      "text/plain": [
       "WilcoxonResult(statistic=11.0, pvalue=0.027995744078059867)"
      ]
     },
     "execution_count": 27,
     "metadata": {},
     "output_type": "execute_result"
    }
   ],
   "source": [
    "wilcoxon(df_working['new'],df_working['old'])"
   ]
  },
  {
   "cell_type": "code",
   "execution_count": 42,
   "metadata": {},
   "outputs": [
    {
     "name": "stdout",
     "output_type": "stream",
     "text": [
      "plus: 9\n",
      "minus: 3\n"
     ]
    }
   ],
   "source": [
    "import numpy as np\n",
    "def signtest(obs_a,obs_b):\n",
    "    obs_a = np.array(obs_a)\n",
    "    obs_b = np.array(obs_b)\n",
    "    obs_s = obs_a - obs_b \n",
    "    obs_sign = obs_s / np.abs(obs_s)\n",
    "    print 'plus:',list(obs_sign).count(1)\n",
    "    print 'minus:',list(obs_sign).count(-1)\n",
    "\n",
    "signtest(df_working['new'],df_working['old'])"
   ]
  },
  {
   "cell_type": "code",
   "execution_count": 43,
   "metadata": {},
   "outputs": [
    {
     "data": {
      "text/plain": [
       "0.14599609375000003"
      ]
     },
     "execution_count": 43,
     "metadata": {},
     "output_type": "execute_result"
    }
   ],
   "source": [
    "from scipy.stats import binom_test\n",
    "binom_test(3,12,0.5)"
   ]
  },
  {
   "cell_type": "code",
   "execution_count": null,
   "metadata": {
    "collapsed": true
   },
   "outputs": [],
   "source": []
  },
  {
   "cell_type": "code",
   "execution_count": null,
   "metadata": {
    "collapsed": true
   },
   "outputs": [],
   "source": []
  },
  {
   "cell_type": "code",
   "execution_count": 41,
   "metadata": {
    "collapsed": true
   },
   "outputs": [],
   "source": [
    "%matplotlib inline\n",
    "import matplotlib.pyplot as plt\n",
    "import matplotlib \n",
    "matplotlib.style.use('ggplot')"
   ]
  },
  {
   "cell_type": "code",
   "execution_count": 13,
   "metadata": {},
   "outputs": [
    {
     "data": {
      "text/plain": [
       "(array([ 7.,  4.,  4.,  6.]),\n",
       " array([1, 2, 3, 4, 5]),\n",
       " <a list of 4 Patch objects>)"
      ]
     },
     "execution_count": 13,
     "metadata": {},
     "output_type": "execute_result"
    },
    {
     "data": {
      "image/png": "[encoded data removed]",
      "text/plain": [
       "<matplotlib.figure.Figure at 0x7f938ec5bf10>"
      ]
     },
     "metadata": {},
     "output_type": "display_data"
    }
   ],
   "source": [
    "plt.hist(observation,bins=[1,2,3,4,5])"
   ]
  },
  {
   "cell_type": "code",
   "execution_count": 14,
   "metadata": {},
   "outputs": [
    {
     "data": {
      "text/plain": [
       "(array([ 7.,  0.,  4.,  0.,  0.,  4.,  0.,  4.,  0.,  2.]),\n",
       " array([ 1. ,  1.4,  1.8,  2.2,  2.6,  3. ,  3.4,  3.8,  4.2,  4.6,  5. ]),\n",
       " <a list of 10 Patch objects>)"
      ]
     },
     "execution_count": 14,
     "metadata": {},
     "output_type": "execute_result"
    },
    {
     "data": {
      "image/png": "[encoded data removed]",
      "text/plain": [
       "<matplotlib.figure.Figure at 0x7f93b02b1210>"
      ]
     },
     "metadata": {},
     "output_type": "display_data"
    }
   ],
   "source": [
    "\n",
    "plt.hist(observation)"
   ]
  },
  {
   "cell_type": "code",
   "execution_count": 15,
   "metadata": {
    "collapsed": true
   },
   "outputs": [],
   "source": [
    "import pandas as pd\n",
    "df_weather_2010= pd.read_csv('./file_170904/20170905001243/SURFACE_ASOS_192_DAY_2010_2010_2015/SURFACE_ASOS_192_DAY_2010_2010_2015.csv',encoding=\"ms949\")"
   ]
  },
  {
   "cell_type": "code",
   "execution_count": 16,
   "metadata": {
    "collapsed": true
   },
   "outputs": [],
   "source": [
    "import pandas as pd\n",
    "df_weather_2011 = pd.read_csv('./file_170904/20170905001243/SURFACE_ASOS_192_DAY_2011_2011_2015/SURFACE_ASOS_192_DAY_2011_2011_2015.csv',encoding=\"ms949\")"
   ]
  },
  {
   "cell_type": "code",
   "execution_count": 17,
   "metadata": {
    "collapsed": true
   },
   "outputs": [],
   "source": [
    "import pandas as pd\n",
    "df_weather_2012 = pd.read_csv('./file_170904/20170905001243/SURFACE_ASOS_192_DAY_2012_2012_2015/SURFACE_ASOS_192_DAY_2012_2012_2015.csv',encoding=\"ms949\")"
   ]
  },
  {
   "cell_type": "code",
   "execution_count": 18,
   "metadata": {},
   "outputs": [
    {
     "data": {
      "text/html": [
       "<div>\n",
       "<style>\n",
       "    .dataframe thead tr:only-child th {\n",
       "        text-align: right;\n",
       "    }\n",
       "\n",
       "    .dataframe thead th {\n",
       "        text-align: left;\n",
       "    }\n",
       "\n",
       "    .dataframe tbody tr th {\n",
       "        vertical-align: top;\n",
       "    }\n",
       "</style>\n",
       "<table border=\"1\" class=\"dataframe\">\n",
       "  <thead>\n",
       "    <tr style=\"text-align: right;\">\n",
       "      <th></th>\n",
       "      <th>지점</th>\n",
       "      <th>일시</th>\n",
       "      <th>평균기온(°C)</th>\n",
       "      <th>최저기온(°C)</th>\n",
       "      <th>최저기온 시각(hhmi)</th>\n",
       "      <th>최고기온(°C)</th>\n",
       "      <th>최고기온 시각(hhmi)</th>\n",
       "      <th>강수 계속시간(hr)</th>\n",
       "      <th>10분 최다 강수량(mm)</th>\n",
       "      <th>10분 최다강수량 시각(hhmi)</th>\n",
       "      <th>...</th>\n",
       "      <th>평균 30cm 지중온도(°C)</th>\n",
       "      <th>0.5m 지중온도(°C)</th>\n",
       "      <th>1.0m 지중온도(°C)</th>\n",
       "      <th>1.5m 지중온도(°C)</th>\n",
       "      <th>3.0m 지중온도(°C)</th>\n",
       "      <th>5.0m 지중온도(°C)</th>\n",
       "      <th>합계 대형증발량(mm)</th>\n",
       "      <th>합계 소형증발량(mm)</th>\n",
       "      <th>9-9강수(mm)</th>\n",
       "      <th>안개 계속시간(hr)</th>\n",
       "    </tr>\n",
       "  </thead>\n",
       "  <tbody>\n",
       "    <tr>\n",
       "      <th>0</th>\n",
       "      <td>192</td>\n",
       "      <td>2010-01-01</td>\n",
       "      <td>-4.8</td>\n",
       "      <td>-11.5</td>\n",
       "      <td>727</td>\n",
       "      <td>3.4</td>\n",
       "      <td>1622</td>\n",
       "      <td>NaN</td>\n",
       "      <td>NaN</td>\n",
       "      <td>NaN</td>\n",
       "      <td>...</td>\n",
       "      <td>3.4</td>\n",
       "      <td>5.9</td>\n",
       "      <td>9.4</td>\n",
       "      <td>NaN</td>\n",
       "      <td>NaN</td>\n",
       "      <td>NaN</td>\n",
       "      <td>NaN</td>\n",
       "      <td>1.0</td>\n",
       "      <td>0.0</td>\n",
       "      <td>NaN</td>\n",
       "    </tr>\n",
       "    <tr>\n",
       "      <th>1</th>\n",
       "      <td>192</td>\n",
       "      <td>2010-01-02</td>\n",
       "      <td>0.5</td>\n",
       "      <td>-7.6</td>\n",
       "      <td>111</td>\n",
       "      <td>9.5</td>\n",
       "      <td>1618</td>\n",
       "      <td>0.58</td>\n",
       "      <td>NaN</td>\n",
       "      <td>NaN</td>\n",
       "      <td>...</td>\n",
       "      <td>3.3</td>\n",
       "      <td>5.7</td>\n",
       "      <td>9.1</td>\n",
       "      <td>NaN</td>\n",
       "      <td>NaN</td>\n",
       "      <td>NaN</td>\n",
       "      <td>NaN</td>\n",
       "      <td>1.0</td>\n",
       "      <td>0.0</td>\n",
       "      <td>NaN</td>\n",
       "    </tr>\n",
       "    <tr>\n",
       "      <th>2</th>\n",
       "      <td>192</td>\n",
       "      <td>2010-01-03</td>\n",
       "      <td>-0.5</td>\n",
       "      <td>-6.5</td>\n",
       "      <td>742</td>\n",
       "      <td>6.0</td>\n",
       "      <td>1449</td>\n",
       "      <td>NaN</td>\n",
       "      <td>NaN</td>\n",
       "      <td>NaN</td>\n",
       "      <td>...</td>\n",
       "      <td>3.6</td>\n",
       "      <td>6.0</td>\n",
       "      <td>9.0</td>\n",
       "      <td>NaN</td>\n",
       "      <td>NaN</td>\n",
       "      <td>NaN</td>\n",
       "      <td>NaN</td>\n",
       "      <td>1.4</td>\n",
       "      <td>NaN</td>\n",
       "      <td>NaN</td>\n",
       "    </tr>\n",
       "    <tr>\n",
       "      <th>3</th>\n",
       "      <td>192</td>\n",
       "      <td>2010-01-04</td>\n",
       "      <td>-0.3</td>\n",
       "      <td>-5.1</td>\n",
       "      <td>120</td>\n",
       "      <td>6.4</td>\n",
       "      <td>1541</td>\n",
       "      <td>3.17</td>\n",
       "      <td>NaN</td>\n",
       "      <td>NaN</td>\n",
       "      <td>...</td>\n",
       "      <td>3.6</td>\n",
       "      <td>5.9</td>\n",
       "      <td>8.9</td>\n",
       "      <td>NaN</td>\n",
       "      <td>NaN</td>\n",
       "      <td>NaN</td>\n",
       "      <td>NaN</td>\n",
       "      <td>0.7</td>\n",
       "      <td>1.5</td>\n",
       "      <td>NaN</td>\n",
       "    </tr>\n",
       "    <tr>\n",
       "      <th>4</th>\n",
       "      <td>192</td>\n",
       "      <td>2010-01-05</td>\n",
       "      <td>-2.0</td>\n",
       "      <td>-7.3</td>\n",
       "      <td>2351</td>\n",
       "      <td>1.5</td>\n",
       "      <td>1303</td>\n",
       "      <td>NaN</td>\n",
       "      <td>NaN</td>\n",
       "      <td>NaN</td>\n",
       "      <td>...</td>\n",
       "      <td>3.7</td>\n",
       "      <td>5.6</td>\n",
       "      <td>8.7</td>\n",
       "      <td>NaN</td>\n",
       "      <td>NaN</td>\n",
       "      <td>NaN</td>\n",
       "      <td>NaN</td>\n",
       "      <td>1.7</td>\n",
       "      <td>NaN</td>\n",
       "      <td>NaN</td>\n",
       "    </tr>\n",
       "  </tbody>\n",
       "</table>\n",
       "<p>5 rows × 59 columns</p>\n",
       "</div>"
      ],
      "text/plain": [
       "    지점          일시  평균기온(°C)  최저기온(°C)  최저기온 시각(hhmi)  최고기온(°C)  \\\n",
       "0  192  2010-01-01      -4.8     -11.5            727       3.4   \n",
       "1  192  2010-01-02       0.5      -7.6            111       9.5   \n",
       "2  192  2010-01-03      -0.5      -6.5            742       6.0   \n",
       "3  192  2010-01-04      -0.3      -5.1            120       6.4   \n",
       "4  192  2010-01-05      -2.0      -7.3           2351       1.5   \n",
       "\n",
       "   최고기온 시각(hhmi)  강수 계속시간(hr)  10분 최다 강수량(mm)  10분 최다강수량 시각(hhmi)  \\\n",
       "0           1622          NaN             NaN                 NaN   \n",
       "1           1618         0.58             NaN                 NaN   \n",
       "2           1449          NaN             NaN                 NaN   \n",
       "3           1541         3.17             NaN                 NaN   \n",
       "4           1303          NaN             NaN                 NaN   \n",
       "\n",
       "      ...       평균 30cm 지중온도(°C)  0.5m 지중온도(°C)  1.0m 지중온도(°C)  1.5m 지중온도(°C)  \\\n",
       "0     ...                    3.4            5.9            9.4            NaN   \n",
       "1     ...                    3.3            5.7            9.1            NaN   \n",
       "2     ...                    3.6            6.0            9.0            NaN   \n",
       "3     ...                    3.6            5.9            8.9            NaN   \n",
       "4     ...                    3.7            5.6            8.7            NaN   \n",
       "\n",
       "   3.0m 지중온도(°C)  5.0m 지중온도(°C)  합계 대형증발량(mm)  합계 소형증발량(mm)  9-9강수(mm)  \\\n",
       "0            NaN            NaN           NaN           1.0        0.0   \n",
       "1            NaN            NaN           NaN           1.0        0.0   \n",
       "2            NaN            NaN           NaN           1.4        NaN   \n",
       "3            NaN            NaN           NaN           0.7        1.5   \n",
       "4            NaN            NaN           NaN           1.7        NaN   \n",
       "\n",
       "   안개 계속시간(hr)  \n",
       "0          NaN  \n",
       "1          NaN  \n",
       "2          NaN  \n",
       "3          NaN  \n",
       "4          NaN  \n",
       "\n",
       "[5 rows x 59 columns]"
      ]
     },
     "execution_count": 18,
     "metadata": {},
     "output_type": "execute_result"
    }
   ],
   "source": [
    "df_weather_2010.head()"
   ]
  },
  {
   "cell_type": "code",
   "execution_count": 19,
   "metadata": {
    "collapsed": true
   },
   "outputs": [],
   "source": [
    "temps      = df_weather_2010.columns[2] \n",
    "temps_2010 = df_weather_2010[temps]"
   ]
  },
  {
   "cell_type": "code",
   "execution_count": 20,
   "metadata": {
    "collapsed": true
   },
   "outputs": [],
   "source": [
    "temps      = df_weather_2011.columns[2] \n",
    "temps_2011 = df_weather_2011[temps]"
   ]
  },
  {
   "cell_type": "code",
   "execution_count": 21,
   "metadata": {
    "collapsed": true
   },
   "outputs": [],
   "source": [
    "temps      = df_weather_2012.columns[2] \n",
    "temps_2012 = df_weather_2012[temps]"
   ]
  },
  {
   "cell_type": "code",
   "execution_count": 22,
   "metadata": {},
   "outputs": [
    {
     "data": {
      "image/png": "[encoded data removed]",
      "text/plain": [
       "<matplotlib.figure.Figure at 0x7f9386020810>"
      ]
     },
     "metadata": {},
     "output_type": "display_data"
    }
   ],
   "source": [
    "plt.hist(temps_2010,bins=50)\n",
    "plt.show()"
   ]
  },
  {
   "cell_type": "code",
   "execution_count": 23,
   "metadata": {},
   "outputs": [
    {
     "data": {
      "image/png": "[encoded data removed]",
      "text/plain": [
       "<matplotlib.figure.Figure at 0x7f9385e64290>"
      ]
     },
     "metadata": {},
     "output_type": "display_data"
    }
   ],
   "source": [
    "plt.hist(temps_2011,bins=50)\n",
    "plt.show()"
   ]
  },
  {
   "cell_type": "code",
   "execution_count": 24,
   "metadata": {},
   "outputs": [
    {
     "data": {
      "image/png": "[encoded data removed]",
      "text/plain": [
       "<matplotlib.figure.Figure at 0x7f9385c62a10>"
      ]
     },
     "metadata": {},
     "output_type": "display_data"
    }
   ],
   "source": [
    "plt.hist(temps_2012,bins=50)\n",
    "plt.show()"
   ]
  },
  {
   "cell_type": "code",
   "execution_count": 25,
   "metadata": {
    "collapsed": true
   },
   "outputs": [],
   "source": [
    "import pandas as pd \n",
    "# http://onlinelibrary.wiley.com/doi/10.1111/nph.14101/full"
   ]
  },
  {
   "cell_type": "markdown",
   "metadata": {},
   "source": [
    "![](./file_170904/ref1.PNG)"
   ]
  },
  {
   "cell_type": "code",
   "execution_count": 21,
   "metadata": {},
   "outputs": [
    {
     "data": {
      "text/html": [
       "<div>\n",
       "<style>\n",
       "    .dataframe thead tr:only-child th {\n",
       "        text-align: right;\n",
       "    }\n",
       "\n",
       "    .dataframe thead th {\n",
       "        text-align: left;\n",
       "    }\n",
       "\n",
       "    .dataframe tbody tr th {\n",
       "        vertical-align: top;\n",
       "    }\n",
       "</style>\n",
       "<table border=\"1\" class=\"dataframe\">\n",
       "  <thead>\n",
       "    <tr style=\"text-align: right;\">\n",
       "      <th></th>\n",
       "      <th>ID</th>\n",
       "      <th>row</th>\n",
       "      <th>col</th>\n",
       "      <th>rep</th>\n",
       "      <th>block</th>\n",
       "      <th>row_block</th>\n",
       "      <th>col_block</th>\n",
       "      <th>pop</th>\n",
       "      <th>genotype</th>\n",
       "      <th>year</th>\n",
       "      <th>Heading_Date</th>\n",
       "    </tr>\n",
       "  </thead>\n",
       "  <tbody>\n",
       "    <tr>\n",
       "      <th>0</th>\n",
       "      <td>1310</td>\n",
       "      <td>1</td>\n",
       "      <td>1</td>\n",
       "      <td>7</td>\n",
       "      <td>34</td>\n",
       "      <td>6</td>\n",
       "      <td>0</td>\n",
       "      <td>SW65</td>\n",
       "      <td>SW65_10</td>\n",
       "      <td>2010</td>\n",
       "      <td>195</td>\n",
       "    </tr>\n",
       "    <tr>\n",
       "      <th>1</th>\n",
       "      <td>3806</td>\n",
       "      <td>2</td>\n",
       "      <td>1</td>\n",
       "      <td>7</td>\n",
       "      <td>34</td>\n",
       "      <td>5</td>\n",
       "      <td>0</td>\n",
       "      <td>SW796</td>\n",
       "      <td>SW796_06</td>\n",
       "      <td>2010</td>\n",
       "      <td>181</td>\n",
       "    </tr>\n",
       "    <tr>\n",
       "      <th>2</th>\n",
       "      <td>1210</td>\n",
       "      <td>3</td>\n",
       "      <td>1</td>\n",
       "      <td>7</td>\n",
       "      <td>34</td>\n",
       "      <td>4</td>\n",
       "      <td>0</td>\n",
       "      <td>SW64</td>\n",
       "      <td>SW64_10</td>\n",
       "      <td>2010</td>\n",
       "      <td>190</td>\n",
       "    </tr>\n",
       "    <tr>\n",
       "      <th>3</th>\n",
       "      <td>5707</td>\n",
       "      <td>4</td>\n",
       "      <td>1</td>\n",
       "      <td>7</td>\n",
       "      <td>34</td>\n",
       "      <td>3</td>\n",
       "      <td>0</td>\n",
       "      <td>Shelter</td>\n",
       "      <td>Shelter_07</td>\n",
       "      <td>2010</td>\n",
       "      <td>188</td>\n",
       "    </tr>\n",
       "    <tr>\n",
       "      <th>4</th>\n",
       "      <td>2106</td>\n",
       "      <td>5</td>\n",
       "      <td>1</td>\n",
       "      <td>7</td>\n",
       "      <td>34</td>\n",
       "      <td>2</td>\n",
       "      <td>0</td>\n",
       "      <td>SW122</td>\n",
       "      <td>SW122_06</td>\n",
       "      <td>2010</td>\n",
       "      <td>195</td>\n",
       "    </tr>\n",
       "  </tbody>\n",
       "</table>\n",
       "</div>"
      ],
      "text/plain": [
       "     ID  row  col  rep  block  row_block  col_block      pop    genotype  \\\n",
       "0  1310    1    1    7     34          6          0     SW65     SW65_10   \n",
       "1  3806    2    1    7     34          5          0    SW796    SW796_06   \n",
       "2  1210    3    1    7     34          4          0     SW64     SW64_10   \n",
       "3  5707    4    1    7     34          3          0  Shelter  Shelter_07   \n",
       "4  2106    5    1    7     34          2          0    SW122    SW122_06   \n",
       "\n",
       "   year Heading_Date  \n",
       "0  2010          195  \n",
       "1  2010          181  \n",
       "2  2010          190  \n",
       "3  2010          188  \n",
       "4  2010          195  "
      ]
     },
     "execution_count": 21,
     "metadata": {},
     "output_type": "execute_result"
    }
   ],
   "source": [
    "df = pd.read_excel('./file_170904/heading_date.xlsx')\n",
    "df.head()"
   ]
  },
  {
   "cell_type": "code",
   "execution_count": 27,
   "metadata": {
    "collapsed": true
   },
   "outputs": [],
   "source": [
    "observation = df['Heading_Date']"
   ]
  },
  {
   "cell_type": "code",
   "execution_count": 28,
   "metadata": {
    "collapsed": true
   },
   "outputs": [],
   "source": [
    "observation = [x for x in observation if x != 'na']"
   ]
  },
  {
   "cell_type": "code",
   "execution_count": 29,
   "metadata": {},
   "outputs": [
    {
     "data": {
      "image/png": "[encoded data removed]",
      "text/plain": [
       "<matplotlib.figure.Figure at 0x7f9385ab9490>"
      ]
     },
     "metadata": {},
     "output_type": "display_data"
    }
   ],
   "source": [
    "plt.hist(observation)\n",
    "plt.show()"
   ]
  },
  {
   "cell_type": "code",
   "execution_count": 30,
   "metadata": {},
   "outputs": [
    {
     "data": {
      "image/png": "[encoded data removed]",
      "text/plain": [
       "<matplotlib.figure.Figure at 0x7f9385ab9d50>"
      ]
     },
     "metadata": {},
     "output_type": "display_data"
    }
   ],
   "source": [
    "plt.hist(observation,bins=50)\n",
    "plt.show()"
   ]
  },
  {
   "cell_type": "code",
   "execution_count": 31,
   "metadata": {},
   "outputs": [
    {
     "data": {
      "image/png": "[encoded data removed]",
      "text/plain": [
       "<matplotlib.figure.Figure at 0x7f9385fcdd90>"
      ]
     },
     "metadata": {},
     "output_type": "display_data"
    }
   ],
   "source": [
    "m = (df['block'] == 30)\n",
    "observation = df[m]['Heading_Date']\n",
    "observation = [x for x in observation if x != 'na']\n",
    "plt.hist(observation,bins=50)\n",
    "plt.show()"
   ]
  },
  {
   "cell_type": "code",
   "execution_count": 32,
   "metadata": {},
   "outputs": [
    {
     "data": {
      "image/png": "[encoded data removed]",
      "text/plain": [
       "<matplotlib.figure.Figure at 0x7f9385c3cb90>"
      ]
     },
     "metadata": {},
     "output_type": "display_data"
    }
   ],
   "source": [
    "m = (df['block'] == 31)\n",
    "observation = df[m]['Heading_Date']\n",
    "observation = [x for x in observation if x != 'na']\n",
    "plt.hist(observation,bins=50)\n",
    "plt.show()"
   ]
  },
  {
   "cell_type": "code",
   "execution_count": 33,
   "metadata": {},
   "outputs": [
    {
     "data": {
      "image/png": "[encoded data removed]",
      "text/plain": [
       "<matplotlib.figure.Figure at 0x7f9385eb3cd0>"
      ]
     },
     "metadata": {},
     "output_type": "display_data"
    }
   ],
   "source": [
    "m = (df['block'] == 32)\n",
    "observation = df[m]['Heading_Date']\n",
    "observation = [x for x in observation if x != 'na']\n",
    "plt.hist(observation,bins=50)\n",
    "plt.show()"
   ]
  },
  {
   "cell_type": "code",
   "execution_count": 34,
   "metadata": {
    "scrolled": false
   },
   "outputs": [
    {
     "data": {
      "image/png": "[encoded data removed]",
      "text/plain": [
       "<matplotlib.figure.Figure at 0x7f9385340550>"
      ]
     },
     "metadata": {},
     "output_type": "display_data"
    }
   ],
   "source": [
    "blocks = set(df['block'])\n",
    "\n",
    "fig,ax = plt.subplots(len(blocks),figsize=(6,25),sharex=True)\n",
    "for n, block in enumerate(blocks):\n",
    "    m = (df['block'] == block)\n",
    "    observation = df[m]['Heading_Date']\n",
    "    observation = [x for x in observation if x != 'na']\n",
    "    ax[n].hist(observation,bins=50)\n",
    "    ax[n].set_title('block %d'%n)\n",
    "plt.tight_layout()"
   ]
  },
  {
   "cell_type": "code",
   "execution_count": 24,
   "metadata": {
    "scrolled": false
   },
   "outputs": [
    {
     "data": {
      "image/png": "[encoded data removed]",
      "text/plain": [
       "<matplotlib.figure.Figure at 0x7fa6ff6be950>"
      ]
     },
     "metadata": {},
     "output_type": "display_data"
    }
   ],
   "source": [
    "pops = set(df['pop'])\n",
    "\n",
    "fig,ax = plt.subplots(len(pops),figsize=(6,50),sharex=True)\n",
    "d = []\n",
    "c = []\n",
    "for n, pop in enumerate(pops):\n",
    "    m = (df['pop'] == pop)\n",
    "    observation = df[m]['Heading_Date']\n",
    "    observation = [x for x in observation if x != 'na']\n",
    "    d.append(observation)\n",
    "    c.append(pop)\n",
    "    ax[n].hist(observation,bins=50)\n",
    "    ax[n].set_title(pop)\n",
    "plt.tight_layout()"
   ]
  },
  {
   "cell_type": "code",
   "execution_count": 1,
   "metadata": {
    "scrolled": false
   },
   "outputs": [
    {
     "ename": "NameError",
     "evalue": "name 'd' is not defined",
     "output_type": "error",
     "traceback": [
      "\u001b[0;31m---------------------------------------------------------------------------\u001b[0m",
      "\u001b[0;31mNameError\u001b[0m                                 Traceback (most recent call last)",
      "\u001b[0;32m<ipython-input-1-9cd1f71c0fa6>\u001b[0m in \u001b[0;36m<module>\u001b[0;34m()\u001b[0m\n\u001b[1;32m      1\u001b[0m \u001b[0;32mfrom\u001b[0m \u001b[0mpyvttbl\u001b[0m \u001b[0;32mimport\u001b[0m \u001b[0mAnova1way\u001b[0m\u001b[0;34m\u001b[0m\u001b[0m\n\u001b[1;32m      2\u001b[0m \u001b[0mD\u001b[0m\u001b[0;34m=\u001b[0m\u001b[0mAnova1way\u001b[0m\u001b[0;34m(\u001b[0m\u001b[0;34m)\u001b[0m\u001b[0;34m\u001b[0m\u001b[0m\n\u001b[0;32m----> 3\u001b[0;31m \u001b[0mD\u001b[0m\u001b[0;34m.\u001b[0m\u001b[0mrun\u001b[0m\u001b[0;34m(\u001b[0m\u001b[0md\u001b[0m\u001b[0;34m,\u001b[0m \u001b[0mconditions_list\u001b[0m\u001b[0;34m=\u001b[0m\u001b[0mc\u001b[0m\u001b[0;34m)\u001b[0m\u001b[0;34m\u001b[0m\u001b[0m\n\u001b[0m\u001b[1;32m      4\u001b[0m \u001b[0;31m#print D\u001b[0m\u001b[0;34m\u001b[0m\u001b[0;34m\u001b[0m\u001b[0m\n",
      "\u001b[0;31mNameError\u001b[0m: name 'd' is not defined"
     ]
    }
   ],
   "source": [
    "from pyvttbl import Anova1way\n",
    "D=Anova1way()\n",
    "D.run(d, conditions_list=c)\n",
    "#print D"
   ]
  },
  {
   "cell_type": "code",
   "execution_count": 36,
   "metadata": {},
   "outputs": [
    {
     "data": {
      "image/png": "[encoded data removed]",
      "text/plain": [
       "<matplotlib.figure.Figure at 0x7f938141b610>"
      ]
     },
     "metadata": {},
     "output_type": "display_data"
    }
   ],
   "source": [
    "years = set(df['year'])\n",
    "\n",
    "fig,ax = plt.subplots(len(years),figsize=(6,5),sharex=True)\n",
    "for n, year in enumerate(years):\n",
    "    m = (df['year'] == year)\n",
    "    observation = df[m]['Heading_Date']\n",
    "    observation = [x for x in observation if x != 'na']\n",
    "    ax[n].hist(observation,bins=50)\n",
    "    ax[n].set_title(year)\n",
    "plt.tight_layout()"
   ]
  },
  {
   "cell_type": "code",
   "execution_count": 37,
   "metadata": {
    "collapsed": true
   },
   "outputs": [],
   "source": [
    "from scipy.stats import f_oneway,f\n",
    "import numpy as np"
   ]
  },
  {
   "cell_type": "code",
   "execution_count": 38,
   "metadata": {
    "collapsed": true
   },
   "outputs": [],
   "source": [
    "m      = df['pop'] == 'SW806'\n",
    "hd_806 = [x for x in df[m]['Heading_Date'] if x != 'na']\n",
    "m      = df['pop'] == 'SW805'\n",
    "hd_805 = [x for x in df[m]['Heading_Date'] if x != 'na']\n",
    "m      = df['pop'] == 'Pathfinder'\n",
    "hd_PF  = [x for x in df[m]['Heading_Date'] if x != 'na']"
   ]
  },
  {
   "cell_type": "code",
   "execution_count": 39,
   "metadata": {
    "collapsed": true
   },
   "outputs": [],
   "source": [
    "r = f_oneway(hd_805,hd_806,hd_PF)"
   ]
  },
  {
   "cell_type": "code",
   "execution_count": 40,
   "metadata": {},
   "outputs": [
    {
     "data": {
      "text/plain": [
       "F_onewayResult(statistic=68.828543684318888, pvalue=5.6741592630029996e-22)"
      ]
     },
     "execution_count": 40,
     "metadata": {},
     "output_type": "execute_result"
    }
   ],
   "source": [
    "r"
   ]
  },
  {
   "cell_type": "code",
   "execution_count": 41,
   "metadata": {
    "collapsed": true
   },
   "outputs": [],
   "source": [
    "from pyvttbl import Anova1way\n",
    "D=Anova1way()\n",
    "d = [hd_805,hd_806,hd_PF]\n",
    "c = ['SW805','SW806','Pathfinder']\n",
    "D.run(d, conditions_list=c)"
   ]
  },
  {
   "cell_type": "code",
   "execution_count": 42,
   "metadata": {},
   "outputs": [
    {
     "name": "stdout",
     "output_type": "stream",
     "text": [
      "Anova: Single Factor on Measure\n",
      "\n",
      "SUMMARY\n",
      "  Groups     Count    Sum    Average   Variance \n",
      "===============================================\n",
      "SW805           54    9919   183.685     49.276 \n",
      "SW806           45    8429   187.311     60.265 \n",
      "Pathfinder      55   10921   198.564     34.806 \n",
      "\n",
      "O'BRIEN TEST FOR HOMOGENEITY OF VARIANCE\n",
      "Source of Variation       SS       df       MS        F     P-value   eta^2   Obs. power \n",
      "========================================================================================\n",
      "Treatments             16359.982     2   8179.991   1.529     0.220   0.020        0.321 \n",
      "Error                 807670.750   151   5348.813                                        \n",
      "========================================================================================\n",
      "Total                 824030.732   153                                                   \n",
      "\n",
      "ANOVA\n",
      "Source of Variation      SS       df       MS        F       P-value    eta^2   Obs. power \n",
      "==========================================================================================\n",
      "Treatments             6511.654     2   3255.827   68.829   5.674e-22   0.477        1.000 \n",
      "Error                  7142.820   151     47.303                                           \n",
      "==========================================================================================\n",
      "Total                 13654.474   153                                                      \n",
      "\n",
      "POSTHOC MULTIPLE COMPARISONS\n",
      "\n",
      "Tukey HSD: Table of q-statistics\n",
      "             Pathfinder     SW805       SW806   \n",
      "===============================================\n",
      "Pathfinder   0            14.512 **   10.975 ** \n",
      "SW805                     0           3.537 *   \n",
      "SW806                                 0         \n",
      "===============================================\n",
      "  + p < .10 (q-critical[3, 151] = 2.92468433941)\n",
      "  * p < .05 (q-critical[3, 151] = 3.3477705161)\n",
      " ** p < .01 (q-critical[3, 151] = 4.18330002112)\n"
     ]
    }
   ],
   "source": [
    "print D"
   ]
  },
  {
   "cell_type": "markdown",
   "metadata": {},
   "source": [
    "**F = Var(BetweenGroup) / Var(WithinGroup)** "
   ]
  },
  {
   "cell_type": "code",
   "execution_count": 95,
   "metadata": {
    "collapsed": true
   },
   "outputs": [],
   "source": [
    "# Var(BG) 을 계산해보자\n",
    "mean_hd_806 = np.mean(hd_806)\n",
    "mean_hd_805 = np.mean(hd_805)\n",
    "mean_hd_PF  = np.mean(hd_PF)\n",
    "mean_all    = np.mean(hd_806 + hd_805 + hd_PF)\n",
    "\n",
    "SS_806 = (mean_hd_806 - mean_all)**2\n",
    "SS_805 = (mean_hd_805 - mean_all)**2\n",
    "SS_PF  = (mean_hd_PF - mean_all)**2\n",
    "\n",
    "df1 = 2\n",
    "SS_BG  = (SS_806 * len(hd_806) + SS_805 * len(hd_805) + SS_PF * len(hd_PF))\n",
    "Var_BG =  SS_BG/ df1 # df = 2"
   ]
  },
  {
   "cell_type": "code",
   "execution_count": 96,
   "metadata": {},
   "outputs": [
    {
     "data": {
      "text/plain": [
       "(6511.6541606541577, 3255.8270803270789)"
      ]
     },
     "execution_count": 96,
     "metadata": {},
     "output_type": "execute_result"
    }
   ],
   "source": [
    "SS_BG,Var_BG"
   ]
  },
  {
   "cell_type": "code",
   "execution_count": 97,
   "metadata": {},
   "outputs": [
    {
     "data": {
      "text/plain": [
       "(7142.819865319866, 47.303442816687856)"
      ]
     },
     "execution_count": 97,
     "metadata": {},
     "output_type": "execute_result"
    }
   ],
   "source": [
    "# Var(WG) 을 계산해보자\n",
    "SSW_806 = np.sum(np.square(np.array(hd_806) - mean_hd_806))\n",
    "SSW_805 = np.sum(np.square(np.array(hd_805) - mean_hd_805))\n",
    "SSW_PF = np.sum(np.square(np.array(hd_PF) - mean_hd_PF))\n",
    "df2 = (len(hd_805+hd_806+hd_PF) - 3)\n",
    "SS_WG = (SSW_806 + SSW_805 + SSW_PF)\n",
    "Var_WG = SS_WG / df2\n",
    "\n",
    "SS_WG, Var_WG"
   ]
  },
  {
   "cell_type": "code",
   "execution_count": 91,
   "metadata": {
    "collapsed": true
   },
   "outputs": [],
   "source": [
    "# total = np.array(hd_806 + hd_805 + hd_PF)\n",
    "# SS    = np.sum(np.square(total - np.mean(total)))"
   ]
  },
  {
   "cell_type": "code",
   "execution_count": 103,
   "metadata": {},
   "outputs": [
    {
     "data": {
      "text/plain": [
       "68.828543684318859"
      ]
     },
     "execution_count": 103,
     "metadata": {},
     "output_type": "execute_result"
    }
   ],
   "source": [
    "F = Var_BG / Var_WG\n",
    "F"
   ]
  },
  {
   "cell_type": "code",
   "execution_count": 100,
   "metadata": {},
   "outputs": [
    {
     "data": {
      "text/plain": [
       "[<matplotlib.lines.Line2D at 0x7fbc6080ebd0>]"
      ]
     },
     "execution_count": 100,
     "metadata": {},
     "output_type": "execute_result"
    },
    {
     "data": {
      "image/png": "[encoded data removed]",
      "text/plain": [
       "<matplotlib.figure.Figure at 0x7fbc60701dd0>"
      ]
     },
     "metadata": {},
     "output_type": "display_data"
    }
   ],
   "source": [
    "xx = np.linspace(0.03, 3, 1000)\n",
    "plt.plot(xx, f(df1,df2).pdf(xx))"
   ]
  },
  {
   "cell_type": "markdown",
   "metadata": {
    "collapsed": true
   },
   "source": [
    "---"
   ]
  },
  {
   "cell_type": "markdown",
   "metadata": {},
   "source": [
    "# two way ANOVA"
   ]
  },
  {
   "cell_type": "code",
   "execution_count": 29,
   "metadata": {
    "collapsed": true
   },
   "outputs": [],
   "source": [
    "%matplotlib inline\n",
    "import pandas as pd\n",
    "from statsmodels.graphics.factorplots import interaction_plot\n",
    "import matplotlib.pyplot as plt\n",
    "from scipy import stats "
   ]
  },
  {
   "cell_type": "code",
   "execution_count": 58,
   "metadata": {
    "collapsed": true
   },
   "outputs": [],
   "source": [
    "datafile=\"./file_170904/ToothGrowth.csv\"\n",
    "data = pd.read_csv(datafile)"
   ]
  },
  {
   "cell_type": "code",
   "execution_count": 59,
   "metadata": {},
   "outputs": [
    {
     "data": {
      "text/html": [
       "<div>\n",
       "<style>\n",
       "    .dataframe thead tr:only-child th {\n",
       "        text-align: right;\n",
       "    }\n",
       "\n",
       "    .dataframe thead th {\n",
       "        text-align: left;\n",
       "    }\n",
       "\n",
       "    .dataframe tbody tr th {\n",
       "        vertical-align: top;\n",
       "    }\n",
       "</style>\n",
       "<table border=\"1\" class=\"dataframe\">\n",
       "  <thead>\n",
       "    <tr style=\"text-align: right;\">\n",
       "      <th></th>\n",
       "      <th>Unnamed: 0</th>\n",
       "      <th>len</th>\n",
       "      <th>supp</th>\n",
       "      <th>dose</th>\n",
       "    </tr>\n",
       "  </thead>\n",
       "  <tbody>\n",
       "    <tr>\n",
       "      <th>0</th>\n",
       "      <td>1</td>\n",
       "      <td>4.2</td>\n",
       "      <td>VC</td>\n",
       "      <td>A</td>\n",
       "    </tr>\n",
       "    <tr>\n",
       "      <th>1</th>\n",
       "      <td>2</td>\n",
       "      <td>11.5</td>\n",
       "      <td>VC</td>\n",
       "      <td>A</td>\n",
       "    </tr>\n",
       "    <tr>\n",
       "      <th>2</th>\n",
       "      <td>3</td>\n",
       "      <td>7.3</td>\n",
       "      <td>VC</td>\n",
       "      <td>A</td>\n",
       "    </tr>\n",
       "    <tr>\n",
       "      <th>3</th>\n",
       "      <td>4</td>\n",
       "      <td>5.8</td>\n",
       "      <td>VC</td>\n",
       "      <td>A</td>\n",
       "    </tr>\n",
       "    <tr>\n",
       "      <th>4</th>\n",
       "      <td>5</td>\n",
       "      <td>6.4</td>\n",
       "      <td>VC</td>\n",
       "      <td>A</td>\n",
       "    </tr>\n",
       "    <tr>\n",
       "      <th>5</th>\n",
       "      <td>6</td>\n",
       "      <td>10.0</td>\n",
       "      <td>VC</td>\n",
       "      <td>A</td>\n",
       "    </tr>\n",
       "    <tr>\n",
       "      <th>6</th>\n",
       "      <td>7</td>\n",
       "      <td>11.2</td>\n",
       "      <td>VC</td>\n",
       "      <td>A</td>\n",
       "    </tr>\n",
       "    <tr>\n",
       "      <th>7</th>\n",
       "      <td>8</td>\n",
       "      <td>11.2</td>\n",
       "      <td>VC</td>\n",
       "      <td>A</td>\n",
       "    </tr>\n",
       "    <tr>\n",
       "      <th>8</th>\n",
       "      <td>9</td>\n",
       "      <td>5.2</td>\n",
       "      <td>VC</td>\n",
       "      <td>A</td>\n",
       "    </tr>\n",
       "    <tr>\n",
       "      <th>9</th>\n",
       "      <td>10</td>\n",
       "      <td>7.0</td>\n",
       "      <td>VC</td>\n",
       "      <td>A</td>\n",
       "    </tr>\n",
       "    <tr>\n",
       "      <th>10</th>\n",
       "      <td>11</td>\n",
       "      <td>16.5</td>\n",
       "      <td>VC</td>\n",
       "      <td>B</td>\n",
       "    </tr>\n",
       "    <tr>\n",
       "      <th>11</th>\n",
       "      <td>12</td>\n",
       "      <td>16.5</td>\n",
       "      <td>VC</td>\n",
       "      <td>B</td>\n",
       "    </tr>\n",
       "    <tr>\n",
       "      <th>12</th>\n",
       "      <td>13</td>\n",
       "      <td>15.2</td>\n",
       "      <td>VC</td>\n",
       "      <td>B</td>\n",
       "    </tr>\n",
       "    <tr>\n",
       "      <th>13</th>\n",
       "      <td>14</td>\n",
       "      <td>17.3</td>\n",
       "      <td>VC</td>\n",
       "      <td>B</td>\n",
       "    </tr>\n",
       "    <tr>\n",
       "      <th>14</th>\n",
       "      <td>15</td>\n",
       "      <td>22.5</td>\n",
       "      <td>VC</td>\n",
       "      <td>B</td>\n",
       "    </tr>\n",
       "    <tr>\n",
       "      <th>15</th>\n",
       "      <td>16</td>\n",
       "      <td>17.3</td>\n",
       "      <td>VC</td>\n",
       "      <td>B</td>\n",
       "    </tr>\n",
       "    <tr>\n",
       "      <th>16</th>\n",
       "      <td>17</td>\n",
       "      <td>13.6</td>\n",
       "      <td>VC</td>\n",
       "      <td>B</td>\n",
       "    </tr>\n",
       "    <tr>\n",
       "      <th>17</th>\n",
       "      <td>18</td>\n",
       "      <td>14.5</td>\n",
       "      <td>VC</td>\n",
       "      <td>B</td>\n",
       "    </tr>\n",
       "    <tr>\n",
       "      <th>18</th>\n",
       "      <td>19</td>\n",
       "      <td>18.8</td>\n",
       "      <td>VC</td>\n",
       "      <td>B</td>\n",
       "    </tr>\n",
       "    <tr>\n",
       "      <th>19</th>\n",
       "      <td>20</td>\n",
       "      <td>15.5</td>\n",
       "      <td>VC</td>\n",
       "      <td>B</td>\n",
       "    </tr>\n",
       "    <tr>\n",
       "      <th>20</th>\n",
       "      <td>21</td>\n",
       "      <td>23.6</td>\n",
       "      <td>VC</td>\n",
       "      <td>C</td>\n",
       "    </tr>\n",
       "    <tr>\n",
       "      <th>21</th>\n",
       "      <td>22</td>\n",
       "      <td>18.5</td>\n",
       "      <td>VC</td>\n",
       "      <td>C</td>\n",
       "    </tr>\n",
       "    <tr>\n",
       "      <th>22</th>\n",
       "      <td>23</td>\n",
       "      <td>33.9</td>\n",
       "      <td>VC</td>\n",
       "      <td>C</td>\n",
       "    </tr>\n",
       "    <tr>\n",
       "      <th>23</th>\n",
       "      <td>24</td>\n",
       "      <td>25.5</td>\n",
       "      <td>VC</td>\n",
       "      <td>C</td>\n",
       "    </tr>\n",
       "    <tr>\n",
       "      <th>24</th>\n",
       "      <td>25</td>\n",
       "      <td>26.4</td>\n",
       "      <td>VC</td>\n",
       "      <td>C</td>\n",
       "    </tr>\n",
       "    <tr>\n",
       "      <th>25</th>\n",
       "      <td>26</td>\n",
       "      <td>32.5</td>\n",
       "      <td>VC</td>\n",
       "      <td>C</td>\n",
       "    </tr>\n",
       "    <tr>\n",
       "      <th>26</th>\n",
       "      <td>27</td>\n",
       "      <td>26.7</td>\n",
       "      <td>VC</td>\n",
       "      <td>C</td>\n",
       "    </tr>\n",
       "    <tr>\n",
       "      <th>27</th>\n",
       "      <td>28</td>\n",
       "      <td>21.5</td>\n",
       "      <td>VC</td>\n",
       "      <td>C</td>\n",
       "    </tr>\n",
       "    <tr>\n",
       "      <th>28</th>\n",
       "      <td>29</td>\n",
       "      <td>23.3</td>\n",
       "      <td>VC</td>\n",
       "      <td>C</td>\n",
       "    </tr>\n",
       "    <tr>\n",
       "      <th>29</th>\n",
       "      <td>30</td>\n",
       "      <td>29.5</td>\n",
       "      <td>VC</td>\n",
       "      <td>C</td>\n",
       "    </tr>\n",
       "    <tr>\n",
       "      <th>30</th>\n",
       "      <td>31</td>\n",
       "      <td>15.2</td>\n",
       "      <td>OJ</td>\n",
       "      <td>A</td>\n",
       "    </tr>\n",
       "    <tr>\n",
       "      <th>31</th>\n",
       "      <td>32</td>\n",
       "      <td>21.5</td>\n",
       "      <td>OJ</td>\n",
       "      <td>A</td>\n",
       "    </tr>\n",
       "    <tr>\n",
       "      <th>32</th>\n",
       "      <td>33</td>\n",
       "      <td>17.6</td>\n",
       "      <td>OJ</td>\n",
       "      <td>A</td>\n",
       "    </tr>\n",
       "    <tr>\n",
       "      <th>33</th>\n",
       "      <td>34</td>\n",
       "      <td>9.7</td>\n",
       "      <td>OJ</td>\n",
       "      <td>A</td>\n",
       "    </tr>\n",
       "    <tr>\n",
       "      <th>34</th>\n",
       "      <td>35</td>\n",
       "      <td>14.5</td>\n",
       "      <td>OJ</td>\n",
       "      <td>A</td>\n",
       "    </tr>\n",
       "    <tr>\n",
       "      <th>35</th>\n",
       "      <td>36</td>\n",
       "      <td>10.0</td>\n",
       "      <td>OJ</td>\n",
       "      <td>A</td>\n",
       "    </tr>\n",
       "    <tr>\n",
       "      <th>36</th>\n",
       "      <td>37</td>\n",
       "      <td>8.2</td>\n",
       "      <td>OJ</td>\n",
       "      <td>A</td>\n",
       "    </tr>\n",
       "    <tr>\n",
       "      <th>37</th>\n",
       "      <td>38</td>\n",
       "      <td>9.4</td>\n",
       "      <td>OJ</td>\n",
       "      <td>A</td>\n",
       "    </tr>\n",
       "    <tr>\n",
       "      <th>38</th>\n",
       "      <td>39</td>\n",
       "      <td>16.5</td>\n",
       "      <td>OJ</td>\n",
       "      <td>A</td>\n",
       "    </tr>\n",
       "    <tr>\n",
       "      <th>39</th>\n",
       "      <td>40</td>\n",
       "      <td>9.7</td>\n",
       "      <td>OJ</td>\n",
       "      <td>A</td>\n",
       "    </tr>\n",
       "    <tr>\n",
       "      <th>40</th>\n",
       "      <td>41</td>\n",
       "      <td>19.7</td>\n",
       "      <td>OJ</td>\n",
       "      <td>B</td>\n",
       "    </tr>\n",
       "    <tr>\n",
       "      <th>41</th>\n",
       "      <td>42</td>\n",
       "      <td>23.3</td>\n",
       "      <td>OJ</td>\n",
       "      <td>B</td>\n",
       "    </tr>\n",
       "    <tr>\n",
       "      <th>42</th>\n",
       "      <td>43</td>\n",
       "      <td>23.6</td>\n",
       "      <td>OJ</td>\n",
       "      <td>B</td>\n",
       "    </tr>\n",
       "    <tr>\n",
       "      <th>43</th>\n",
       "      <td>44</td>\n",
       "      <td>26.4</td>\n",
       "      <td>OJ</td>\n",
       "      <td>B</td>\n",
       "    </tr>\n",
       "    <tr>\n",
       "      <th>44</th>\n",
       "      <td>45</td>\n",
       "      <td>20.0</td>\n",
       "      <td>OJ</td>\n",
       "      <td>B</td>\n",
       "    </tr>\n",
       "    <tr>\n",
       "      <th>45</th>\n",
       "      <td>46</td>\n",
       "      <td>25.2</td>\n",
       "      <td>OJ</td>\n",
       "      <td>B</td>\n",
       "    </tr>\n",
       "    <tr>\n",
       "      <th>46</th>\n",
       "      <td>47</td>\n",
       "      <td>25.8</td>\n",
       "      <td>OJ</td>\n",
       "      <td>B</td>\n",
       "    </tr>\n",
       "    <tr>\n",
       "      <th>47</th>\n",
       "      <td>48</td>\n",
       "      <td>21.2</td>\n",
       "      <td>OJ</td>\n",
       "      <td>B</td>\n",
       "    </tr>\n",
       "    <tr>\n",
       "      <th>48</th>\n",
       "      <td>49</td>\n",
       "      <td>14.5</td>\n",
       "      <td>OJ</td>\n",
       "      <td>B</td>\n",
       "    </tr>\n",
       "    <tr>\n",
       "      <th>49</th>\n",
       "      <td>50</td>\n",
       "      <td>27.3</td>\n",
       "      <td>OJ</td>\n",
       "      <td>B</td>\n",
       "    </tr>\n",
       "    <tr>\n",
       "      <th>50</th>\n",
       "      <td>51</td>\n",
       "      <td>25.5</td>\n",
       "      <td>OJ</td>\n",
       "      <td>C</td>\n",
       "    </tr>\n",
       "    <tr>\n",
       "      <th>51</th>\n",
       "      <td>52</td>\n",
       "      <td>26.4</td>\n",
       "      <td>OJ</td>\n",
       "      <td>C</td>\n",
       "    </tr>\n",
       "    <tr>\n",
       "      <th>52</th>\n",
       "      <td>53</td>\n",
       "      <td>22.4</td>\n",
       "      <td>OJ</td>\n",
       "      <td>C</td>\n",
       "    </tr>\n",
       "    <tr>\n",
       "      <th>53</th>\n",
       "      <td>54</td>\n",
       "      <td>24.5</td>\n",
       "      <td>OJ</td>\n",
       "      <td>C</td>\n",
       "    </tr>\n",
       "    <tr>\n",
       "      <th>54</th>\n",
       "      <td>55</td>\n",
       "      <td>24.8</td>\n",
       "      <td>OJ</td>\n",
       "      <td>C</td>\n",
       "    </tr>\n",
       "    <tr>\n",
       "      <th>55</th>\n",
       "      <td>56</td>\n",
       "      <td>30.9</td>\n",
       "      <td>OJ</td>\n",
       "      <td>C</td>\n",
       "    </tr>\n",
       "    <tr>\n",
       "      <th>56</th>\n",
       "      <td>57</td>\n",
       "      <td>26.4</td>\n",
       "      <td>OJ</td>\n",
       "      <td>C</td>\n",
       "    </tr>\n",
       "    <tr>\n",
       "      <th>57</th>\n",
       "      <td>58</td>\n",
       "      <td>27.3</td>\n",
       "      <td>OJ</td>\n",
       "      <td>C</td>\n",
       "    </tr>\n",
       "    <tr>\n",
       "      <th>58</th>\n",
       "      <td>59</td>\n",
       "      <td>29.4</td>\n",
       "      <td>OJ</td>\n",
       "      <td>C</td>\n",
       "    </tr>\n",
       "    <tr>\n",
       "      <th>59</th>\n",
       "      <td>60</td>\n",
       "      <td>23.0</td>\n",
       "      <td>OJ</td>\n",
       "      <td>C</td>\n",
       "    </tr>\n",
       "  </tbody>\n",
       "</table>\n",
       "</div>"
      ],
      "text/plain": [
       "    Unnamed: 0   len supp dose\n",
       "0            1   4.2   VC    A\n",
       "1            2  11.5   VC    A\n",
       "2            3   7.3   VC    A\n",
       "3            4   5.8   VC    A\n",
       "4            5   6.4   VC    A\n",
       "5            6  10.0   VC    A\n",
       "6            7  11.2   VC    A\n",
       "7            8  11.2   VC    A\n",
       "8            9   5.2   VC    A\n",
       "9           10   7.0   VC    A\n",
       "10          11  16.5   VC    B\n",
       "11          12  16.5   VC    B\n",
       "12          13  15.2   VC    B\n",
       "13          14  17.3   VC    B\n",
       "14          15  22.5   VC    B\n",
       "15          16  17.3   VC    B\n",
       "16          17  13.6   VC    B\n",
       "17          18  14.5   VC    B\n",
       "18          19  18.8   VC    B\n",
       "19          20  15.5   VC    B\n",
       "20          21  23.6   VC    C\n",
       "21          22  18.5   VC    C\n",
       "22          23  33.9   VC    C\n",
       "23          24  25.5   VC    C\n",
       "24          25  26.4   VC    C\n",
       "25          26  32.5   VC    C\n",
       "26          27  26.7   VC    C\n",
       "27          28  21.5   VC    C\n",
       "28          29  23.3   VC    C\n",
       "29          30  29.5   VC    C\n",
       "30          31  15.2   OJ    A\n",
       "31          32  21.5   OJ    A\n",
       "32          33  17.6   OJ    A\n",
       "33          34   9.7   OJ    A\n",
       "34          35  14.5   OJ    A\n",
       "35          36  10.0   OJ    A\n",
       "36          37   8.2   OJ    A\n",
       "37          38   9.4   OJ    A\n",
       "38          39  16.5   OJ    A\n",
       "39          40   9.7   OJ    A\n",
       "40          41  19.7   OJ    B\n",
       "41          42  23.3   OJ    B\n",
       "42          43  23.6   OJ    B\n",
       "43          44  26.4   OJ    B\n",
       "44          45  20.0   OJ    B\n",
       "45          46  25.2   OJ    B\n",
       "46          47  25.8   OJ    B\n",
       "47          48  21.2   OJ    B\n",
       "48          49  14.5   OJ    B\n",
       "49          50  27.3   OJ    B\n",
       "50          51  25.5   OJ    C\n",
       "51          52  26.4   OJ    C\n",
       "52          53  22.4   OJ    C\n",
       "53          54  24.5   OJ    C\n",
       "54          55  24.8   OJ    C\n",
       "55          56  30.9   OJ    C\n",
       "56          57  26.4   OJ    C\n",
       "57          58  27.3   OJ    C\n",
       "58          59  29.4   OJ    C\n",
       "59          60  23.0   OJ    C"
      ]
     },
     "execution_count": 59,
     "metadata": {},
     "output_type": "execute_result"
    }
   ],
   "source": [
    "data"
   ]
  },
  {
   "cell_type": "code",
   "execution_count": 46,
   "metadata": {
    "collapsed": true
   },
   "outputs": [],
   "source": [
    "N         = len(data.len)\n",
    "df_supp   = len(data.supp.unique()) - 1\n",
    "df_dose   = len(data.dose.unique()) - 1\n",
    "df_axb    = df_a*df_b \n",
    "df_w      = N - (len(data.supp.unique())*len(data.dose.unique())) # 전체 N에서 그룹갯수를 뺀다. "
   ]
  },
  {
   "cell_type": "code",
   "execution_count": 7,
   "metadata": {
    "collapsed": true
   },
   "outputs": [],
   "source": [
    "grand_mean = data['len'].mean()"
   ]
  },
  {
   "cell_type": "code",
   "execution_count": 10,
   "metadata": {
    "collapsed": true
   },
   "outputs": [],
   "source": [
    "# 총 데이터의 sum square\n",
    "ssq_t = sum((data.len - grand_mean)**2)"
   ]
  },
  {
   "cell_type": "code",
   "execution_count": 34,
   "metadata": {
    "collapsed": true
   },
   "outputs": [],
   "source": [
    "# supplement 에 따른 평균의 sum square (Between group) # data.supp.unique()를 안했기 때문에 각 supp type의 갯수를 곱하지 않아도 된다. \n",
    "data['sq_dose'] = [(data[data.dose ==l].len.mean()-grand_mean)**2 for l in data.dose]\n",
    "data['sq_supp'] = [(data[data.supp ==l].len.mean()-grand_mean)**2 for l in data.supp]"
   ]
  },
  {
   "cell_type": "code",
   "execution_count": 43,
   "metadata": {},
   "outputs": [],
   "source": [
    "# within group \n",
    "vc = data[data.supp == 'VC']\n",
    "oj = data[data.supp == 'OJ']\n",
    "data['withingroup_means'] = data.apply(lambda x : data[(data['dose'] == x['dose']) & (data['supp'] == x['supp'])]['len'].mean(),axis=1)  \n",
    "data['withingroup_sq'] = (data['len'] - data['withingroup_means'])**2\n",
    "#ssq_w = sum((oj.len - data['oj_dose_means'])**2) +sum((vc.len - data['vc_dose_means'])**2)# "
   ]
  },
  {
   "cell_type": "code",
   "execution_count": 44,
   "metadata": {
    "collapsed": true
   },
   "outputs": [],
   "source": [
    "ssq_dose        = data['sq_dose'].sum()\n",
    "ssq_supp        = data['sq_supp'].sum()\n",
    "ssq_withingroup = data['withingroup_sq'].sum()"
   ]
  },
  {
   "cell_type": "code",
   "execution_count": 45,
   "metadata": {
    "collapsed": true
   },
   "outputs": [],
   "source": [
    "# sum of square total = sum of square A + sum of square B + sum of square AxB + sum of square W\n",
    "ssq_axb = ssq_t-ssq_dose-ssq_supp-ssq_withingroup"
   ]
  },
  {
   "cell_type": "code",
   "execution_count": 47,
   "metadata": {
    "collapsed": true
   },
   "outputs": [],
   "source": [
    "# mean sum of square \n",
    "ms_supp          = ssq_supp/df_supp\n",
    "ms_dose          = ssq_dose/df_dose\n",
    "ms_axb           = ssq_axb/df_axb\n",
    "ms_withingroup   = ssq_withingroup/df_w\n"
   ]
  },
  {
   "cell_type": "code",
   "execution_count": 48,
   "metadata": {},
   "outputs": [
    {
     "name": "stdout",
     "output_type": "stream",
     "text": [
      "15.5719794525 91.9999648929 4.10699109402\n"
     ]
    }
   ],
   "source": [
    "#f value \n",
    "f_supp   = ms_supp / ms_withingroup\n",
    "f_dose   = ms_dose / ms_withingroup\n",
    "f_axb    = ms_axb / ms_withingroup\n",
    "print f_supp, f_dose, f_axb"
   ]
  },
  {
   "cell_type": "code",
   "execution_count": 49,
   "metadata": {},
   "outputs": [],
   "source": [
    "# p value \n",
    "p_supp = stats.f.sf(f_supp, df_supp, df_w)\n",
    "p_dose = stats.f.sf(f_dose, df_dose, df_w)\n",
    "p_axb  = stats.f.sf(f_axb, df_axb, df_w)"
   ]
  },
  {
   "cell_type": "code",
   "execution_count": 50,
   "metadata": {},
   "outputs": [
    {
     "data": {
      "text/plain": [
       "(0.00023118280977342404, 4.0462911959922118e-18, 0.021860268964792158)"
      ]
     },
     "execution_count": 50,
     "metadata": {},
     "output_type": "execute_result"
    }
   ],
   "source": [
    "p_a,p_b,p_axb"
   ]
  },
  {
   "cell_type": "code",
   "execution_count": 51,
   "metadata": {},
   "outputs": [
    {
     "data": {
      "image/png": "[encoded data removed]",
      "text/plain": [
       "<matplotlib.figure.Figure at 0x7f73af43eb10>"
      ]
     },
     "metadata": {},
     "output_type": "display_data"
    }
   ],
   "source": [
    "fig = interaction_plot(data.dose, data.supp, data.len,\n",
    "             colors=['red','blue'], markers=['D','^'], ms=10)"
   ]
  },
  {
   "cell_type": "markdown",
   "metadata": {},
   "source": [
    "* 쉽게가자. \n",
    "* [구체적인문법들 참고](http://www.statsmodels.org/stable/generated/statsmodels.stats.anova.anova_lm.html?highlight=anova_lm#statsmodels.stats.anova.anova_lm)\n"
   ]
  },
  {
   "cell_type": "code",
   "execution_count": 57,
   "metadata": {},
   "outputs": [
    {
     "name": "stdout",
     "output_type": "stream",
     "text": [
      "                      sum_sq    df          F        PR(>F)\n",
      "C(supp)           205.350000   1.0  15.571979  2.311828e-04\n",
      "C(dose)          2426.434333   2.0  91.999965  4.046291e-18\n",
      "C(supp):C(dose)   108.319000   2.0   4.106991  2.186027e-02\n",
      "Residual          712.106000  54.0        NaN           NaN\n"
     ]
    }
   ],
   "source": [
    "from statsmodels.formula.api import ols\n",
    "from statsmodels.stats.anova import anova_lm\n",
    "formula = 'len ~ C(supp) + C(dose) + C(supp):C(dose)'\n",
    "model = ols(formula, data).fit()\n",
    "aov_table = anova_lm(model, typ=2)\n",
    "print(aov_table)"
   ]
  },
  {
   "cell_type": "code",
   "execution_count": null,
   "metadata": {
    "collapsed": true
   },
   "outputs": [],
   "source": []
  },
  {
   "cell_type": "code",
   "execution_count": 65,
   "metadata": {
    "collapsed": true
   },
   "outputs": [],
   "source": [
    "datafile=\"./file_170904/twowayanova.csv\"\n",
    "data = pd.read_csv(datafile)"
   ]
  },
  {
   "cell_type": "code",
   "execution_count": 71,
   "metadata": {},
   "outputs": [
    {
     "data": {
      "text/html": [
       "<div>\n",
       "<style>\n",
       "    .dataframe thead tr:only-child th {\n",
       "        text-align: right;\n",
       "    }\n",
       "\n",
       "    .dataframe thead th {\n",
       "        text-align: left;\n",
       "    }\n",
       "\n",
       "    .dataframe tbody tr th {\n",
       "        vertical-align: top;\n",
       "    }\n",
       "</style>\n",
       "<table border=\"1\" class=\"dataframe\">\n",
       "  <thead>\n",
       "    <tr style=\"text-align: right;\">\n",
       "      <th></th>\n",
       "      <th>Genotype</th>\n",
       "      <th>Enzyme_activity</th>\n",
       "      <th>Gender</th>\n",
       "    </tr>\n",
       "  </thead>\n",
       "  <tbody>\n",
       "    <tr>\n",
       "      <th>0</th>\n",
       "      <td>FF</td>\n",
       "      <td>2.838</td>\n",
       "      <td>F</td>\n",
       "    </tr>\n",
       "    <tr>\n",
       "      <th>1</th>\n",
       "      <td>FF</td>\n",
       "      <td>4.216</td>\n",
       "      <td>F</td>\n",
       "    </tr>\n",
       "    <tr>\n",
       "      <th>2</th>\n",
       "      <td>FF</td>\n",
       "      <td>2.889</td>\n",
       "      <td>F</td>\n",
       "    </tr>\n",
       "    <tr>\n",
       "      <th>3</th>\n",
       "      <td>FF</td>\n",
       "      <td>4.198</td>\n",
       "      <td>F</td>\n",
       "    </tr>\n",
       "    <tr>\n",
       "      <th>4</th>\n",
       "      <td>FS</td>\n",
       "      <td>3.550</td>\n",
       "      <td>F</td>\n",
       "    </tr>\n",
       "    <tr>\n",
       "      <th>5</th>\n",
       "      <td>FS</td>\n",
       "      <td>4.556</td>\n",
       "      <td>F</td>\n",
       "    </tr>\n",
       "    <tr>\n",
       "      <th>6</th>\n",
       "      <td>FS</td>\n",
       "      <td>3.087</td>\n",
       "      <td>F</td>\n",
       "    </tr>\n",
       "    <tr>\n",
       "      <th>7</th>\n",
       "      <td>FS</td>\n",
       "      <td>1.943</td>\n",
       "      <td>F</td>\n",
       "    </tr>\n",
       "    <tr>\n",
       "      <th>8</th>\n",
       "      <td>SS</td>\n",
       "      <td>3.620</td>\n",
       "      <td>F</td>\n",
       "    </tr>\n",
       "    <tr>\n",
       "      <th>9</th>\n",
       "      <td>SS</td>\n",
       "      <td>3.079</td>\n",
       "      <td>F</td>\n",
       "    </tr>\n",
       "    <tr>\n",
       "      <th>10</th>\n",
       "      <td>SS</td>\n",
       "      <td>3.586</td>\n",
       "      <td>F</td>\n",
       "    </tr>\n",
       "    <tr>\n",
       "      <th>11</th>\n",
       "      <td>SS</td>\n",
       "      <td>2.669</td>\n",
       "      <td>F</td>\n",
       "    </tr>\n",
       "    <tr>\n",
       "      <th>12</th>\n",
       "      <td>FF</td>\n",
       "      <td>1.884</td>\n",
       "      <td>M</td>\n",
       "    </tr>\n",
       "    <tr>\n",
       "      <th>13</th>\n",
       "      <td>FF</td>\n",
       "      <td>2.283</td>\n",
       "      <td>M</td>\n",
       "    </tr>\n",
       "    <tr>\n",
       "      <th>14</th>\n",
       "      <td>FF</td>\n",
       "      <td>4.939</td>\n",
       "      <td>M</td>\n",
       "    </tr>\n",
       "    <tr>\n",
       "      <th>15</th>\n",
       "      <td>FF</td>\n",
       "      <td>3.486</td>\n",
       "      <td>M</td>\n",
       "    </tr>\n",
       "    <tr>\n",
       "      <th>16</th>\n",
       "      <td>FS</td>\n",
       "      <td>2.396</td>\n",
       "      <td>M</td>\n",
       "    </tr>\n",
       "    <tr>\n",
       "      <th>17</th>\n",
       "      <td>FS</td>\n",
       "      <td>2.956</td>\n",
       "      <td>M</td>\n",
       "    </tr>\n",
       "    <tr>\n",
       "      <th>18</th>\n",
       "      <td>FS</td>\n",
       "      <td>3.105</td>\n",
       "      <td>M</td>\n",
       "    </tr>\n",
       "    <tr>\n",
       "      <th>19</th>\n",
       "      <td>FS</td>\n",
       "      <td>2.649</td>\n",
       "      <td>M</td>\n",
       "    </tr>\n",
       "    <tr>\n",
       "      <th>20</th>\n",
       "      <td>SS</td>\n",
       "      <td>2.801</td>\n",
       "      <td>M</td>\n",
       "    </tr>\n",
       "    <tr>\n",
       "      <th>21</th>\n",
       "      <td>SS</td>\n",
       "      <td>3.421</td>\n",
       "      <td>M</td>\n",
       "    </tr>\n",
       "    <tr>\n",
       "      <th>22</th>\n",
       "      <td>SS</td>\n",
       "      <td>4.275</td>\n",
       "      <td>M</td>\n",
       "    </tr>\n",
       "    <tr>\n",
       "      <th>23</th>\n",
       "      <td>SS</td>\n",
       "      <td>3.110</td>\n",
       "      <td>M</td>\n",
       "    </tr>\n",
       "  </tbody>\n",
       "</table>\n",
       "</div>"
      ],
      "text/plain": [
       "   Genotype  Enzyme_activity Gender\n",
       "0        FF            2.838      F\n",
       "1        FF            4.216      F\n",
       "2        FF            2.889      F\n",
       "3        FF            4.198      F\n",
       "4        FS            3.550      F\n",
       "5        FS            4.556      F\n",
       "6        FS            3.087      F\n",
       "7        FS            1.943      F\n",
       "8        SS            3.620      F\n",
       "9        SS            3.079      F\n",
       "10       SS            3.586      F\n",
       "11       SS            2.669      F\n",
       "12       FF            1.884      M\n",
       "13       FF            2.283      M\n",
       "14       FF            4.939      M\n",
       "15       FF            3.486      M\n",
       "16       FS            2.396      M\n",
       "17       FS            2.956      M\n",
       "18       FS            3.105      M\n",
       "19       FS            2.649      M\n",
       "20       SS            2.801      M\n",
       "21       SS            3.421      M\n",
       "22       SS            4.275      M\n",
       "23       SS            3.110      M"
      ]
     },
     "execution_count": 71,
     "metadata": {},
     "output_type": "execute_result"
    }
   ],
   "source": [
    "data"
   ]
  },
  {
   "cell_type": "code",
   "execution_count": 68,
   "metadata": {},
   "outputs": [
    {
     "data": {
      "image/png": "[encoded data removed]",
      "text/plain": [
       "<matplotlib.figure.Figure at 0x7f73af3c8190>"
      ]
     },
     "metadata": {},
     "output_type": "display_data"
    }
   ],
   "source": [
    "fig = interaction_plot(data['Genotype'], data['Gender'], data['Enzyme_activity'].astype(float),\n",
    "             colors=['red','blue'], markers=['D','^'], ms=10)"
   ]
  },
  {
   "cell_type": "code",
   "execution_count": 70,
   "metadata": {},
   "outputs": [
    {
     "name": "stdout",
     "output_type": "stream",
     "text": [
      "                          sum_sq    df         F    PR(>F)\n",
      "C(Genotype)             0.483851   2.0  0.331750  0.721963\n",
      "C(Gender)               0.356728   1.0  0.489178  0.493234\n",
      "C(Genotype):C(Gender)   0.511611   2.0  0.350783  0.708844\n",
      "Residual               13.126324  18.0       NaN       NaN\n"
     ]
    }
   ],
   "source": [
    "from statsmodels.formula.api import ols\n",
    "from statsmodels.stats.anova import anova_lm\n",
    "formula = 'Enzyme_activity ~ C(Genotype) + C(Gender) + C(Genotype):C(Gender)'\n",
    "model = ols(formula, data).fit()\n",
    "aov_table = anova_lm(model, typ=2)\n",
    "print(aov_table)"
   ]
  },
  {
   "cell_type": "code",
   "execution_count": null,
   "metadata": {
    "collapsed": true
   },
   "outputs": [],
   "source": []
  }
 ],
 "metadata": {
  "kernelspec": {
   "display_name": "Python [default]",
   "language": "python",
   "name": "python2"
  },
  "language_info": {
   "codemirror_mode": {
    "name": "ipython",
    "version": 2
   },
   "file_extension": ".py",
   "mimetype": "text/x-python",
   "name": "python",
   "nbconvert_exporter": "python",
   "pygments_lexer": "ipython2",
   "version": "2.7.13"
  }
 },
 "nbformat": 4,
 "nbformat_minor": 2
}
