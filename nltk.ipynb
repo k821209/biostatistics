{
 "cells": [
  {
   "cell_type": "code",
   "execution_count": 1,
   "metadata": {},
   "outputs": [
    {
     "name": "stdout",
     "output_type": "stream",
     "text": [
      "Can a dog see in colour\n",
      "['MD-DT-NN', 'DT-NN-NN', 'NN-NN-IN', 'NN-IN-NN']\n"
     ]
    }
   ],
   "source": [
    "import sys\n",
    "sys.path.append('./nltk_tut/')\n",
    "import features\n",
    "\n",
    "sentence = \"Can a dog see in colour?\"\n",
    "\n",
    "sentence = features.strip_sentence(sentence)\n",
    "print(sentence)\n",
    "pos = features.get_pos(sentence)\n",
    "triples = features.get_triples(pos)\n",
    "\n",
    "print(triples)"
   ]
  },
  {
   "cell_type": "code",
   "execution_count": 4,
   "metadata": {
    "collapsed": true
   },
   "outputs": [],
   "source": [
    "import nltk"
   ]
  },
  {
   "cell_type": "code",
   "execution_count": 5,
   "metadata": {},
   "outputs": [
    {
     "name": "stdout",
     "output_type": "stream",
     "text": [
      "[nltk_data] Downloading package stopwords to\n",
      "[nltk_data]     /home/k821209/nltk_data...\n",
      "[nltk_data]   Unzipping corpora/stopwords.zip.\n"
     ]
    },
    {
     "data": {
      "text/plain": [
       "True"
      ]
     },
     "execution_count": 5,
     "metadata": {},
     "output_type": "execute_result"
    }
   ],
   "source": [
    "nltk.download('stopwords')\n",
    "\n",
    "nltk.download('punkt')\n",
    "\n",
    "nltk.download('averaged_perceptron_tagger')"
   ]
  },
  {
   "cell_type": "code",
   "execution_count": 4,
   "metadata": {
    "collapsed": true
   },
   "outputs": [],
   "source": [
    "from nltk import sent_tokenize"
   ]
  },
  {
   "cell_type": "code",
   "execution_count": 12,
   "metadata": {},
   "outputs": [
    {
     "name": "stdout",
     "output_type": "stream",
     "text": [
      "{'endTuple2': 0, 'sTripleScore': 0, 'qVerbCombo': 1, 'endTuple0': 1, 'VBZ': 0, 'verbBeforeNoun': 1, 'NNPS': 0, 'stemmedEndNN': 0, 'CD': 0, 'class': 'X', 'wordCount': 6, 'endTuple1': 0, 'VBG': 0, 'id': '1', 'NNS': 0, 'NN': 3, 'qMark': 1, 'PRP': 0, 'stemmedCount': 4, 'startTuple0': 0, 'NNP': 0, 'qTripleScore': 0}\n",
      "{'endTuple2': 0, 'sTripleScore': 0, 'qVerbCombo': 1, 'endTuple0': 0, 'VBZ': 0, 'verbBeforeNoun': 0, 'NNPS': 0, 'stemmedEndNN': 0, 'CD': 0, 'class': 'X', 'wordCount': 4, 'endTuple1': 0, 'VBG': 1, 'id': '2', 'NNS': 0, 'NN': 0, 'qMark': 1, 'PRP': 1, 'stemmedCount': 3, 'startTuple0': 0, 'NNP': 2, 'qTripleScore': 0}\n",
      "{'endTuple2': 0, 'sTripleScore': 2, 'qVerbCombo': 1, 'endTuple0': 0, 'VBZ': 0, 'verbBeforeNoun': 0, 'NNPS': 0, 'stemmedEndNN': 0, 'CD': 3, 'class': 'X', 'wordCount': 12, 'endTuple1': 0, 'VBG': 0, 'id': '3', 'NNS': 1, 'NN': 1, 'qMark': 0, 'PRP': 0, 'stemmedCount': 8, 'startTuple0': 0, 'NNP': 1, 'qTripleScore': 0}\n",
      "{'endTuple2': 0, 'sTripleScore': 0, 'qVerbCombo': 1, 'endTuple0': 0, 'VBZ': 0, 'verbBeforeNoun': 1, 'NNPS': 0, 'stemmedEndNN': 0, 'CD': 1, 'class': 'X', 'wordCount': 6, 'endTuple1': 1, 'VBG': 0, 'id': '4', 'NNS': 0, 'NN': 0, 'qMark': 0, 'PRP': 0, 'stemmedCount': 4, 'startTuple0': 0, 'NNP': 0, 'qTripleScore': 4}\n"
     ]
    }
   ],
   "source": [
    "#### Bespoke Features Generator Example - Get a Python Dictionary of Features ####\n",
    "sentences = [\"Can a dog see in colour?\",\n",
    "             \"Hey, How's it going?\",\n",
    "             \"Oracle 12.2 will be released for on-premises users on 15 March 2017\",\n",
    "             \"When will Oracle 12 be released\"]\n",
    "id = 1\n",
    "for s in sentences:\n",
    "    features_dict = features.features_dict(str(id),s)\n",
    "    features_string,header = features.get_string(str(id),s)\n",
    "    print(features_dict)\n",
    "    #print(features_string)\n",
    "    id += 1"
   ]
  },
  {
   "cell_type": "code",
   "execution_count": 7,
   "metadata": {
    "collapsed": true
   },
   "outputs": [],
   "source": [
    "# 문장이 Questions (Q), Chat (C), Statements (S) 로 분류 되어있다.\n",
    "import pandas as pd \n",
    "df = pd.read_csv('./nltk_tut/sentences.csv')"
   ]
  },
  {
   "cell_type": "code",
   "execution_count": 8,
   "metadata": {},
   "outputs": [
    {
     "data": {
      "text/html": [
       "<div>\n",
       "<style>\n",
       "    .dataframe thead tr:only-child th {\n",
       "        text-align: right;\n",
       "    }\n",
       "\n",
       "    .dataframe thead th {\n",
       "        text-align: left;\n",
       "    }\n",
       "\n",
       "    .dataframe tbody tr th {\n",
       "        vertical-align: top;\n",
       "    }\n",
       "</style>\n",
       "<table border=\"1\" class=\"dataframe\">\n",
       "  <thead>\n",
       "    <tr style=\"text-align: right;\">\n",
       "      <th></th>\n",
       "      <th>SENTENCE</th>\n",
       "      <th>CLASS</th>\n",
       "    </tr>\n",
       "  </thead>\n",
       "  <tbody>\n",
       "    <tr>\n",
       "      <th>0</th>\n",
       "      <td>Sorry, I don't know about the weather.</td>\n",
       "      <td>S</td>\n",
       "    </tr>\n",
       "    <tr>\n",
       "      <th>1</th>\n",
       "      <td>That is a tricky question to answer.</td>\n",
       "      <td>C</td>\n",
       "    </tr>\n",
       "    <tr>\n",
       "      <th>2</th>\n",
       "      <td>What does OCM stand for</td>\n",
       "      <td>Q</td>\n",
       "    </tr>\n",
       "    <tr>\n",
       "      <th>3</th>\n",
       "      <td>MAX is a Mobile Application Accelerator</td>\n",
       "      <td>S</td>\n",
       "    </tr>\n",
       "    <tr>\n",
       "      <th>4</th>\n",
       "      <td>Can a dog see in colour?</td>\n",
       "      <td>Q</td>\n",
       "    </tr>\n",
       "  </tbody>\n",
       "</table>\n",
       "</div>"
      ],
      "text/plain": [
       "                                  SENTENCE CLASS\n",
       "0   Sorry, I don't know about the weather.     S\n",
       "1     That is a tricky question to answer.     C\n",
       "2                  What does OCM stand for     Q\n",
       "3  MAX is a Mobile Application Accelerator     S\n",
       "4                 Can a dog see in colour?     Q"
      ]
     },
     "execution_count": 8,
     "metadata": {},
     "output_type": "execute_result"
    }
   ],
   "source": [
    "df.head()"
   ]
  },
  {
   "cell_type": "code",
   "execution_count": 9,
   "metadata": {},
   "outputs": [
    {
     "name": "stdout",
     "output_type": "stream",
     "text": [
      "Can a dog see in colour\n",
      "['MD-DT-NN', 'DT-NN-NN', 'NN-NN-IN', 'NN-IN-NN']\n"
     ]
    }
   ],
   "source": [
    "# pos tagging 품사 구분 \n",
    "# \n",
    "sentence = \"Can a dog see in colour?\"\n",
    "\n",
    "sentence = features.strip_sentence(sentence)\n",
    "print(sentence)\n",
    "pos = features.get_pos(sentence)\n",
    "triples = features.get_triples(pos)\n",
    "\n",
    "print(triples)"
   ]
  },
  {
   "cell_type": "code",
   "execution_count": 10,
   "metadata": {},
   "outputs": [
    {
     "data": {
      "text/plain": [
       "[('Can', 'MD'),\n",
       " ('a', 'DT'),\n",
       " ('dog', 'NN'),\n",
       " ('see', 'NN'),\n",
       " ('in', 'IN'),\n",
       " ('colour', 'NN')]"
      ]
     },
     "execution_count": 10,
     "metadata": {},
     "output_type": "execute_result"
    }
   ],
   "source": [
    "pos"
   ]
  },
  {
   "cell_type": "code",
   "execution_count": 14,
   "metadata": {},
   "outputs": [
    {
     "data": {
      "text/plain": [
       "'4,6,4,1,0,1,0,0,0,0,0,0,0,1,0,0,0,1,0,4,0,X'"
      ]
     },
     "execution_count": 14,
     "metadata": {},
     "output_type": "execute_result"
    }
   ],
   "source": [
    "features_string"
   ]
  },
  {
   "cell_type": "code",
   "execution_count": 15,
   "metadata": {},
   "outputs": [
    {
     "ename": "SyntaxError",
     "evalue": "Missing parentheses in call to 'print' (<ipython-input-15-571956787cfe>, line 6)",
     "output_type": "error",
     "traceback": [
      "\u001b[0;36m  File \u001b[0;32m\"<ipython-input-15-571956787cfe>\"\u001b[0;36m, line \u001b[0;32m6\u001b[0m\n\u001b[0;31m    print \"Before :\", sentences[0]\u001b[0m\n\u001b[0m                   ^\u001b[0m\n\u001b[0;31mSyntaxError\u001b[0m\u001b[0;31m:\u001b[0m Missing parentheses in call to 'print'\n"
     ]
    }
   ],
   "source": [
    "def do_spacy(sentences):\n",
    "    import spacy\n",
    "    X_train_sp = []\n",
    "    for sentence in sentences:\n",
    "        X_train_sp += [' '.join([x.lemma_ for x in sp_en(unicode(sentence))])]\n",
    "    print \"Before :\", sentences[0]\n",
    "    print \"After :\", X_train_sp[0]\n",
    "    return X_train_sp"
   ]
  },
  {
   "cell_type": "code",
   "execution_count": 16,
   "metadata": {},
   "outputs": [
    {
     "data": {
      "text/plain": [
       "'id,wordCount,stemmedCount,qVerbCombo,qMark,verbBeforeNoun,VBG,VBZ,NNP,NN,NNS,NNPS,PRP,CD,StemmedEndNN,startTuple1,endTuple1,endTuple2,endTuple3,qTripleScore,sTripleScore,class'"
      ]
     },
     "execution_count": 16,
     "metadata": {},
     "output_type": "execute_result"
    }
   ],
   "source": [
    "header"
   ]
  },
  {
   "cell_type": "code",
   "execution_count": null,
   "metadata": {
    "collapsed": true
   },
   "outputs": [],
   "source": []
  }
 ],
 "metadata": {
  "kernelspec": {
   "display_name": "Python 3",
   "language": "python",
   "name": "python3"
  },
  "language_info": {
   "codemirror_mode": {
    "name": "ipython",
    "version": 3
   },
   "file_extension": ".py",
   "mimetype": "text/x-python",
   "name": "python",
   "nbconvert_exporter": "python",
   "pygments_lexer": "ipython3",
   "version": "3.4.3"
  }
 },
 "nbformat": 4,
 "nbformat_minor": 2
}
