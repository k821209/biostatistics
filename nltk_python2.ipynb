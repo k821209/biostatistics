{
 "cells": [
  {
   "cell_type": "code",
   "execution_count": 298,
   "metadata": {},
   "outputs": [],
   "source": [
    "%matplotlib inline\n",
    "import matplotlib.pyplot as plt\n",
    "from __future__ import print_function\n",
    "import nltk\n",
    "from nltk import sent_tokenize\n",
    "from collections import Counter\n",
    "import pandas as pd\n",
    "import numpy as np"
   ]
  },
  {
   "cell_type": "code",
   "execution_count": 299,
   "metadata": {},
   "outputs": [],
   "source": [
    "# pos tag information \n",
    "from nltk.data import load\n",
    "tagdict = load('help/tagsets/upenn_tagset.pickle')"
   ]
  },
  {
   "cell_type": "code",
   "execution_count": 301,
   "metadata": {},
   "outputs": [
    {
     "name": "stdout",
     "output_type": "stream",
     "text": [
      "[nltk_data] Downloading package averaged_perceptron_tagger to\n",
      "[nltk_data]     /home/k821209/nltk_data...\n",
      "[nltk_data]   Package averaged_perceptron_tagger is already up-to-\n",
      "[nltk_data]       date!\n"
     ]
    },
    {
     "data": {
      "text/plain": [
       "True"
      ]
     },
     "execution_count": 301,
     "metadata": {},
     "output_type": "execute_result"
    }
   ],
   "source": [
    "nltk.download('averaged_perceptron_tagger')"
   ]
  },
  {
   "cell_type": "code",
   "execution_count": 300,
   "metadata": {
    "collapsed": true
   },
   "outputs": [],
   "source": [
    "# preparing feature set\n",
    "questionTriples = ['CD-VB-VBN',\n",
    "                   'MD-PRP-VB' ,\n",
    "                   'MD-VB-CD' ,\n",
    "                   'NN-IN-DT' ,\n",
    "                   'PRP-VB-PRP' ,\n",
    "                   'PRP-WP-NNP' ,\n",
    "                   'VB-CD-VB' ,\n",
    "                   'VB-PRP-WP' ,\n",
    "                   'VBZ-DT-NN' ,\n",
    "                   'WP-VBZ-DT' ,\n",
    "                   'WP-VBZ-NNP' ,\n",
    "                   'WRB-MD-VB']\n",
    "\n",
    "statementTriples = ['DT-JJ-NN',\n",
    "                   'DT-NN-VBZ',\n",
    "                   'DT-NNP-NNP',\n",
    "                   'IN-DT-NN',\n",
    "                   'IN-NN-NNS',\n",
    "                   'MD-VB-VBN',\n",
    "                   'NNP-IN-NNP',\n",
    "                   'NNP-NNP-NNP',\n",
    "                   'NNP-VBZ-DT',\n",
    "                   'NNP-VBZ-NNP',\n",
    "                   'NNS-IN-DT',\n",
    "                   'VB-VBN-IN',\n",
    "                   'VBZ-DT-JJ']\n",
    "\n",
    "\n",
    "startTuples = ['NNS-DT',\n",
    "               'WP-VBZ',\n",
    "               'WRB-MD']                      \n",
    "\n",
    "endTuples = ['IN-NN',\n",
    "             'VB-VBN',\n",
    "             'VBZ-NNP'] \n",
    "\n",
    "features = questionTriples + statementTriples + startTuples + endTuples"
   ]
  },
  {
   "cell_type": "code",
   "execution_count": 88,
   "metadata": {},
   "outputs": [],
   "source": [
    "def do_spacy(sentences):\n",
    "    import spacy\n",
    "    sp_en = spacy.load('en')\n",
    "    X_train_sp = []\n",
    "    for sentence in sentences:\n",
    "        X_train_sp += [' '.join([x.lemma_ for x in sp_en(unicode(sentence))])]\n",
    "    print (\"Before :\", sentences[0])\n",
    "    print (\"After :\", X_train_sp[0])\n",
    "    return X_train_sp\n",
    "def do_vectorize(x_train):\n",
    "    from sklearn.feature_extraction.text import CountVectorizer\n",
    "    cv = CountVectorizer(stop_words='english',min_df=5)\n",
    "    bow = cv.fit_transform(x_train)\n",
    "    return bow.toarray()"
   ]
  },
  {
   "cell_type": "code",
   "execution_count": 215,
   "metadata": {},
   "outputs": [],
   "source": [
    "def get_pos_df(sentences):\n",
    "    dic_pos = {k:[] for k in features}\n",
    "    dic_pos['id'] = []\n",
    "    for n,s in enumerate(sentences):\n",
    "        pos_list = nltk.pos_tag(s.split())\n",
    "        postag_list = [x[1] for x in pos_list]\n",
    "        d = {}\n",
    "        for i, postag in enumerate(postag_list):\n",
    "            try:\n",
    "                tri = postag + '-' + postag_list[i+1] + '-' + postag_list[i+2]\n",
    "                try:\n",
    "                    d[tri] += 1\n",
    "                except KeyError:\n",
    "                    d[tri] = 1\n",
    "            except IndexError:\n",
    "                pass\n",
    "            \n",
    "            try:\n",
    "                di = postag + '-' + postag_list[i+1]\n",
    "                try:\n",
    "                    d[di] += 1\n",
    "                except KeyError:\n",
    "                    d[di] = 1\n",
    "            except IndexError:\n",
    "                pass\n",
    "            \n",
    "        #d = Counter(postag_list)\n",
    "        dic_pos['id'].append(str(n))\n",
    "        for feature in features:\n",
    "            try:\n",
    "                dic_pos[feature].append(d[feature])\n",
    "            except KeyError:\n",
    "                dic_pos[feature].append(0)\n",
    "    df = pd.DataFrame(dic_pos)\n",
    "    return df\n",
    "    "
   ]
  },
  {
   "cell_type": "code",
   "execution_count": 8,
   "metadata": {
    "collapsed": true
   },
   "outputs": [],
   "source": [
    "f = open('./pubmed_result_climate_change_korea.txt')\n",
    "fr = f.read()\n",
    "\n",
    "abstracts = []\n",
    "for each in fr.split('\\r\\n\\r\\n\\r\\n'):\n",
    "    for n,l in enumerate(each.split('\\r\\n\\r\\n')):\n",
    "        key = 'Author information:'\n",
    "        if l[0:len(key)] == key:\n",
    "            abstracts.append(each.split('\\r\\n\\r\\n')[n+1].strip().replace('\\r\\n',' '))"
   ]
  },
  {
   "cell_type": "code",
   "execution_count": null,
   "metadata": {
    "collapsed": true
   },
   "outputs": [],
   "source": [
    "sentences = []\n",
    "for abstract in abstracts:\n",
    "    sentences += sent_tokenize(abstract.decode(\"utf8\"))"
   ]
  },
  {
   "cell_type": "code",
   "execution_count": 79,
   "metadata": {},
   "outputs": [
    {
     "name": "stdout",
     "output_type": "stream",
     "text": [
      "Before : The Holocene variability in the East Asian summer monsoon (EASM) based on speleothem δ(18)O records has inconsistencies in timing, duration, and expression of millennial-scale events among nearby regions, and even within the same cave.\n",
      "After : the holocene variability in the east asian summer monsoon ( easm ) base on speleothem δ(18)o record have inconsistency in time , duration , and expression of millennial - scale event among nearby region , and even within the same cave .\n"
     ]
    }
   ],
   "source": [
    "sentences_sp = do_spacy(sentences)"
   ]
  },
  {
   "cell_type": "code",
   "execution_count": 89,
   "metadata": {
    "collapsed": true
   },
   "outputs": [],
   "source": [
    "x_train_sp_bow = do_vectorize(sentences_sp)"
   ]
  },
  {
   "cell_type": "code",
   "execution_count": 263,
   "metadata": {
    "collapsed": true
   },
   "outputs": [],
   "source": [
    "# sentence to pos \n",
    "df_allsent_pos = get_pos_df(sentences)"
   ]
  },
  {
   "cell_type": "code",
   "execution_count": 264,
   "metadata": {},
   "outputs": [],
   "source": [
    "x_allsent_pos = df_allsent_pos.values[:,:-1]"
   ]
  },
  {
   "cell_type": "code",
   "execution_count": 265,
   "metadata": {
    "collapsed": true
   },
   "outputs": [],
   "source": [
    "tsne = TSNE()\n",
    "x_allsent_pos_tsne = tsne.fit_transform(x_allsent_pos)"
   ]
  },
  {
   "cell_type": "code",
   "execution_count": 266,
   "metadata": {
    "collapsed": true
   },
   "outputs": [],
   "source": [
    "from sklearn.cluster import KMeans\n",
    "km = KMeans(n_clusters=20,random_state=0)\n",
    "cluster = km.fit_predict(x_allsent_pos_tsne)"
   ]
  },
  {
   "cell_type": "code",
   "execution_count": 267,
   "metadata": {},
   "outputs": [
    {
     "data": {
      "image/png": "[encoded data removed]",
      "text/plain": [
       "<matplotlib.figure.Figure at 0x7f2f9652cb50>"
      ]
     },
     "metadata": {},
     "output_type": "display_data"
    }
   ],
   "source": [
    "plt.scatter(x_allsent_pos_tsne[:,0],x_allsent_pos_tsne[:,1],c=cluster,cmap='rainbow')\n",
    "for x,y in zip(km.cluster_centers_,range(0,km.cluster_centers_.shape[0])):\n",
    "    plt.text(x[0],x[1],y)"
   ]
  },
  {
   "cell_type": "code",
   "execution_count": 270,
   "metadata": {},
   "outputs": [
    {
     "data": {
      "text/plain": [
       "array([ u'Coccophora langsdorfii (Turner) Greville (Fucales) is an intertidal brown alga that is endemic to Northeast Asia and increasingly endangered by habitat loss and climate change.',\n",
       "       u'The circular plastid genome is 124,450 bp and contains 139 protein-coding, 28 tRNA and 6 rRNA genes.',\n",
       "       u'Using a time-series design and piecewise linear regression models, we estimated the percentage change in AKI admissions associated with daily mean temperature after controlling for relevant  covariates.',\n",
       "       u'Biomass fraction data did not show a normal distribution.',\n",
       "       u'In addition, FA assimilation via FDH was found to be more efficient than the reverse reaction of PFL.',\n",
       "       u'Haemaphysalis longicornis is the only species of tick present in New Zealand which infests livestock and is also the only competent vector for Theileria orientalis.',\n",
       "       u'A rule-based climate envelope model was developed based on the environmental requirements for off-host tick survival.',\n",
       "       u'When brood rearing was suppressed, pathways associated with both protein degradation and synthesis were simultaneously over-represented in both nurses and foragers, and their overall pathway representation profiles resembled  those of normal foragers and nurses, respectively.',\n",
       "       u'The global diversity of airborne bacteria has not yet been studied, despite its importance in human health and climate change.',\n",
       "       u'The  use of 50\\xa0mM Fe(NO3)3 extracted significantly more Pb (above 96% extraction) from Pb minerals except PbSO4 (below 55% extraction) compared to the other washing agents.',\n",
       "       u'The AMO warm SST anomaly generates an atmospheric teleconnection to the North Pacific, which weakens the Aleutian low and subtropical North Pacific westerlies.',\n",
       "       u'The results show that the no heat-exposure risk group received higher wages.',\n",
       "       u'Marine reptiles are declining globally, and recent climate change may be a contributing factor.',\n",
       "       u'We investigated the genetic origin of Korean specimens by analyzing mitochondrial cytochrome b gene (Cytb) sequences.',\n",
       "       u'ultrafiltration (UF)) has been hindered due to the high concentration of algal cells and algal organic matter (AOM).',\n",
       "       u'Both titanium  coagulants also presented a higher ability to withstand shear force, which was related to the higher amount of DOC adsorbed with the aggregated flocs.',\n",
       "       u'Climate change causes permafrost thawing, and we are confronted with the unpredictable risk of newly discovered permafrost microbes that have disease-causing capabilities.',\n",
       "       u'Therefore, the overall lipid A validation process provides a general strategy for characterizing bacteria that have been isolated from arctic permafrost and analyzing their respective pathogenicities.',\n",
       "       u'Translational research predominantly from Japan and Korea involving animal models are important for the potential development of targeted pharmacotherapies for AC.',\n",
       "       u'The estimated lower thermal threshold was 15.6\\xb0C and the thermal constant was 65.6 degree days.',\n",
       "       u'A systemic infection model was constructed based on experimental data, using the infection rate (Lactin-2 model) and the infection distribution (three-parameter Weibull function) models, which accurately described the completion rate curves to systemic infection and the cumulative distributions obtained in the PVY-potato system, respectively.',\n",
       "       u'We have investigated short and small RNAs (sRNAs) that were bound to a biologically active hexahistidine-tagged Potato virus Y (PVY) HCPro suppressor of silencing, expressed from a heterologous virus vector in Nicotiana benthamiana plants, and purified under nondenaturing conditions.',\n",
       "       u'The other one-half of patients received no safety education (non-intervention group).',\n",
       "       u'Specialized health care providers who provide patient level education are needed to achieve a satisfactory patient safety climate.',\n",
       "       u'Libraries were prepared with 65-fold coverage and a total length of 295\\xa0Mb.',\n",
       "       u'Phylogenetic trees and network analysis consistently revealed three major haplotype groups (A, B, and C) in S. fusiforme, with A and B distributed in the Japan-Pacific coast.',\n",
       "       u'The cryptic diversity and phylogeographic patterns found in S. fusiforme not only are essential to understand how environmental shifts and evolutionary processes shaped diversity and distribution of coastal seaweeds but also provide additional insights for conserving and managing seaweed resources and facilitate predictions of their responses to future climate change and habitat loss.',\n",
       "       u'The incidences of VVS and shigellosis peaked the second week postdisaster and subsequently decreased.',\n",
       "       u'Algal DOM is considered to be a major obstacle in understanding membrane fouling due to its complicated interactions among dissimilar algal DOM constituents as well as between algal DOM and membrane material matrices.',\n",
       "       u'A broad understanding of algal DOM-driven membrane fouling can lead to breakthroughs in efficient membrane filtration processes to treat algal bloom water sources.',\n",
       "       u'DNA sequence-based metagenomics has recently emerged as a promising tool for analyzing the structure and diversity of microbial communities based on environmental DNA (eDNA).',\n",
       "       u'Our results suggest that North America will experience less TC landfalls, while northeast Asia will experience more TCs than in the present-day climate.',\n",
       "       u'Mesodinium rubrum Lohmann is a mixotrophic ciliate and one of the best studied species exhibiting acquired phototrophy.',\n",
       "       u'For the Hayward cultivar, D-PSA-K estimated the accumulated damage as approximately nine times the observed maximum disease incidence.',\n",
       "       u'Of these, 122 OTUs were retrieved  from the antibiotic-containing media, and 80 OTUs were recovered by one specific  antibiotic-containing medium.',\n",
       "       u'In the culture-independent approach, we conducted Illumina MiSeq amplicon sequencing of the 16S rRNA gene and obtained 19,215 high-quality sequences, which clustered into 478 OTUs belonging to 16 phyla.',\n",
       "       u'Growth periods (VE-R7) were significantly prolonged by the elevated temperatures, especially the R1-R5 period.',\n",
       "       u'Individual seed weight exhibited no significant variation among temperature elevation treatments; thus, seed weight likely had negligible impacts on overall seed yield.',\n",
       "       u'The major menaquinone  was MK-7 and polar lipids were phosphatidylethanolamine, six unknown aminolipids, and five unknown lipids.',\n",
       "       u'Here we report the development of Escherichia coli strains capable of overproducing a four-carbon platform chemical 4-hybroxybutyric acid (4-HB).',\n",
       "       u'The final engineered strain produced 103.4g/L of 4-HB by microaerobic fed-batch fermentation using glycerol.',\n",
       "       u'The aeration-dependent optimization strategy of TCA cycle will be useful for developing microbial strains producing other reduced derivative chemicals of TCA cycle intermediates.',\n",
       "       u'Consequently,  this study suggests that elevated water temperature due to aquatic climate change prior to sexual maturation and the onset of spawning can lead to the reproductive dysfunction of hermaphroditic K. marmoratus.',\n",
       "       u'We explore mechanisms that explain year-to-year variability and trends by deconstructing the global carbon budget.',\n",
       "       u'Since 2012, the area has suffered a high roe deer decline rate (75\\xa0%), for unknown reasons.',\n",
       "       u'To solve such problems, production of sustainable fuels has been intensively studied over the past years.',\n",
       "       u'No significant difference was found in the overall MEF of Hanwoo steers between T2 and T2DMI.',\n",
       "       u\"Global models are needed to better characterise, project, and mitigate bees' responses to these human impacts.\",\n",
       "       u'South Korea and  Taiwan have traversed a similar course to that in Japan.',\n",
       "       u'The Indo-Pacific warm pool (IPWP) has warmed and grown substantially during the past century.',\n",
       "       u'A maximum potential for airborne pollen is first determined using the Weibull probability density function.',\n",
       "       u'During the first 5 treatment weeks, AP treatment induced slower development and smaller snout-vent length (SVL) of exposed larvae, but only in the elevated temperature group.',\n",
       "       u'The results of genomic analyses suggested that C.\\xa0tyrobutyricum produces butyrate from butyryl-coenzyme A (butyryl-CoA) through  acetate reassimilation by CoA transferase, differently from Clostridium acetobutylicum, which uses the phosphotransbutyrylase-butyrate kinase pathway; this was validated by reverse transcription-PCR (RT-PCR) of related genes, protein expression levels, in vitro CoA transferase assay, and fed-batch fermentation.',\n",
       "       u'Unlike C.\\xa0acetobutylicum, the expression levels of proteins involved in glycolytic and fermentative pathways in C.\\xa0tyrobutyricum did not decrease even at the stationary phase.',\n",
       "       u\"In summary, the  pathogen's aggressiveness and fecundity were significantly lower in the late generation.\",\n",
       "       u'In the first stage, a Poisson regression model allowing over-dispersion was used to estimate the community-specific TV-mortality relationship, after controlling for potential confounders.',\n",
       "       u'The annual-mean contribution from fossil-fuel combustion to EC was 76 \\xb1 11% (0.1-1.3 \\u03bcg m(-3)).',\n",
       "       u'This research explored methods for estimating the biomass fraction at Korean MSW incinerator facilities and compared the biomass fractions obtained with the different biomass fraction estimation methods.',\n",
       "       u'DAYCENT, a process-based model, was used to simulate CO2 fluxes.',\n",
       "       u'An improved methodology CPTE [Combining Parameter estimation (PEST) with \"Trial and Error\" method] was used to calibrate DAYCENT.',\n",
       "       u'Phylogenetic analyses classified the groEL gene into two distinct groups (serine and alanine), whereas the msp2 gene showed a general classification into two groups (USA and Europe) that were further subgrouped according to region.',\n",
       "       u'Genome  sequencing demonstrated that Dechloromonas denitrificans possessed a clade II nosZ gene, and a measured Ks of 1.01 \\xb1 0.18 \\u03bcM for N2O was consistent with the values determined for the other clade II organisms tested.',\n",
       "       u'The relationship between total fecundity and temperature was well described by an extreme value function.',\n",
       "       u'Dimethyl sulphide (DMS) is an important compound in global atmospheric chemistry  and climate change.',\n",
       "       u'Results showed that the dynamic dilution method generates DMS gas mixtures ranging between 0.4 nmol/mol and 12 nmol/mol with relative expanded  uncertainties of less than 2%.',\n",
       "       u'Therefore, the newly developed dynamic dilution method is a promising reference method for generating sub-nmol/mol DMS gas standards for accurate ambient measurements.',\n",
       "       u'RESULTS: Compared with \"control days\", the average number of asthma-related visits to medical institutions decreased on \"event\" days and increased 1-5 d thereafter.',\n",
       "       u'The total  number of primers designed was 144.',\n",
       "       u'These EST-SSR markers will allow the molecular analysis of sweet potato to be done more efficiently.',\n",
       "       u'A total of 23,436  larval chigger mites (Family Trombiculidae) belonging to 3 genera and 8 species (Leptotrombidium pallidum, Leptotrombidium scutellare, Leptotrombidium palpale, Leptotrombidium orientale, Leptotrombidium zetum, Neotrombicula tamiyai, Neotrombicula japonica, and Euschoengastica koreaensis) were collected from the small mammals.',\n",
       "       u'Leptotrombidium scutellare was collected only along the southeastern coast at Yeongdeok, Gyeongbuk province.',\n",
       "       u'By challenging the dynamical paradigm of equatorial Atlantic variability, our findings suggest that the current theories on its modelling and  predictability must be revised.',\n",
       "       u'In these respects, airborne remote sensing sensors could be the most appropriate tools for monitoring these coastal areas.',\n",
       "       u'Calibration techniques and geophysical model algorithms were developed for the airborne system to observe the topography of intertidal flats, coastal sea surface current, sea surface temperature, and submarine groundwater discharge.',\n",
       "       u'We also show that the HR-like response elicited by transient coexpression of PVX P25 together with the potyviral helper component-proteinase protein was significantly enhanced by elevated temperature, whereas it was reduced by elevated [CO\\u2082].',\n",
       "       u'Sentiment analysis further confirmed that the primary emotive connections to the words were derived from the original context in which the word was framed.',\n",
       "       u'Strain B4Y-8T was a strictly aerobic, Gram-stain-negative, non-motile, short-rod-shaped bacterium producing a large amount of extracellular polymeric substance.',\n",
       "       u'Multimodel inference approach excellently projected the spatial distribution of cold-evergreens (AUC = 0.95, kappa = 0.62 and TSS = 0.77).',\n",
       "       u'This negative feedback on growing season vegetation temperature is attributed to enhanced evapotranspiration (ET).',\n",
       "       u'The corresponding figure for women was 2.6 mm, a statistically significant difference.',\n",
       "       u'In the rapidly growing economies of Asia and Oceania, food security has become a  primary concern.',\n",
       "       u'The maximum decrease in cumulative seasonal CH4 emissions was recorded 29.7% and 32.6% with Azolla-cyanobacteria plus phospho-gypsum amendments in paddy soils of  Japan and Bangladesh respectively, followed by 22.4% and 26.8% reduction with silicate slag plus Azolla-cyanobacteria application.',\n",
       "       u'The maximum decrease in GWP was calculated 22.0-30.0% with Azolla-cyanobacteria plus silicate slag amendments.',\n",
       "       u'The change of current agricultural management practices showed a high potential of reducing  N2O emission and nitrate leaching while maintaining current crop yields.',\n",
       "       u'We obtained 12,177,770 reads after trimming and processing with an average length of 97bp.',\n",
       "       u'In addition, 28,879 simple sequence repeats (SSRs) and 55,721 single nucleotide polymorphisms  (SNPs) were detected in the striped catfish transcriptome.',\n",
       "       u'The sequence collection generated in the current study represents the most comprehensive genomic resource for P. hypophthalmus available to date.',\n",
       "       u'The immigration time of S. lurida was estimated using an overwintered adult flight model.',\n",
       "       u'The rice transplanting time of three cultivars (early, medium, and medium-late maturing) was estimated by forecasting the optimal cultivation period using leaf appearance and final leaf number models.',\n",
       "       u'In the sulfate-dominant LTP events, air masses directly arrived at Gosan without passing over the Korean Peninsula from the industrial area of China within 48 hr.',\n",
       "       u'Several methods and technologies have been developed for H2 production, but none of them are able to replace the traditional combustion fuel used in automobiles so far.',\n",
       "       u'Extensively modified and  renovated methods and technologies are required to introduce H2 as an alternative efficient, clean, and cost-effective future fuel.',\n",
       "       u'To confirm the identified QTLs, another three-way-cross population derived from IR64//Milyang23/Giza178 was genotyped using 6K SNP chips.',\n",
       "       u'The threshold temperature was defined as the 90th percentile of maximum daily temperatures.',\n",
       "       u'The algae and water flux recovery rates of our new PNSM-1 are equal to\\u223c 94% and 100%, respectively, following a simulated membrane wash with deionized water and two subsequent water and microalgae filtration cycles.',\n",
       "       u'To test the hypothesis that  poor nutrition negatively affects osmoregulation, juvenile green sturgeon (222 d  posthatch) were randomly assigned to four feed restriction groups (12.5%, 25%, 50%, and 100% of the optimal feeding rate for 4 wk).',\n",
       "       u'Hydroxy fatty acids (HFAs) are some of the most important of these industrial FAs.',\n",
       "       u'Castor oil is the conventional source of HFA.',\n",
       "       u'When RcFAH12 gene was coexpressed with additional castor gene(s) in Arabidopsis,  ~30% HFAs were accumulated and the seed oil content and plant growth was almost restored to the wild-type level.',\n",
       "       u'We developed the compact wastewater retreatment and reuse system (WRRS), equipped with filters, ultraviolet light, and bubble elements.',\n",
       "       u'Among the advanced biofuels, hydrocarbons possess high-energy content and superior fuel properties to other biofuels, and thus have recently been attracting much research interest.',\n",
       "       u'The phylum Proteobacteria predominated at all three soil depths, with members of Proteobacteria forming a substantial fraction (25.64 to 39.29%).',\n",
       "       u'Every step took place in less than two centuries and was followed by no notable change in atmospheric CO2 for about 1,000 to 1,500\\xa0years.',\n",
       "       u'Malaria is regarded as a third grade nationally notifiable disease susceptible to climate change.',\n",
       "       u'Also,  a principal component regression model was constructed, considering multicollinearity.',\n",
       "       u'When the indigenous bacteria in AK 1-75 were enriched in an artificial mineral medium spiked with HA, the changes in relative abundance were most conspicuous in Proteobacteria (from 60.2 to 79.0%), specifically Betaproteobacteria-related bacteria.',\n",
       "       u'Temperature change variables are well-known and easy to communicate with the public relative to the health effects of outdoor temperature fluctuations.',\n",
       "       u'First, a fuzzy concept was applied because future forecast precipitation and their hydrological impact analysis results displayed significant variances when considering various climate change scenarios and long periods (e.g., 2010-2099).',\n",
       "       u'Here, by conducting observational analyses and model experiments, we show how Arctic sea-ice loss and cold winters  in extra-polar regions are dynamically connected through the polar stratosphere.',\n",
       "       u'We find that decreased sea-ice cover during early winter months (November-December), especially over the Barents-Kara seas, enhances the upward propagation of planetary-scale waves with wavenumbers of 1 and 2, subsequently weakening the stratospheric polar vortex in mid-winter (January-February).',\n",
       "       u'Thyroxine (T4) concentrations were decreased, while triiodothyronine (T3) levels remained constant following exposure to perchlorate, and this effect became more pronounced under the high water temperature conditions (33\\xb0C).',\n",
       "       u'On the contrary, GC has a continuous measurement limitation, but PAS makes it possible to conduct continuous measurements.',\n",
       "       u'Therefore, forest carbon credits are not a feasible solution without strong government support or institutional instruments.',\n",
       "       u'The tested soil columns had no C inputs, and only C utilization  by microbial activity and C transformations were assumed in the C chemistry.',\n",
       "       u'Twenty-two Member States provided answers to a comprehensive questionnaire that focused around eight thematic areas (Governance; Vulnerability, impact and adaptation (health) assessments; Adaptation strategies and action plans; Climate  change mitigation; Strengthening health systems; Raising awareness and building capacity; Greening health services; and Sharing best practices).',\n",
       "       u'The subarctic region is highly responsive and vulnerable to climate change.',\n",
       "       u'We first expressed the putative mitochondria targeting peptide- and chloroplast transit peptide-truncated proteins of PtPEPCase 1, mPtPEPCase 1 and cPtPEPCase 1, respectively, in E. coli.',\n",
       "       u'In theoretical terms, it is being securitized and included in the traditional security studies.',\n",
       "       u'Statistical trajectory analysis was applied to specify the potential emission regions for seven sources using back trajectories.',\n",
       "       u'The dominant tick species found were H. flava (226 ticks, 72.2\\xa0%) and I. turdus (54 ticks, 17.3\\xa0%), and ground-dwelling thrushes such as Pale thrushes (Turdus pallidus; 39 birds, 52.7\\xa0%) were the most  important hosts.',\n",
       "       u'RESULTS: The total number of deaths for last 12 years was 2 728 505.',\n",
       "       u'While 54.09% of the matched all-cause  deaths occurred at a medical institution, only 7.6% of casualties from meteorological events did.',\n",
       "       u'CONCLUSIONS: The new information gained on the particular characteristics contributing to casualties from meteorological events will be useful for developing prevention policies.',\n",
       "       u'Here, we used the \"counterfactual method\" to evaluate the climate change impact; For example, baseline temperature and 2030 mortality were used to  determine the baseline excess, and compared with the 2030 excess, for which we used 2030 temperature and 2030 mortality.',\n",
       "       u'CONCLUSIONS: Our new model is considered to be better fit, and more precise and robust compared with the previous model.',\n",
       "       u'The hybrid activated at 600 \\xb0C (PIG6) possesses a surface area of 534 m(2) g(-1) and a micropore volume of 0.29 cm(3) g(-1).',\n",
       "       u'Experimental warming studies provide us with a useful tool to examine the cascade of ecological processes in forest ecosystems that will change with future higher temperature.',\n",
       "       u'The surge of P. vivax in Northern Europe after the second world war was related to displacement of refugees and large movement of military personnel exposed to malaria.',\n",
       "       u'Carbon dioxide is a small, relatively inert, but highly volatile gas that not only gives beer its bubbles, but that also acts as one of the primary driving forces of anthropogenic climate change.',\n",
       "       u\"Climate change, caused by global warming, is increasingly recognized as a major threat to mankind's survival.\",\n",
       "       u'In 1974, the artificial inlet was excavated.',\n",
       "       u'After 30\\u2005cycles, the Fe-CA displayed strong activity, and the CO(2) capture efficiency was 26-fold higher than that of the free enzyme.',\n",
       "       u'These decreasing patterns were stronger for cardiovascular disease-related mortality than for all non-accidental deaths.',\n",
       "       u'The novel finding is that declines  in temperature-related mortality were particularly noteworthy in late summer.',\n",
       "       u'Also, the molecular machinery responsible for xenobiotic metabolism is mobilized at higher temperatures/ lower oxygen levels.',\n",
       "       u'This study identifies the global importance of BrC, which is shown  to contribute about 20% to 550-nm CA solar absorption globally.',\n",
       "       u'Ultimately 14 of these 36 PSMs define a CH(4) standard suite covering  the nominal ambient atmospheric range of 300-4000 nmol mol(-1).',\n",
       "       u'Understanding how past climate changes affected biodiversity is a key issue in contemporary ecology and conservation biology.',\n",
       "       u'SUMMARY: Vibrio cholerae, a highly transmissible organism, is found in aquatic reservoirs and is not an eradicable disease.',\n",
       "       u'Licensed newer-generation oral vaccines  have proven to be well tolerated, protective (including against new variant strains), and affordable and offer a new tool to control cholera.',\n",
       "       u'Climate change induced by recent global warming may have a significant impact on  vector-borne and zoonotic diseases.',\n",
       "       u'Blood samples were collected from 1,316 wild birds including the following migratory birds: Oceanodroma castro (n = 4), Anas formosa (n = 7), Anas penelope (n = 20), Fulica atra (n = 30), Anas acuta (n = 89), Anas crecca (n = 154), Anas platyrhynchos (n = 214), Aix galericulata (n = 310), and Anas poecilorhyncha (n = 488).',\n",
       "       u'RESULTS: The minimum temperature in March was significantly and positively correlated with tree pollen counts in March/April and patient numbers from April  through July.',\n",
       "       u'BACKGROUND: Meteorological disasters are an important component when considering  climate change issues that impact morbidity and mortality rates.',\n",
       "       u'This study developed a new framework to quantify spatial vulnerability for sustainable water resources management.',\n",
       "       u'The distribution was separated into two regions: the larger-sized territories and the smaller-sized territories.',\n",
       "       u'An expanded system boundary was employed to compare by-products.',\n",
       "       u'Costs and benefits were estimated by an avoided impact.',\n",
       "       u'Based on these findings, a linear equation for determining triacylglycerol content was derived.',\n",
       "       u'The proposed method gives satisfactory results, showing small variance and a good interpolation capability.',\n",
       "       u'Of the 25 liquid fertilizer samples examined most samples exceeded these prospective guidelines.',\n",
       "       u'The introduced carotenoid biosynthetic genes include geranylgeranyl diphosphate synthase (GGPS), phytoene desaturase (PDS), \\u03b6-carotene desaturase (ZDS), \\u03b2-carotene hydroxylase (CHX), and phytoene synthase (PSY).',\n",
       "       u\"Specifically, we used hierarchical models to incorporate the spatial variability in phenological responses to temperature to then forecast species' overall and site-specific responses to global warming.\",\n",
       "       u'METHODS: This study used a descriptive design through structured self-report questionnaires.',\n",
       "       u'The TAGs were then designated by the analogue composition of tree species belonging to the optimal WI and MTCI ranges.',\n",
       "       u'Feed manufacturing and composting, the common treatment methods currently employed, have been known to be environment friendlier than other methods.',\n",
       "       u'In addition, the results showed a different response to habitat change between northern and southern species.',\n",
       "       u'An aged population with less income and no support from their off-spring, because of disappearing traditional values, may have food insecurity.',\n",
       "       u'Phytoremediation is  an attractive technology for landfill remediation, as it can stabilize soil and simultaneously remediate landfill leachate.',\n",
       "       u'A warmer winter with less snowfall, as has been projected for northern Japan, will  alter the accumulation and melting of snowpacks and affect hydro-biogeochemical processes linking soil processes to surface water quality.',\n",
       "       u'For the mean daily AT increase of 1 degrees C above the thresholds in Seoul, Tokyo, and Taipei, estimated percentage increases in daily total mortality were 2.7 (95% confidence interval (CI)=2.2-3.1), 1.7 (95% CI=1.5-2.0), and 4.3 (95% CI=2.9-5.7), respectively.',\n",
       "       u'Beijing provided no total mortality counts.',\n",
       "       u'In the present study, gasification of biodiesel by-product, crude glycerin, was performed in an entrained flow gasifier.',\n",
       "       u'Area selected was disproportionately larger for SDMs run  on larger grid sizes, indicating a cut-off point above which model results were less reliable.',\n",
       "       u'Landfilling (48.86%), solid waste incineration (27%), and wastewater treatment (21.5%) were the major contributors.',\n",
       "       u'In summary, the GHG emissions estimated for the environmental sector in Taiwan provided reasonable preliminary results that were consistent and comparable with the existing authorized data.',\n",
       "       u'The threshold temperature was estimated to be between 27.0 degrees C and 29.7 degrees C for 4 cities.',\n",
       "       u'For a daily mean temperature increase of 1 degrees C above the thresholds in Seoul, Daegu, Incheon, and Gwangju, estimated percentage increases in daily mortality were 16.3 (95% confidence interval [CI] = 14.2-18.4), 9.10 (CI = 5.12-13.2), 7.01 (CI = 4.42-9.66), and 6.73 (CI = 2.47-11.2), respectively.',\n",
       "       u'It is the first estimation  of historical carbon emissions from forest fires in Korea during the last 40 years.',\n",
       "       u'Investigation was focused on the recent increase in large forest fires and its closely related factors.',\n",
       "       u'A simple modeling approach to estimate carbon emission was applied.',\n",
       "       u'In addition, the liver TBT levels demonstrated strong negative correlation to the hepatic cytochrome P450 content.',\n",
       "       u'Significant correlations were seen between the monthly frequency of CAPD peritonitis and temperature (r = 0.53, p < 0.05) and relative humidity (r = 0.59, p < 0.05).'],\n",
       "      dtype='<U726')"
      ]
     },
     "execution_count": 270,
     "metadata": {},
     "output_type": "execute_result"
    }
   ],
   "source": [
    "m = km.labels_ == 2\n",
    "np.array(sentences)[m]"
   ]
  },
  {
   "cell_type": "code",
   "execution_count": 271,
   "metadata": {},
   "outputs": [
    {
     "data": {
      "text/html": [
       "<div>\n",
       "<style>\n",
       "    .dataframe thead tr:only-child th {\n",
       "        text-align: right;\n",
       "    }\n",
       "\n",
       "    .dataframe thead th {\n",
       "        text-align: left;\n",
       "    }\n",
       "\n",
       "    .dataframe tbody tr th {\n",
       "        vertical-align: top;\n",
       "    }\n",
       "</style>\n",
       "<table border=\"1\" class=\"dataframe\">\n",
       "  <thead>\n",
       "    <tr style=\"text-align: right;\">\n",
       "      <th></th>\n",
       "      <th>CD-VB-VBN</th>\n",
       "      <th>DT-JJ-NN</th>\n",
       "      <th>DT-NN-VBZ</th>\n",
       "      <th>DT-NNP-NNP</th>\n",
       "      <th>IN-DT-NN</th>\n",
       "      <th>IN-NN</th>\n",
       "      <th>IN-NN-NNS</th>\n",
       "      <th>MD-PRP-VB</th>\n",
       "      <th>MD-VB-CD</th>\n",
       "      <th>MD-VB-VBN</th>\n",
       "      <th>...</th>\n",
       "      <th>VB-VBN-IN</th>\n",
       "      <th>VBZ-DT-JJ</th>\n",
       "      <th>VBZ-DT-NN</th>\n",
       "      <th>VBZ-NNP</th>\n",
       "      <th>WP-VBZ</th>\n",
       "      <th>WP-VBZ-DT</th>\n",
       "      <th>WP-VBZ-NNP</th>\n",
       "      <th>WRB-MD</th>\n",
       "      <th>WRB-MD-VB</th>\n",
       "      <th>id</th>\n",
       "    </tr>\n",
       "  </thead>\n",
       "  <tbody>\n",
       "    <tr>\n",
       "      <th>35</th>\n",
       "      <td>0</td>\n",
       "      <td>1</td>\n",
       "      <td>0</td>\n",
       "      <td>0</td>\n",
       "      <td>0</td>\n",
       "      <td>0</td>\n",
       "      <td>0</td>\n",
       "      <td>0</td>\n",
       "      <td>0</td>\n",
       "      <td>0</td>\n",
       "      <td>...</td>\n",
       "      <td>0</td>\n",
       "      <td>1</td>\n",
       "      <td>0</td>\n",
       "      <td>1</td>\n",
       "      <td>0</td>\n",
       "      <td>0</td>\n",
       "      <td>0</td>\n",
       "      <td>0</td>\n",
       "      <td>0</td>\n",
       "      <td>35</td>\n",
       "    </tr>\n",
       "    <tr>\n",
       "      <th>37</th>\n",
       "      <td>0</td>\n",
       "      <td>1</td>\n",
       "      <td>0</td>\n",
       "      <td>0</td>\n",
       "      <td>0</td>\n",
       "      <td>0</td>\n",
       "      <td>0</td>\n",
       "      <td>0</td>\n",
       "      <td>0</td>\n",
       "      <td>0</td>\n",
       "      <td>...</td>\n",
       "      <td>0</td>\n",
       "      <td>0</td>\n",
       "      <td>0</td>\n",
       "      <td>0</td>\n",
       "      <td>0</td>\n",
       "      <td>0</td>\n",
       "      <td>0</td>\n",
       "      <td>0</td>\n",
       "      <td>0</td>\n",
       "      <td>37</td>\n",
       "    </tr>\n",
       "    <tr>\n",
       "      <th>59</th>\n",
       "      <td>0</td>\n",
       "      <td>1</td>\n",
       "      <td>0</td>\n",
       "      <td>0</td>\n",
       "      <td>0</td>\n",
       "      <td>0</td>\n",
       "      <td>0</td>\n",
       "      <td>0</td>\n",
       "      <td>0</td>\n",
       "      <td>0</td>\n",
       "      <td>...</td>\n",
       "      <td>0</td>\n",
       "      <td>0</td>\n",
       "      <td>0</td>\n",
       "      <td>0</td>\n",
       "      <td>0</td>\n",
       "      <td>0</td>\n",
       "      <td>0</td>\n",
       "      <td>0</td>\n",
       "      <td>0</td>\n",
       "      <td>59</td>\n",
       "    </tr>\n",
       "    <tr>\n",
       "      <th>80</th>\n",
       "      <td>0</td>\n",
       "      <td>1</td>\n",
       "      <td>0</td>\n",
       "      <td>0</td>\n",
       "      <td>0</td>\n",
       "      <td>0</td>\n",
       "      <td>0</td>\n",
       "      <td>0</td>\n",
       "      <td>0</td>\n",
       "      <td>0</td>\n",
       "      <td>...</td>\n",
       "      <td>0</td>\n",
       "      <td>0</td>\n",
       "      <td>0</td>\n",
       "      <td>0</td>\n",
       "      <td>0</td>\n",
       "      <td>0</td>\n",
       "      <td>0</td>\n",
       "      <td>0</td>\n",
       "      <td>0</td>\n",
       "      <td>80</td>\n",
       "    </tr>\n",
       "    <tr>\n",
       "      <th>145</th>\n",
       "      <td>0</td>\n",
       "      <td>1</td>\n",
       "      <td>0</td>\n",
       "      <td>0</td>\n",
       "      <td>0</td>\n",
       "      <td>0</td>\n",
       "      <td>0</td>\n",
       "      <td>0</td>\n",
       "      <td>0</td>\n",
       "      <td>0</td>\n",
       "      <td>...</td>\n",
       "      <td>0</td>\n",
       "      <td>0</td>\n",
       "      <td>0</td>\n",
       "      <td>0</td>\n",
       "      <td>0</td>\n",
       "      <td>0</td>\n",
       "      <td>0</td>\n",
       "      <td>0</td>\n",
       "      <td>0</td>\n",
       "      <td>145</td>\n",
       "    </tr>\n",
       "  </tbody>\n",
       "</table>\n",
       "<p>5 rows × 32 columns</p>\n",
       "</div>"
      ],
      "text/plain": [
       "     CD-VB-VBN  DT-JJ-NN  DT-NN-VBZ  DT-NNP-NNP  IN-DT-NN  IN-NN  IN-NN-NNS  \\\n",
       "35           0         1          0           0         0      0          0   \n",
       "37           0         1          0           0         0      0          0   \n",
       "59           0         1          0           0         0      0          0   \n",
       "80           0         1          0           0         0      0          0   \n",
       "145          0         1          0           0         0      0          0   \n",
       "\n",
       "     MD-PRP-VB  MD-VB-CD  MD-VB-VBN ...   VB-VBN-IN  VBZ-DT-JJ  VBZ-DT-NN  \\\n",
       "35           0         0          0 ...           0          1          0   \n",
       "37           0         0          0 ...           0          0          0   \n",
       "59           0         0          0 ...           0          0          0   \n",
       "80           0         0          0 ...           0          0          0   \n",
       "145          0         0          0 ...           0          0          0   \n",
       "\n",
       "     VBZ-NNP  WP-VBZ  WP-VBZ-DT  WP-VBZ-NNP  WRB-MD  WRB-MD-VB   id  \n",
       "35         1       0          0           0       0          0   35  \n",
       "37         0       0          0           0       0          0   37  \n",
       "59         0       0          0           0       0          0   59  \n",
       "80         0       0          0           0       0          0   80  \n",
       "145        0       0          0           0       0          0  145  \n",
       "\n",
       "[5 rows x 32 columns]"
      ]
     },
     "execution_count": 271,
     "metadata": {},
     "output_type": "execute_result"
    }
   ],
   "source": [
    "df_allsent_pos[m].head()"
   ]
  },
  {
   "cell_type": "code",
   "execution_count": 272,
   "metadata": {},
   "outputs": [
    {
     "data": {
      "text/plain": [
       "('determiner',\n",
       " 'all an another any both del each either every half la many much nary neither no some such that the them these this those ')"
      ]
     },
     "execution_count": 272,
     "metadata": {},
     "output_type": "execute_result"
    }
   ],
   "source": [
    "tagdict['DT']"
   ]
  },
  {
   "cell_type": "code",
   "execution_count": 273,
   "metadata": {
    "scrolled": true
   },
   "outputs": [
    {
     "data": {
      "text/plain": [
       "('adjective or numeral, ordinal',\n",
       " 'third ill-mannered pre-war regrettable oiled calamitous first separable ectoplasmic battery-powered participatory fourth still-to-be-named multilingual multi-disciplinary ... ')"
      ]
     },
     "execution_count": 273,
     "metadata": {},
     "output_type": "execute_result"
    }
   ],
   "source": [
    "tagdict['JJ']"
   ]
  },
  {
   "cell_type": "code",
   "execution_count": 182,
   "metadata": {},
   "outputs": [
    {
     "data": {
      "image/png": "[encoded data removed]",
      "text/plain": [
       "<matplotlib.figure.Figure at 0x7f2f964dc5d0>"
      ]
     },
     "metadata": {},
     "output_type": "display_data"
    }
   ],
   "source": [
    "# 어떤 구분을 보이는지 보자. \n",
    "## PCA decomposition \n",
    "from sklearn.decomposition import PCA\n",
    "plt.figure(figsize=(10,5))\n",
    "pca = PCA(n_components=50)\n",
    "X_pca_pos = pca.fit_transform(x_train_sp_bow)\n",
    "\n",
    "plt.boxplot(X_pca_pos)\n",
    "plt.show()"
   ]
  },
  {
   "cell_type": "code",
   "execution_count": 120,
   "metadata": {
    "collapsed": true
   },
   "outputs": [],
   "source": [
    "from sklearn.manifold import TSNE"
   ]
  },
  {
   "cell_type": "code",
   "execution_count": 122,
   "metadata": {},
   "outputs": [],
   "source": [
    "tsne = TSNE()\n",
    "X_pca_bow_tsne = tsne.fit_transform(X_pca_bow)"
   ]
  },
  {
   "cell_type": "code",
   "execution_count": 123,
   "metadata": {},
   "outputs": [
    {
     "data": {
      "text/plain": [
       "<matplotlib.collections.PathCollection at 0x7f2f98fd1490>"
      ]
     },
     "execution_count": 123,
     "metadata": {},
     "output_type": "execute_result"
    },
    {
     "data": {
      "image/png": "[encoded data removed]",
      "text/plain": [
       "<matplotlib.figure.Figure at 0x7f2f97e01150>"
      ]
     },
     "metadata": {},
     "output_type": "display_data"
    }
   ],
   "source": [
    "plt.scatter(X_pca_bow_tsne[:,0],X_pca_bow_tsne[:,1])"
   ]
  },
  {
   "cell_type": "code",
   "execution_count": 169,
   "metadata": {},
   "outputs": [],
   "source": [
    "from sklearn.cluster import KMeans\n",
    "km = KMeans(n_clusters=20,random_state=0)\n",
    "cluster = km.fit_predict(X_pca_bow_tsne)"
   ]
  },
  {
   "cell_type": "code",
   "execution_count": 170,
   "metadata": {},
   "outputs": [
    {
     "data": {
      "image/png": "[encoded data removed]",
      "text/plain": [
       "<matplotlib.figure.Figure at 0x7f2f96447c50>"
      ]
     },
     "metadata": {},
     "output_type": "display_data"
    }
   ],
   "source": [
    "plt.scatter(X_pca_bow_tsne[:,0],X_pca_bow_tsne[:,1],c=cluster)\n",
    "for x,y in zip(km.cluster_centers_,range(0,km.cluster_centers_.shape[0])):\n",
    "    plt.text(x[0],x[1],y)"
   ]
  },
  {
   "cell_type": "code",
   "execution_count": 197,
   "metadata": {},
   "outputs": [],
   "source": [
    "m = km.labels_ == 19"
   ]
  },
  {
   "cell_type": "code",
   "execution_count": 198,
   "metadata": {},
   "outputs": [],
   "source": [
    "sub_sentences = np.array(sentences_sp)[m]"
   ]
  },
  {
   "cell_type": "code",
   "execution_count": 216,
   "metadata": {},
   "outputs": [],
   "source": [
    "df_pos = get_pos_df(sub_sentences)"
   ]
  },
  {
   "cell_type": "code",
   "execution_count": 217,
   "metadata": {},
   "outputs": [
    {
     "data": {
      "text/html": [
       "<div>\n",
       "<style>\n",
       "    .dataframe thead tr:only-child th {\n",
       "        text-align: right;\n",
       "    }\n",
       "\n",
       "    .dataframe thead th {\n",
       "        text-align: left;\n",
       "    }\n",
       "\n",
       "    .dataframe tbody tr th {\n",
       "        vertical-align: top;\n",
       "    }\n",
       "</style>\n",
       "<table border=\"1\" class=\"dataframe\">\n",
       "  <thead>\n",
       "    <tr style=\"text-align: right;\">\n",
       "      <th></th>\n",
       "      <th>CD-VB-VBN</th>\n",
       "      <th>DT-JJ-NN</th>\n",
       "      <th>DT-NN-VBZ</th>\n",
       "      <th>DT-NNP-NNP</th>\n",
       "      <th>IN-DT-NN</th>\n",
       "      <th>IN-NN</th>\n",
       "      <th>IN-NN-NNS</th>\n",
       "      <th>MD-PRP-VB</th>\n",
       "      <th>MD-VB-CD</th>\n",
       "      <th>MD-VB-VBN</th>\n",
       "      <th>...</th>\n",
       "      <th>VB-VBN-IN</th>\n",
       "      <th>VBZ-DT-JJ</th>\n",
       "      <th>VBZ-DT-NN</th>\n",
       "      <th>VBZ-NNP</th>\n",
       "      <th>WP-VBZ</th>\n",
       "      <th>WP-VBZ-DT</th>\n",
       "      <th>WP-VBZ-NNP</th>\n",
       "      <th>WRB-MD</th>\n",
       "      <th>WRB-MD-VB</th>\n",
       "      <th>id</th>\n",
       "    </tr>\n",
       "  </thead>\n",
       "  <tbody>\n",
       "    <tr>\n",
       "      <th>0</th>\n",
       "      <td>0</td>\n",
       "      <td>0</td>\n",
       "      <td>0</td>\n",
       "      <td>0</td>\n",
       "      <td>1</td>\n",
       "      <td>2</td>\n",
       "      <td>0</td>\n",
       "      <td>0</td>\n",
       "      <td>0</td>\n",
       "      <td>0</td>\n",
       "      <td>...</td>\n",
       "      <td>0</td>\n",
       "      <td>0</td>\n",
       "      <td>0</td>\n",
       "      <td>0</td>\n",
       "      <td>0</td>\n",
       "      <td>0</td>\n",
       "      <td>0</td>\n",
       "      <td>0</td>\n",
       "      <td>0</td>\n",
       "      <td>0</td>\n",
       "    </tr>\n",
       "    <tr>\n",
       "      <th>1</th>\n",
       "      <td>0</td>\n",
       "      <td>0</td>\n",
       "      <td>0</td>\n",
       "      <td>0</td>\n",
       "      <td>0</td>\n",
       "      <td>2</td>\n",
       "      <td>0</td>\n",
       "      <td>0</td>\n",
       "      <td>0</td>\n",
       "      <td>0</td>\n",
       "      <td>...</td>\n",
       "      <td>0</td>\n",
       "      <td>0</td>\n",
       "      <td>0</td>\n",
       "      <td>0</td>\n",
       "      <td>0</td>\n",
       "      <td>0</td>\n",
       "      <td>0</td>\n",
       "      <td>0</td>\n",
       "      <td>0</td>\n",
       "      <td>1</td>\n",
       "    </tr>\n",
       "    <tr>\n",
       "      <th>2</th>\n",
       "      <td>0</td>\n",
       "      <td>2</td>\n",
       "      <td>0</td>\n",
       "      <td>0</td>\n",
       "      <td>1</td>\n",
       "      <td>0</td>\n",
       "      <td>0</td>\n",
       "      <td>0</td>\n",
       "      <td>0</td>\n",
       "      <td>0</td>\n",
       "      <td>...</td>\n",
       "      <td>0</td>\n",
       "      <td>0</td>\n",
       "      <td>0</td>\n",
       "      <td>0</td>\n",
       "      <td>0</td>\n",
       "      <td>0</td>\n",
       "      <td>0</td>\n",
       "      <td>0</td>\n",
       "      <td>0</td>\n",
       "      <td>2</td>\n",
       "    </tr>\n",
       "    <tr>\n",
       "      <th>3</th>\n",
       "      <td>0</td>\n",
       "      <td>0</td>\n",
       "      <td>0</td>\n",
       "      <td>0</td>\n",
       "      <td>0</td>\n",
       "      <td>0</td>\n",
       "      <td>0</td>\n",
       "      <td>0</td>\n",
       "      <td>0</td>\n",
       "      <td>0</td>\n",
       "      <td>...</td>\n",
       "      <td>0</td>\n",
       "      <td>0</td>\n",
       "      <td>0</td>\n",
       "      <td>0</td>\n",
       "      <td>0</td>\n",
       "      <td>0</td>\n",
       "      <td>0</td>\n",
       "      <td>0</td>\n",
       "      <td>0</td>\n",
       "      <td>3</td>\n",
       "    </tr>\n",
       "    <tr>\n",
       "      <th>4</th>\n",
       "      <td>0</td>\n",
       "      <td>2</td>\n",
       "      <td>0</td>\n",
       "      <td>0</td>\n",
       "      <td>1</td>\n",
       "      <td>0</td>\n",
       "      <td>0</td>\n",
       "      <td>0</td>\n",
       "      <td>0</td>\n",
       "      <td>0</td>\n",
       "      <td>...</td>\n",
       "      <td>0</td>\n",
       "      <td>0</td>\n",
       "      <td>0</td>\n",
       "      <td>0</td>\n",
       "      <td>0</td>\n",
       "      <td>0</td>\n",
       "      <td>0</td>\n",
       "      <td>0</td>\n",
       "      <td>0</td>\n",
       "      <td>4</td>\n",
       "    </tr>\n",
       "  </tbody>\n",
       "</table>\n",
       "<p>5 rows × 32 columns</p>\n",
       "</div>"
      ],
      "text/plain": [
       "   CD-VB-VBN  DT-JJ-NN  DT-NN-VBZ  DT-NNP-NNP  IN-DT-NN  IN-NN  IN-NN-NNS  \\\n",
       "0          0         0          0           0         1      2          0   \n",
       "1          0         0          0           0         0      2          0   \n",
       "2          0         2          0           0         1      0          0   \n",
       "3          0         0          0           0         0      0          0   \n",
       "4          0         2          0           0         1      0          0   \n",
       "\n",
       "   MD-PRP-VB  MD-VB-CD  MD-VB-VBN ...  VB-VBN-IN  VBZ-DT-JJ  VBZ-DT-NN  \\\n",
       "0          0         0          0 ...          0          0          0   \n",
       "1          0         0          0 ...          0          0          0   \n",
       "2          0         0          0 ...          0          0          0   \n",
       "3          0         0          0 ...          0          0          0   \n",
       "4          0         0          0 ...          0          0          0   \n",
       "\n",
       "   VBZ-NNP  WP-VBZ  WP-VBZ-DT  WP-VBZ-NNP  WRB-MD  WRB-MD-VB  id  \n",
       "0        0       0          0           0       0          0   0  \n",
       "1        0       0          0           0       0          0   1  \n",
       "2        0       0          0           0       0          0   2  \n",
       "3        0       0          0           0       0          0   3  \n",
       "4        0       0          0           0       0          0   4  \n",
       "\n",
       "[5 rows x 32 columns]"
      ]
     },
     "execution_count": 217,
     "metadata": {},
     "output_type": "execute_result"
    }
   ],
   "source": [
    "df_pos.head()"
   ]
  },
  {
   "cell_type": "code",
   "execution_count": 218,
   "metadata": {
    "collapsed": true
   },
   "outputs": [],
   "source": [
    "X_sub = df_pos.values[:,:-1]"
   ]
  },
  {
   "cell_type": "code",
   "execution_count": 219,
   "metadata": {},
   "outputs": [
    {
     "data": {
      "text/plain": [
       "(148, 31)"
      ]
     },
     "execution_count": 219,
     "metadata": {},
     "output_type": "execute_result"
    }
   ],
   "source": [
    "X_sub.shape"
   ]
  },
  {
   "cell_type": "code",
   "execution_count": 220,
   "metadata": {
    "collapsed": true
   },
   "outputs": [],
   "source": [
    "tsne = TSNE()\n",
    "X_sub_tsne = tsne.fit_transform(X_sub)"
   ]
  },
  {
   "cell_type": "code",
   "execution_count": 225,
   "metadata": {
    "collapsed": true
   },
   "outputs": [],
   "source": [
    "from sklearn.cluster import KMeans\n",
    "km = KMeans(n_clusters=20,random_state=0)\n",
    "cluster = km.fit_predict(X_sub_tsne)"
   ]
  },
  {
   "cell_type": "code",
   "execution_count": 233,
   "metadata": {},
   "outputs": [
    {
     "data": {
      "image/png": "[encoded data removed]",
      "text/plain": [
       "<matplotlib.figure.Figure at 0x7f2f98af98d0>"
      ]
     },
     "metadata": {},
     "output_type": "display_data"
    }
   ],
   "source": [
    "plt.scatter(X_sub_tsne[:,0],X_sub_tsne[:,1],c=cluster,cmap='rainbow')\n",
    "for x,y in zip(km.cluster_centers_,range(0,km.cluster_centers_.shape[0])):\n",
    "    plt.text(x[0],x[1],y)"
   ]
  },
  {
   "cell_type": "code",
   "execution_count": 239,
   "metadata": {},
   "outputs": [],
   "source": [
    "m = km.labels_ == 10"
   ]
  },
  {
   "cell_type": "code",
   "execution_count": 240,
   "metadata": {},
   "outputs": [
    {
     "data": {
      "text/plain": [
       "array([ u'the incidence of vvs and shigellosis peak the 2 week postdisaster and subsequently decrease .',\n",
       "       u'the daily average precipitation interact with vvs and shigellosis incidence , whereas disaster type only interact with vvs incidence pattern .',\n",
       "       u'at 4 week of starvation , m. cf .',\n",
       "       u'at 10 week of starvation , only two m. cf .',\n",
       "       u'result : the mean ipss and mean age for male be 13.45\\xb18.24 and 75.03\\xb16.20 year , respectively .',\n",
       "       u'conclusion : the result indicate that much attention should be pay to unstable   weather condition in order to protect health .',\n",
       "       u'in plant , lodge due to storm or herbivory cause wound stress and consequently enhance endogenous jasmonate .',\n",
       "       u'elevated meja application hinder plant growth attribute under hs , cs and ot condition .',\n",
       "       u'under elevate co2 plant grow large , but contain little total protein / unit of leaf area .',\n",
       "       u'doi : 10.1097/01.naj.0000471240.46198.f1   pmid : 26312799   [ index for medline ]',\n",
       "       u'result : there be no statistically significant difference in height by birth month .',\n",
       "       u'result : of 968 eligible patient , 178 ( 18.4 % ) present with heat stroke .',\n",
       "       u'diverse abiotic and biotic stress have mark effect on plant growth and productivity .',\n",
       "       u'interestingly , avp1 and ovp1 overexpression result in hypersensitivity to menadione and cobalt .',\n",
       "       u'area select be disproportionately large for sdm run   on large grid size , indicate a cut - off point above which model result be little reliable .',\n",
       "       u'methane be the much significant ghg ( 70.6 % ) , follow by carbon dioxide ( 27.8 % ) and nitrous oxide ( 1.6 % ) .',\n",
       "       u'doi : 10.1016/j.marpolbul.2003.09.005   pmid : 14725890   [ indexed for medline ]'],\n",
       "      dtype='<U723')"
      ]
     },
     "execution_count": 240,
     "metadata": {},
     "output_type": "execute_result"
    }
   ],
   "source": [
    "np.array(sub_sentences)[m]"
   ]
  },
  {
   "cell_type": "code",
   "execution_count": 241,
   "metadata": {},
   "outputs": [
    {
     "data": {
      "text/plain": [
       "array([[0, 0, 0, 0, 0, 1, 0, 0, 0, 0, 0, 0, 0, 0, 0, 0, 0, 0, 0, 0, 0, 0,\n",
       "        0, 0, 0, 0, 0, 0, 0, 0, 0],\n",
       "       [0, 0, 0, 0, 0, 1, 0, 0, 0, 0, 0, 0, 0, 0, 0, 0, 0, 0, 0, 0, 0, 0,\n",
       "        0, 0, 0, 0, 0, 0, 0, 0, 0],\n",
       "       [0, 0, 0, 0, 0, 1, 0, 0, 0, 0, 0, 0, 0, 0, 0, 0, 0, 0, 0, 0, 0, 0,\n",
       "        0, 0, 0, 0, 0, 0, 0, 0, 0],\n",
       "       [0, 0, 0, 0, 0, 1, 0, 0, 0, 0, 0, 0, 0, 0, 0, 0, 0, 0, 0, 0, 0, 0,\n",
       "        0, 0, 0, 0, 0, 0, 0, 0, 0],\n",
       "       [0, 0, 0, 0, 0, 1, 0, 0, 0, 0, 0, 0, 0, 0, 0, 0, 0, 0, 0, 0, 0, 0,\n",
       "        0, 0, 0, 0, 0, 0, 0, 0, 0],\n",
       "       [0, 0, 0, 0, 0, 1, 0, 0, 0, 0, 0, 0, 0, 0, 0, 0, 0, 0, 0, 0, 0, 0,\n",
       "        0, 0, 0, 0, 0, 0, 0, 0, 0],\n",
       "       [0, 0, 0, 0, 0, 1, 0, 0, 0, 0, 0, 0, 0, 0, 0, 0, 0, 0, 0, 0, 0, 0,\n",
       "        0, 0, 0, 0, 0, 0, 0, 0, 0],\n",
       "       [0, 0, 0, 0, 0, 1, 0, 0, 0, 0, 0, 0, 0, 0, 0, 0, 0, 0, 0, 0, 0, 0,\n",
       "        0, 0, 0, 0, 0, 0, 0, 0, 0],\n",
       "       [0, 0, 0, 0, 0, 1, 0, 0, 0, 0, 0, 0, 0, 0, 0, 0, 0, 0, 0, 0, 0, 0,\n",
       "        0, 0, 0, 0, 0, 0, 0, 0, 0],\n",
       "       [0, 0, 0, 0, 0, 1, 0, 0, 0, 0, 0, 0, 0, 0, 0, 0, 0, 0, 0, 0, 0, 0,\n",
       "        0, 0, 0, 0, 0, 0, 0, 0, 0],\n",
       "       [0, 0, 0, 0, 0, 1, 0, 0, 0, 0, 0, 0, 0, 0, 0, 0, 0, 0, 0, 0, 0, 0,\n",
       "        0, 0, 0, 0, 0, 0, 0, 0, 0],\n",
       "       [0, 0, 0, 0, 0, 1, 0, 0, 0, 0, 0, 0, 0, 0, 0, 0, 0, 0, 0, 0, 0, 0,\n",
       "        0, 0, 0, 0, 0, 0, 0, 0, 0],\n",
       "       [0, 0, 0, 0, 0, 1, 0, 0, 0, 0, 0, 0, 0, 0, 0, 0, 0, 0, 0, 0, 0, 0,\n",
       "        0, 0, 0, 0, 0, 0, 0, 0, 0],\n",
       "       [0, 0, 0, 0, 0, 1, 0, 0, 0, 0, 0, 0, 0, 0, 0, 0, 0, 0, 0, 0, 0, 0,\n",
       "        0, 0, 0, 0, 0, 0, 0, 0, 0],\n",
       "       [0, 0, 0, 0, 0, 1, 0, 0, 0, 0, 0, 0, 0, 0, 0, 0, 0, 0, 0, 0, 0, 0,\n",
       "        0, 0, 0, 0, 0, 0, 0, 0, 0],\n",
       "       [0, 0, 0, 0, 0, 1, 0, 0, 0, 0, 0, 0, 0, 0, 0, 0, 0, 0, 0, 0, 0, 0,\n",
       "        0, 0, 0, 0, 0, 0, 0, 0, 0],\n",
       "       [0, 0, 0, 0, 0, 1, 0, 0, 0, 0, 0, 0, 0, 0, 0, 0, 0, 0, 0, 0, 0, 0,\n",
       "        0, 0, 0, 0, 0, 0, 0, 0, 0]], dtype=object)"
      ]
     },
     "execution_count": 241,
     "metadata": {},
     "output_type": "execute_result"
    }
   ],
   "source": [
    "X_sub[m]"
   ]
  },
  {
   "cell_type": "markdown",
   "metadata": {},
   "source": [
    ".. 별 구분 안되는데? 그럴수 밖에 없는 것이 이것은 문법을 기준으로 한 구분이다.  "
   ]
  },
  {
   "cell_type": "code",
   "execution_count": 302,
   "metadata": {},
   "outputs": [],
   "source": [
    "# 두 데이터를 합쳐서 해볼까 ? \n",
    "tsne = TSNE(random_state=0)\n",
    "x_train_sp_bow_tsne = tsne.fit_transform(x_train_sp_bow)"
   ]
  },
  {
   "cell_type": "code",
   "execution_count": 303,
   "metadata": {
    "collapsed": true
   },
   "outputs": [],
   "source": [
    "tsne = TSNE(random_state=0)\n",
    "x_allsent_pos_tsne = tsne.fit_transform(x_allsent_pos)"
   ]
  },
  {
   "cell_type": "code",
   "execution_count": 304,
   "metadata": {
    "collapsed": true
   },
   "outputs": [],
   "source": [
    "x = np.concatenate((x_allsent_pos_tsne,x_train_sp_bow_tsne),axis = 1)"
   ]
  },
  {
   "cell_type": "code",
   "execution_count": 305,
   "metadata": {
    "collapsed": true
   },
   "outputs": [],
   "source": [
    "tsne = TSNE(random_state=0)\n",
    "x_tsne = tsne.fit_transform(x)"
   ]
  },
  {
   "cell_type": "code",
   "execution_count": 306,
   "metadata": {
    "collapsed": true
   },
   "outputs": [],
   "source": [
    "from sklearn.cluster import KMeans\n",
    "km = KMeans(n_clusters=50,random_state=0)\n",
    "cluster = km.fit_predict(x_tsne)"
   ]
  },
  {
   "cell_type": "code",
   "execution_count": 307,
   "metadata": {},
   "outputs": [
    {
     "data": {
      "image/png": "[encoded data removed]",
      "text/plain": [
       "<matplotlib.figure.Figure at 0x7f2fd2802bd0>"
      ]
     },
     "metadata": {},
     "output_type": "display_data"
    }
   ],
   "source": [
    "plt.scatter(x_tsne[:,0],x_tsne[:,1],c=cluster,cmap='rainbow')\n",
    "for x,y in zip(km.cluster_centers_,range(0,km.cluster_centers_.shape[0])):\n",
    "    plt.text(x[0],x[1],y)"
   ]
  },
  {
   "cell_type": "code",
   "execution_count": 318,
   "metadata": {
    "collapsed": true
   },
   "outputs": [],
   "source": [
    "m = km.labels_ == 24"
   ]
  },
  {
   "cell_type": "code",
   "execution_count": 319,
   "metadata": {},
   "outputs": [
    {
     "data": {
      "text/plain": [
       "array([[0, 0, 0, ..., 0, 0, 0],\n",
       "       [0, 0, 0, ..., 0, 0, 0],\n",
       "       [0, 0, 0, ..., 0, 0, 0],\n",
       "       ..., \n",
       "       [0, 0, 0, ..., 0, 0, 0],\n",
       "       [0, 0, 0, ..., 0, 0, 0],\n",
       "       [0, 0, 0, ..., 0, 0, 0]])"
      ]
     },
     "execution_count": 319,
     "metadata": {},
     "output_type": "execute_result"
    }
   ],
   "source": [
    "x_train_sp_bow[m]"
   ]
  },
  {
   "cell_type": "code",
   "execution_count": 320,
   "metadata": {
    "scrolled": false
   },
   "outputs": [
    {
     "data": {
      "text/plain": [
       "array([ u'This study aimed to examine the association between daily mean temperature and AKI and identify high-risk subgroups in this association.',\n",
       "       u'Information regarding the relationship between the incidence of foodborne diseases (FBD) and climatic factors is useful in designing preventive strategies  for FBD based on anticipated future climate change.',\n",
       "       u'We estimated city-specific hazard ratios for each city using an extended Cox proportional hazards model with time-dependent covariates.',\n",
       "       u'Workers in the heat-exposure risk group are defined as workers who work in conditions that cause them to spend more than 25% of their work hours at high temperatures.',\n",
       "       u'As a price effect that lowers the endowment effect, the compensating differential for the heat-exposure  risk group was found to be 1%.',\n",
       "       u'Six individuals shared haplotypes with a group found in Taiwan-southern Ryukyu Islands, while the remaining six individuals shared haplotypes with a group encompassing the entire Ryukyu Archipelago.',\n",
       "       u'However, future changes in TC activity under a warmer climate remain uncertain, particularly in terms of TC genesis locations and subsequent pathways.',\n",
       "       u'In addition, these provide additional supports for growing evidence that microbial diversity or composition in the bioaerosol is an  indispensable environmental aspect linking with public health.',\n",
       "       u'To address climate change and environmental problems, it is becoming increasingly important to establish biorefineries for the production of chemicals from renewable non-food biomass.',\n",
       "       u'Longer time series of variables needed to  provide top-down and bottom-up assessments of the carbon cycle are needed to resolve these pressing and unresolved issues regarding how, why, and at what rates gross and net carbon fluxes are changing.',\n",
       "       u'The risk  was estimated according to increases in the daily all-cause, cardiovascular and respiratory mortality per 1\\xb0C change in daily temperature above the threshold, using a generalised additive model.',\n",
       "       u'Combined with anthropogenic changes in the chemical environment, changes in developmental outcomes may affect adult functionality.',\n",
       "       u'In 2090s, South Korea could experience a four- to six-time increase in temperature-related mortality compared to that during 1992-2010 under four different RCP scenarios and three different fertility variants, while the mortality is estimated to increase only by 0.5 to 1.5 times assuming no population aging.',\n",
       "       u'Korea Meteorological Administration data was used to determine daily average temperature and daily temperature difference on the interview dates at each site.',\n",
       "       u'OBJECTIVE: The purpose of this study was to evaluate the effect of Asian dust events on asthma exacerbation by socioeconomic status using national health insurance claims data.',\n",
       "       u'We use these four presentations as a springboard to vigorous discussion on issues related to Food Safety in Asia.',\n",
       "       u'To estimate the TDI effects on elderly mortality, we used generalized linear modeling with a Poisson distribution after adjusting for apparent temperature, barometric pressure, day of the week, and time trend.',\n",
       "       u'Most cold-tolerant evergreen broadleaved woody plants (shortened to cold-evergreens below) are rare species occurring in a few sites in the alpine and subalpine zones in the Korean Peninsula.',\n",
       "       u'A northward and upper-elevational range shift indicates change in species composition at the alpine and subalpine ecosystems in the Korean Peninsula.',\n",
       "       u'This study estimated the effect of birth month and season on terminal height by analyzing the population of a country with only a few factors driving its climate.',\n",
       "       u'Creating environments in which food prices are stable and reliable, and markets are accessible and safe, can lower the impacts of both climate change and conflict feedbacks.',\n",
       "       u'Prevention-related policies must account for both particular vulnerabilities (heat-sensitive diseases with high RRs) and the major causes of the heat mortality burden (common conditions less sensitive to high temperatures).',\n",
       "       u'Although several fossils from the Miocene sediments in eastern Asia have been considered to have close affinities with the  modern S. sempervirens, they lack the typical features of a leafy twig bearing linear as well as scale leaves, and the fertile shoots terminating by a cone.',\n",
       "       u'The warm-temperate regions of the globe characterized by dry summers and wet winters (Mediterranean climate; MED) are especially vulnerable to climate change.',\n",
       "       u'The objective of this study was to determine the association between outdoor temperature change and asthma-related emergency department visits.',\n",
       "       u'This review deals with not only these environmental factors and genetic factors but also their interactions in the development of allergic diseases.',\n",
       "       u'The construction of the embankment influenced surrounding temperatures.',\n",
       "       u'Water temperature is expected to increase in many parts of the world due to global climate change.',\n",
       "       u'The results of this study are expected to provide policy makers with realistic approaches to formulate climatic change-related policies.',\n",
       "       u'The projected yields were determined to increase as latitude increases due to reduced temperature effects,  showing the highest increase for any of the study locations (+24%) in Harbin, China.',\n",
       "       u'The goal of this study  was to evaluate the association between outdoor temperature and traumatic and nontraumatic injury using emergency ambulance delivery.',\n",
       "       u'Using a generalized additive model, we examined the association between outdoor temperatures and injuries in Korea from 2006 to 2008, adjusting for confounders such as relative humidity, day of the week, and long-term time trends.',\n",
       "       u'A random effects model was used to estimate combined effects across all areas.',\n",
       "       u'Changes in the body temperature, systolic blood pressure (SBP) and diastolic blood pressure (DBP) according to variations in the indoor and outdoor temperature and humidity  were analyzed using a repeated-measures ANOVA controlling for age, sex, alcohol,  and smoking.',\n",
       "       u'Body temperature increased by  0.21\\u2103 (95% confidence interval [CI], 0.16 to 0.26\\u2103) and 0.07\\u2103 (95% CI, 0.04 to 0.10\\u2103) with an increase in the indoor and outdoor temperature of 1\\u2103.',\n",
       "       u'SBP decreased by 1.75 mmHg (95% CI, -1.11 to 4.61 mmHg) and 0.35 mmHg (95% CI, -1.04 to 1.73 mmHg), as the indoor and outdoor temperature increased by 1\\u2103, respectively.',\n",
       "       u'We conducted experiments in a greenhouse to confirm the responses of the plants to increased temperatures, and we found consistently higher growth rates under conditions of higher temperatures.',\n",
       "       u'Our study demonstrates that even  small temperature changes in the environment can confer significant competitive advantages to invasive species.',\n",
       "       u'METHODS: We adopted temperature, perceived temperature (PT), and apparent temperature (AT), as a heat stress index, and changes in the risk of death for Seoul and Daegu were estimated with 1\\u2103 increases in those temperature indexes using generalized additive model (GAM) adjusted for the non-temperature related factors: time trends, seasonality, and air pollution.',\n",
       "       u'Owing to our increasing concerns on the environment, climate change, and limited  natural resources, there has recently been considerable effort exerted to produce chemicals and materials from renewable biomass.',\n",
       "       u'METHODS: Scrub typhus, hemorrhagic fever with renal syndrome (HFRS), leptospirosis, malaria and Vibrio vulnificus sepsis among the National Notifiable Infectious Diseases were selected as the climate change-related infectious diseases.',\n",
       "       u'As a consequence of warming temperatures around the world, spring and autumn phenologies have been shifting, with corresponding changes in the length of the growing season.',\n",
       "       u'The increase of T-N load was from the increase of subsurface lateral flows and the groundwater recharges by the future rainfall increase.',\n",
       "       u'Changes in the abundance rank of each species between the two periods were evaluated to determine whether any patterns corresponded to the predicted temporal changes.',\n",
       "       u'Global environmental change poses emerging environmental health challenges throughout the world.',\n",
       "       u'Extreme ambient temperature has been associated with increased daily mortality across the world.',\n",
       "       u'The results of this study show that the North American boreal ecosystem is sensitive  to historical patterns of increasing atmospheric CO2, climate change and regional fire activity.'],\n",
       "      dtype='<U726')"
      ]
     },
     "execution_count": 320,
     "metadata": {},
     "output_type": "execute_result"
    }
   ],
   "source": [
    "np.array(sentences)[m]"
   ]
  },
  {
   "cell_type": "code",
   "execution_count": 321,
   "metadata": {},
   "outputs": [
    {
     "data": {
      "text/html": [
       "<div>\n",
       "<style>\n",
       "    .dataframe thead tr:only-child th {\n",
       "        text-align: right;\n",
       "    }\n",
       "\n",
       "    .dataframe thead th {\n",
       "        text-align: left;\n",
       "    }\n",
       "\n",
       "    .dataframe tbody tr th {\n",
       "        vertical-align: top;\n",
       "    }\n",
       "</style>\n",
       "<table border=\"1\" class=\"dataframe\">\n",
       "  <thead>\n",
       "    <tr style=\"text-align: right;\">\n",
       "      <th></th>\n",
       "      <th>CD-VB-VBN</th>\n",
       "      <th>DT-JJ-NN</th>\n",
       "      <th>DT-NN-VBZ</th>\n",
       "      <th>DT-NNP-NNP</th>\n",
       "      <th>IN-DT-NN</th>\n",
       "      <th>IN-NN</th>\n",
       "      <th>IN-NN-NNS</th>\n",
       "      <th>MD-PRP-VB</th>\n",
       "      <th>MD-VB-CD</th>\n",
       "      <th>MD-VB-VBN</th>\n",
       "      <th>...</th>\n",
       "      <th>VB-VBN-IN</th>\n",
       "      <th>VBZ-DT-JJ</th>\n",
       "      <th>VBZ-DT-NN</th>\n",
       "      <th>VBZ-NNP</th>\n",
       "      <th>WP-VBZ</th>\n",
       "      <th>WP-VBZ-DT</th>\n",
       "      <th>WP-VBZ-NNP</th>\n",
       "      <th>WRB-MD</th>\n",
       "      <th>WRB-MD-VB</th>\n",
       "      <th>id</th>\n",
       "    </tr>\n",
       "  </thead>\n",
       "  <tbody>\n",
       "    <tr>\n",
       "      <th>57</th>\n",
       "      <td>0</td>\n",
       "      <td>0</td>\n",
       "      <td>0</td>\n",
       "      <td>0</td>\n",
       "      <td>1</td>\n",
       "      <td>0</td>\n",
       "      <td>0</td>\n",
       "      <td>0</td>\n",
       "      <td>0</td>\n",
       "      <td>0</td>\n",
       "      <td>...</td>\n",
       "      <td>0</td>\n",
       "      <td>0</td>\n",
       "      <td>0</td>\n",
       "      <td>0</td>\n",
       "      <td>0</td>\n",
       "      <td>0</td>\n",
       "      <td>0</td>\n",
       "      <td>0</td>\n",
       "      <td>0</td>\n",
       "      <td>57</td>\n",
       "    </tr>\n",
       "    <tr>\n",
       "      <th>212</th>\n",
       "      <td>0</td>\n",
       "      <td>0</td>\n",
       "      <td>0</td>\n",
       "      <td>0</td>\n",
       "      <td>1</td>\n",
       "      <td>0</td>\n",
       "      <td>0</td>\n",
       "      <td>0</td>\n",
       "      <td>0</td>\n",
       "      <td>0</td>\n",
       "      <td>...</td>\n",
       "      <td>0</td>\n",
       "      <td>0</td>\n",
       "      <td>0</td>\n",
       "      <td>0</td>\n",
       "      <td>0</td>\n",
       "      <td>0</td>\n",
       "      <td>0</td>\n",
       "      <td>0</td>\n",
       "      <td>0</td>\n",
       "      <td>212</td>\n",
       "    </tr>\n",
       "    <tr>\n",
       "      <th>236</th>\n",
       "      <td>0</td>\n",
       "      <td>0</td>\n",
       "      <td>0</td>\n",
       "      <td>0</td>\n",
       "      <td>1</td>\n",
       "      <td>0</td>\n",
       "      <td>0</td>\n",
       "      <td>0</td>\n",
       "      <td>0</td>\n",
       "      <td>0</td>\n",
       "      <td>...</td>\n",
       "      <td>0</td>\n",
       "      <td>0</td>\n",
       "      <td>0</td>\n",
       "      <td>0</td>\n",
       "      <td>0</td>\n",
       "      <td>0</td>\n",
       "      <td>0</td>\n",
       "      <td>0</td>\n",
       "      <td>0</td>\n",
       "      <td>236</td>\n",
       "    </tr>\n",
       "    <tr>\n",
       "      <th>270</th>\n",
       "      <td>0</td>\n",
       "      <td>0</td>\n",
       "      <td>0</td>\n",
       "      <td>0</td>\n",
       "      <td>1</td>\n",
       "      <td>0</td>\n",
       "      <td>0</td>\n",
       "      <td>0</td>\n",
       "      <td>0</td>\n",
       "      <td>0</td>\n",
       "      <td>...</td>\n",
       "      <td>0</td>\n",
       "      <td>0</td>\n",
       "      <td>0</td>\n",
       "      <td>0</td>\n",
       "      <td>0</td>\n",
       "      <td>0</td>\n",
       "      <td>0</td>\n",
       "      <td>0</td>\n",
       "      <td>0</td>\n",
       "      <td>270</td>\n",
       "    </tr>\n",
       "    <tr>\n",
       "      <th>274</th>\n",
       "      <td>0</td>\n",
       "      <td>0</td>\n",
       "      <td>1</td>\n",
       "      <td>0</td>\n",
       "      <td>2</td>\n",
       "      <td>0</td>\n",
       "      <td>0</td>\n",
       "      <td>0</td>\n",
       "      <td>0</td>\n",
       "      <td>0</td>\n",
       "      <td>...</td>\n",
       "      <td>0</td>\n",
       "      <td>0</td>\n",
       "      <td>1</td>\n",
       "      <td>0</td>\n",
       "      <td>0</td>\n",
       "      <td>0</td>\n",
       "      <td>0</td>\n",
       "      <td>0</td>\n",
       "      <td>0</td>\n",
       "      <td>274</td>\n",
       "    </tr>\n",
       "  </tbody>\n",
       "</table>\n",
       "<p>5 rows × 32 columns</p>\n",
       "</div>"
      ],
      "text/plain": [
       "     CD-VB-VBN  DT-JJ-NN  DT-NN-VBZ  DT-NNP-NNP  IN-DT-NN  IN-NN  IN-NN-NNS  \\\n",
       "57           0         0          0           0         1      0          0   \n",
       "212          0         0          0           0         1      0          0   \n",
       "236          0         0          0           0         1      0          0   \n",
       "270          0         0          0           0         1      0          0   \n",
       "274          0         0          1           0         2      0          0   \n",
       "\n",
       "     MD-PRP-VB  MD-VB-CD  MD-VB-VBN ...   VB-VBN-IN  VBZ-DT-JJ  VBZ-DT-NN  \\\n",
       "57           0         0          0 ...           0          0          0   \n",
       "212          0         0          0 ...           0          0          0   \n",
       "236          0         0          0 ...           0          0          0   \n",
       "270          0         0          0 ...           0          0          0   \n",
       "274          0         0          0 ...           0          0          1   \n",
       "\n",
       "     VBZ-NNP  WP-VBZ  WP-VBZ-DT  WP-VBZ-NNP  WRB-MD  WRB-MD-VB   id  \n",
       "57         0       0          0           0       0          0   57  \n",
       "212        0       0          0           0       0          0  212  \n",
       "236        0       0          0           0       0          0  236  \n",
       "270        0       0          0           0       0          0  270  \n",
       "274        0       0          0           0       0          0  274  \n",
       "\n",
       "[5 rows x 32 columns]"
      ]
     },
     "execution_count": 321,
     "metadata": {},
     "output_type": "execute_result"
    }
   ],
   "source": [
    "df_allsent_pos[m].head()"
   ]
  },
  {
   "cell_type": "code",
   "execution_count": 322,
   "metadata": {},
   "outputs": [
    {
     "data": {
      "text/plain": [
       "('preposition or conjunction, subordinating',\n",
       " 'astride among uppon whether out inside pro despite on by throughout below within for towards near behind atop around if like until below next into if beside ... ')"
      ]
     },
     "execution_count": 322,
     "metadata": {},
     "output_type": "execute_result"
    }
   ],
   "source": [
    "tagdict['IN'] # 전치사, 접속사 "
   ]
  },
  {
   "cell_type": "code",
   "execution_count": 323,
   "metadata": {},
   "outputs": [
    {
     "data": {
      "text/plain": [
       "('determiner',\n",
       " 'all an another any both del each either every half la many much nary neither no some such that the them these this those ')"
      ]
     },
     "execution_count": 323,
     "metadata": {},
     "output_type": "execute_result"
    }
   ],
   "source": [
    "tagdict['DT'] # 한정사 "
   ]
  },
  {
   "cell_type": "code",
   "execution_count": 324,
   "metadata": {},
   "outputs": [
    {
     "data": {
      "text/plain": [
       "('noun, common, singular or mass',\n",
       " 'common-carrier cabbage knuckle-duster Casino afghan shed thermostat investment slide humour falloff slick wind hyena override subhumanity machinist ... ')"
      ]
     },
     "execution_count": 324,
     "metadata": {},
     "output_type": "execute_result"
    }
   ],
   "source": [
    "tagdict['NN'] # 명사 "
   ]
  },
  {
   "cell_type": "code",
   "execution_count": null,
   "metadata": {
    "collapsed": true
   },
   "outputs": [],
   "source": []
  }
 ],
 "metadata": {
  "kernelspec": {
   "display_name": "Python [default]",
   "language": "python",
   "name": "python2"
  },
  "language_info": {
   "codemirror_mode": {
    "name": "ipython",
    "version": 2
   },
   "file_extension": ".py",
   "mimetype": "text/x-python",
   "name": "python",
   "nbconvert_exporter": "python",
   "pygments_lexer": "ipython2",
   "version": "2.7.13"
  }
 },
 "nbformat": 4,
 "nbformat_minor": 2
}
