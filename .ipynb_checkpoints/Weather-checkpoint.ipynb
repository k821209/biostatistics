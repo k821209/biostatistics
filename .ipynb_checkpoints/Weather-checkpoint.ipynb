{
 "cells": [
  {
   "cell_type": "code",
   "execution_count": 1,
   "metadata": {
    "collapsed": true
   },
   "outputs": [],
   "source": [
    "import json\n",
    "import requests"
   ]
  },
  {
   "cell_type": "code",
   "execution_count": 29,
   "metadata": {
    "collapsed": true
   },
   "outputs": [],
   "source": [
    "#params = {\"version\": \"1\", \"city\":\"경상남도\", \"county\":\"진주시\",\"village\":\"충무공동\"} \n",
    "params  = {\"version\": \"1\", \"city\":\"서울\", \"county\":\"강남구\",\"village\":\"도곡동\"}\n",
    "headers = {\"appKey\": \"614d471a-71f7-3306-b07b-4742b862f3ec\"}\n",
    "r       = requests.get(\"http://apis.skplanetx.com/weather/current/hourly\", params=params, headers=headers)\n",
    "data    = json.loads(r.text)"
   ]
  },
  {
   "cell_type": "code",
   "execution_count": 31,
   "metadata": {},
   "outputs": [
    {
     "name": "stdout",
     "output_type": "stream",
     "text": [
      "오늘의 날씨 2017-09-04 23:00:00 기준 하늘은 '흐림'상태이고 풍속은0.60이고 기온은 22.20입니다.\n"
     ]
    }
   ],
   "source": [
    "weather = data[\"weather\"][\"hourly\"]\n",
    "cTime = weather[0][\"timeRelease\"]\n",
    "cSky = weather[0][\"sky\"][\"name\"]\n",
    "cWind = weather[0][\"wind\"][\"wspd\"]\n",
    "cTemp = weather[0][\"temperature\"][\"tc\"]\n",
    "\n",
    "#종합하면 \n",
    "cWeather = \"오늘의 날씨 \"+cTime+\" 기준 하늘은 '\" +cSky+ \"'상태이고 풍속은\" + cWind + \"이고 기온은 \" + cTemp + \"입니다.\"\n",
    "print(cWeather)\n",
    "#[출처] [파이썬] SKPlanet 오픈 API 날씨정보 이용하기|작성자 코스모스"
   ]
  },
  {
   "cell_type": "code",
   "execution_count": null,
   "metadata": {
    "collapsed": true
   },
   "outputs": [],
   "source": []
  }
 ],
 "metadata": {
  "kernelspec": {
   "display_name": "Python 3",
   "language": "python",
   "name": "python3"
  },
  "language_info": {
   "codemirror_mode": {
    "name": "ipython",
    "version": 3
   },
   "file_extension": ".py",
   "mimetype": "text/x-python",
   "name": "python",
   "nbconvert_exporter": "python",
   "pygments_lexer": "ipython3",
   "version": "3.4.3"
  }
 },
 "nbformat": 4,
 "nbformat_minor": 2
}
